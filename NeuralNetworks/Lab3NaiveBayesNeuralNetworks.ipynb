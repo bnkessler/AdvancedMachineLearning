{
 "cells": [
  {
   "cell_type": "raw",
   "id": "dd7714fb-43d5-4899-b12d-5b4b340a3d92",
   "metadata": {},
   "source": [
    "---\n",
    "title: \"Lab 3: Naive Bayes and Neural Networks\"\n",
    "author: \"Ben Kessler\"\n",
    "date: \"4/24/24\"\n",
    "output: html\n",
    "self-contained: true\n",
    "toc: true\n",
    "theme: cosmo\n",
    "echo: true\n",
    "---"
   ]
  },
  {
   "cell_type": "code",
   "execution_count": 1,
   "id": "b291b49b-a11e-46f8-85e5-fd9ef3f41a06",
   "metadata": {
    "tags": []
   },
   "outputs": [],
   "source": [
    "#| echo: False\n",
    "import pandas as pd\n",
    "import numpy as np\n",
    "from sklearn.pipeline import Pipeline\n",
    "from sklearn.compose import make_column_selector, ColumnTransformer\n",
    "from sklearn.preprocessing import StandardScaler, OneHotEncoder, LabelEncoder\n",
    "from sklearn.model_selection import train_test_split, cross_val_score, GridSearchCV\n",
    "from sklearn.metrics import confusion_matrix, matthews_corrcoef\n"
   ]
  }
 ],
 "metadata": {
  "kernelspec": {
   "display_name": "Python 3 (ipykernel)",
   "language": "python",
   "name": "python3"
  },
  "language_info": {
   "codemirror_mode": {
    "name": "ipython",
    "version": 3
   },
   "file_extension": ".py",
   "mimetype": "text/x-python",
   "name": "python",
   "nbconvert_exporter": "python",
   "pygments_lexer": "ipython3",
   "version": "3.11.4"
  }
 },
 "nbformat": 4,
 "nbformat_minor": 5
}
