{
 "cells": [
  {
   "cell_type": "markdown",
   "id": "44b43caf-2681-4b58-8a42-d6c39d833efc",
   "metadata": {},
   "source": [
    "# Lab 5: Recurrent Neural Networks"
   ]
  },
  {
   "cell_type": "raw",
   "id": "971d94e6-5571-4755-8f0e-40460af293a6",
   "metadata": {},
   "source": [
    "---\n",
    "author: \"Ben Kessler\"\n",
    "date: \"5/19/24\"\n",
    "output: html\n",
    "self-contained: true\n",
    "toc: true\n",
    "theme: cosmo\n",
    "echo: true\n",
    "---"
   ]
  },
  {
   "cell_type": "code",
   "execution_count": 2,
   "id": "99a4817f-4f8a-420b-b590-e4ecb38ccec8",
   "metadata": {
    "tags": []
   },
   "outputs": [
    {
     "name": "stderr",
     "output_type": "stream",
     "text": [
      "2024-05-19 10:47:58.830425: I tensorflow/core/platform/cpu_feature_guard.cc:210] This TensorFlow binary is optimized to use available CPU instructions in performance-critical operations.\n",
      "To enable the following instructions: AVX2 FMA, in other operations, rebuild TensorFlow with the appropriate compiler flags.\n"
     ]
    }
   ],
   "source": [
    "#| echo: False\n",
    "#| warning: False\n",
    "import pandas as pd\n",
    "import numpy as np\n",
    "from keras.models import Sequential\n",
    "from keras.layers import Dense, SimpleRNN, LSTM\n",
    "from sklearn import preprocessing\n",
    "from sklearn.preprocessing import MinMaxScaler\n",
    "from sklearn.metrics import mean_squared_error\n",
    "import math\n",
    "import matplotlib.pyplot as plt\n",
    "from plotnine import ggplot, geom_point, geom_smooth, aes, stat_smooth, geom_line, xlim, ylim"
   ]
  },
  {
   "cell_type": "markdown",
   "id": "6920329b-6948-4e38-a559-6602f3b0e852",
   "metadata": {
    "tags": []
   },
   "source": [
    "## Data"
   ]
  },
  {
   "cell_type": "markdown",
   "id": "5d9ab4a2-d20f-403c-9bfa-8d2f6481d7be",
   "metadata": {},
   "source": [
    "For this lab we will be predicting the open price in USD."
   ]
  },
  {
   "cell_type": "code",
   "execution_count": 34,
   "id": "3516e7d9-b6c7-4953-9535-9740ff9a6098",
   "metadata": {
    "tags": []
   },
   "outputs": [],
   "source": [
    "def create_dataset(dataset, look_back=1):\n",
    "    X, y = [], []\n",
    "    for i in range(len(dataset)-look_back-1):\n",
    "        X.append(dataset[i:(i+look_back), 0])\n",
    "        y.append(dataset[i + look_back, 0])\n",
    "    return np.array(X), np.array(y)"
   ]
  },
  {
   "cell_type": "code",
   "execution_count": 42,
   "id": "05aa476b-2fd6-4654-9345-773995d6600c",
   "metadata": {
    "tags": []
   },
   "outputs": [
    {
     "data": {
      "text/html": [
       "<div>\n",
       "<style scoped>\n",
       "    .dataframe tbody tr th:only-of-type {\n",
       "        vertical-align: middle;\n",
       "    }\n",
       "\n",
       "    .dataframe tbody tr th {\n",
       "        vertical-align: top;\n",
       "    }\n",
       "\n",
       "    .dataframe thead th {\n",
       "        text-align: right;\n",
       "    }\n",
       "</style>\n",
       "<table border=\"1\" class=\"dataframe\">\n",
       "  <thead>\n",
       "    <tr style=\"text-align: right;\">\n",
       "      <th></th>\n",
       "      <th>open_USD</th>\n",
       "    </tr>\n",
       "  </thead>\n",
       "  <tbody>\n",
       "    <tr>\n",
       "      <th>0</th>\n",
       "      <td>9661.02</td>\n",
       "    </tr>\n",
       "    <tr>\n",
       "      <th>1</th>\n",
       "      <td>9365.00</td>\n",
       "    </tr>\n",
       "    <tr>\n",
       "      <th>2</th>\n",
       "      <td>9178.00</td>\n",
       "    </tr>\n",
       "    <tr>\n",
       "      <th>3</th>\n",
       "      <td>9310.00</td>\n",
       "    </tr>\n",
       "    <tr>\n",
       "      <th>4</th>\n",
       "      <td>9002.21</td>\n",
       "    </tr>\n",
       "  </tbody>\n",
       "</table>\n",
       "</div>"
      ],
      "text/plain": [
       "   open_USD\n",
       "0   9661.02\n",
       "1   9365.00\n",
       "2   9178.00\n",
       "3   9310.00\n",
       "4   9002.21"
      ]
     },
     "execution_count": 42,
     "metadata": {},
     "output_type": "execute_result"
    }
   ],
   "source": [
    "data = pd.read_csv(\"/Users/ben/Documents/GitHub/AdvancedMachineLearning/Data/BitcoinData/dc.csv\")\n",
    "data = data.iloc[::-1].reset_index(drop=True) # Reverse the order of the dataframe so that the newest dates are at the end of the dataset instead of the beginning\n",
    "data = data[[\"open_USD\"]]\n",
    "data.head()"
   ]
  },
  {
   "cell_type": "markdown",
   "id": "93b8b2a8-a4ec-4f04-bd58-b97438c95235",
   "metadata": {
    "tags": []
   },
   "source": [
    "## RNN Model Set 1 - 80/20 Split, 1 Day Lookback"
   ]
  },
  {
   "cell_type": "markdown",
   "id": "320b835e-adf3-48e6-a830-b56d64575b36",
   "metadata": {},
   "source": [
    "First we will start by preparing the dataset and splitting into training and testing sets. For this first set of models, we will begin with an 80/20 test training split and a 1 day lookback value. We will explore a simple RNN Model and a LSTM Model. I have also silenced the outputs of each model during training so that it does not take up a large amount of the document."
   ]
  },
  {
   "cell_type": "markdown",
   "id": "b797d2cc-346f-411f-9e86-8e093aed9008",
   "metadata": {
    "tags": []
   },
   "source": [
    "### Simple RNN Model"
   ]
  },
  {
   "cell_type": "code",
   "execution_count": 55,
   "id": "bab0fe22-cb6b-44ec-b16b-9d59d8788fc1",
   "metadata": {
    "tags": []
   },
   "outputs": [
    {
     "name": "stdout",
     "output_type": "stream",
     "text": [
      "800 200\n",
      "(798, 1) (198, 1)\n",
      "(798, 1, 1) (198, 1, 1)\n"
     ]
    }
   ],
   "source": [
    "scaler = MinMaxScaler(feature_range=(0, 1))\n",
    "scaled_data = scaler.fit_transform(data)\n",
    "\n",
    "# Train test split of 80/20\n",
    "train_size = int(len(scaled_data) * .8)\n",
    "test_size = len(scaled_data) - train_size\n",
    "train, test = scaled_data[0:train_size], scaled_data[train_size:]\n",
    "print(len(train), len(test))\n",
    "\n",
    "# Reshape dataset to X = t and y = t+1\n",
    "# Look back 1 day\n",
    "look_back = 1\n",
    "X_train, y_train = create_dataset(train, look_back)\n",
    "X_test, y_test = create_dataset(test, look_back)\n",
    "print(X_train.shape, X_test.shape)\n",
    "\n",
    "X_train = np.reshape(X_train, (X_train.shape[0], 1, X_train.shape[1]))\n",
    "X_test = np.reshape(X_test, (X_test.shape[0], 1, X_test.shape[1]))\n",
    "print(X_train.shape, X_test.shape)"
   ]
  },
  {
   "cell_type": "code",
   "execution_count": 56,
   "id": "b5344f0a-3eb8-455d-bc17-8c7705c1fbc2",
   "metadata": {
    "collapsed": true,
    "jupyter": {
     "outputs_hidden": true
    },
    "tags": []
   },
   "outputs": [
    {
     "name": "stdout",
     "output_type": "stream",
     "text": [
      "Epoch 1/100\n"
     ]
    },
    {
     "name": "stderr",
     "output_type": "stream",
     "text": [
      "/Users/ben/anaconda3/lib/python3.11/site-packages/keras/src/layers/rnn/rnn.py:204: UserWarning: Do not pass an `input_shape`/`input_dim` argument to a layer. When using Sequential models, prefer using an `Input(shape)` object as the first layer in the model instead.\n"
     ]
    },
    {
     "name": "stdout",
     "output_type": "stream",
     "text": [
      "798/798 - 2s - 3ms/step - loss: 0.0015 - mean_squared_error: 0.0015\n",
      "Epoch 2/100\n",
      "798/798 - 1s - 993us/step - loss: 7.5321e-05 - mean_squared_error: 7.5321e-05\n",
      "Epoch 3/100\n",
      "798/798 - 1s - 1ms/step - loss: 7.4875e-05 - mean_squared_error: 7.4875e-05\n",
      "Epoch 4/100\n",
      "798/798 - 1s - 987us/step - loss: 7.8542e-05 - mean_squared_error: 7.8542e-05\n",
      "Epoch 5/100\n",
      "798/798 - 1s - 997us/step - loss: 8.0134e-05 - mean_squared_error: 8.0134e-05\n",
      "Epoch 6/100\n",
      "798/798 - 1s - 991us/step - loss: 7.9994e-05 - mean_squared_error: 7.9994e-05\n",
      "Epoch 7/100\n",
      "798/798 - 1s - 987us/step - loss: 8.0956e-05 - mean_squared_error: 8.0956e-05\n",
      "Epoch 8/100\n",
      "798/798 - 1s - 992us/step - loss: 8.5768e-05 - mean_squared_error: 8.5768e-05\n",
      "Epoch 9/100\n",
      "798/798 - 1s - 988us/step - loss: 8.2320e-05 - mean_squared_error: 8.2320e-05\n",
      "Epoch 10/100\n",
      "798/798 - 1s - 989us/step - loss: 7.7620e-05 - mean_squared_error: 7.7620e-05\n",
      "Epoch 11/100\n",
      "798/798 - 1s - 995us/step - loss: 8.2691e-05 - mean_squared_error: 8.2691e-05\n",
      "Epoch 12/100\n",
      "798/798 - 1s - 981us/step - loss: 8.2361e-05 - mean_squared_error: 8.2361e-05\n",
      "Epoch 13/100\n",
      "798/798 - 1s - 985us/step - loss: 7.8693e-05 - mean_squared_error: 7.8693e-05\n",
      "Epoch 14/100\n",
      "798/798 - 1s - 991us/step - loss: 7.6980e-05 - mean_squared_error: 7.6980e-05\n",
      "Epoch 15/100\n",
      "798/798 - 1s - 990us/step - loss: 8.1368e-05 - mean_squared_error: 8.1368e-05\n",
      "Epoch 16/100\n",
      "798/798 - 1s - 991us/step - loss: 8.2142e-05 - mean_squared_error: 8.2142e-05\n",
      "Epoch 17/100\n",
      "798/798 - 1s - 994us/step - loss: 7.6199e-05 - mean_squared_error: 7.6199e-05\n",
      "Epoch 18/100\n",
      "798/798 - 1s - 990us/step - loss: 7.7995e-05 - mean_squared_error: 7.7995e-05\n",
      "Epoch 19/100\n",
      "798/798 - 1s - 987us/step - loss: 7.6380e-05 - mean_squared_error: 7.6380e-05\n",
      "Epoch 20/100\n",
      "798/798 - 1s - 993us/step - loss: 7.7900e-05 - mean_squared_error: 7.7900e-05\n",
      "Epoch 21/100\n",
      "798/798 - 1s - 994us/step - loss: 8.0378e-05 - mean_squared_error: 8.0378e-05\n",
      "Epoch 22/100\n",
      "798/798 - 1s - 1ms/step - loss: 7.4804e-05 - mean_squared_error: 7.4804e-05\n",
      "Epoch 23/100\n",
      "798/798 - 1s - 1ms/step - loss: 7.7129e-05 - mean_squared_error: 7.7129e-05\n",
      "Epoch 24/100\n",
      "798/798 - 1s - 1ms/step - loss: 8.0314e-05 - mean_squared_error: 8.0314e-05\n",
      "Epoch 25/100\n",
      "798/798 - 1s - 991us/step - loss: 7.4831e-05 - mean_squared_error: 7.4831e-05\n",
      "Epoch 26/100\n",
      "798/798 - 1s - 992us/step - loss: 7.4614e-05 - mean_squared_error: 7.4614e-05\n",
      "Epoch 27/100\n",
      "798/798 - 1s - 996us/step - loss: 8.0983e-05 - mean_squared_error: 8.0983e-05\n",
      "Epoch 28/100\n",
      "798/798 - 1s - 991us/step - loss: 7.6975e-05 - mean_squared_error: 7.6975e-05\n",
      "Epoch 29/100\n",
      "798/798 - 1s - 1ms/step - loss: 7.7138e-05 - mean_squared_error: 7.7138e-05\n",
      "Epoch 30/100\n",
      "798/798 - 1s - 993us/step - loss: 7.5021e-05 - mean_squared_error: 7.5021e-05\n",
      "Epoch 31/100\n",
      "798/798 - 1s - 991us/step - loss: 7.7249e-05 - mean_squared_error: 7.7249e-05\n",
      "Epoch 32/100\n",
      "798/798 - 1s - 995us/step - loss: 7.5623e-05 - mean_squared_error: 7.5623e-05\n",
      "Epoch 33/100\n",
      "798/798 - 1s - 997us/step - loss: 7.5230e-05 - mean_squared_error: 7.5230e-05\n",
      "Epoch 34/100\n",
      "798/798 - 1s - 991us/step - loss: 7.7414e-05 - mean_squared_error: 7.7414e-05\n",
      "Epoch 35/100\n",
      "798/798 - 1s - 991us/step - loss: 7.4426e-05 - mean_squared_error: 7.4426e-05\n",
      "Epoch 36/100\n",
      "798/798 - 1s - 991us/step - loss: 7.8461e-05 - mean_squared_error: 7.8461e-05\n",
      "Epoch 37/100\n",
      "798/798 - 1s - 990us/step - loss: 7.1494e-05 - mean_squared_error: 7.1494e-05\n",
      "Epoch 38/100\n",
      "798/798 - 1s - 993us/step - loss: 7.5403e-05 - mean_squared_error: 7.5403e-05\n",
      "Epoch 39/100\n",
      "798/798 - 1s - 990us/step - loss: 7.4936e-05 - mean_squared_error: 7.4936e-05\n",
      "Epoch 40/100\n",
      "798/798 - 1s - 993us/step - loss: 7.3563e-05 - mean_squared_error: 7.3563e-05\n",
      "Epoch 41/100\n",
      "798/798 - 1s - 993us/step - loss: 7.7792e-05 - mean_squared_error: 7.7792e-05\n",
      "Epoch 42/100\n",
      "798/798 - 1s - 1ms/step - loss: 7.5606e-05 - mean_squared_error: 7.5606e-05\n",
      "Epoch 43/100\n",
      "798/798 - 1s - 1ms/step - loss: 7.1871e-05 - mean_squared_error: 7.1871e-05\n",
      "Epoch 44/100\n",
      "798/798 - 1s - 993us/step - loss: 7.5035e-05 - mean_squared_error: 7.5035e-05\n",
      "Epoch 45/100\n",
      "798/798 - 1s - 993us/step - loss: 7.2117e-05 - mean_squared_error: 7.2117e-05\n",
      "Epoch 46/100\n",
      "798/798 - 1s - 990us/step - loss: 7.6297e-05 - mean_squared_error: 7.6297e-05\n",
      "Epoch 47/100\n",
      "798/798 - 1s - 988us/step - loss: 7.5086e-05 - mean_squared_error: 7.5086e-05\n",
      "Epoch 48/100\n",
      "798/798 - 1s - 996us/step - loss: 7.6563e-05 - mean_squared_error: 7.6563e-05\n",
      "Epoch 49/100\n",
      "798/798 - 1s - 990us/step - loss: 7.3822e-05 - mean_squared_error: 7.3822e-05\n",
      "Epoch 50/100\n",
      "798/798 - 1s - 995us/step - loss: 7.2602e-05 - mean_squared_error: 7.2602e-05\n",
      "Epoch 51/100\n",
      "798/798 - 1s - 992us/step - loss: 7.3857e-05 - mean_squared_error: 7.3857e-05\n",
      "Epoch 52/100\n",
      "798/798 - 1s - 994us/step - loss: 7.2153e-05 - mean_squared_error: 7.2153e-05\n",
      "Epoch 53/100\n",
      "798/798 - 1s - 992us/step - loss: 7.4338e-05 - mean_squared_error: 7.4338e-05\n",
      "Epoch 54/100\n",
      "798/798 - 1s - 986us/step - loss: 7.4420e-05 - mean_squared_error: 7.4420e-05\n",
      "Epoch 55/100\n",
      "798/798 - 1s - 988us/step - loss: 7.4552e-05 - mean_squared_error: 7.4552e-05\n",
      "Epoch 56/100\n",
      "798/798 - 1s - 988us/step - loss: 7.1638e-05 - mean_squared_error: 7.1638e-05\n",
      "Epoch 57/100\n",
      "798/798 - 1s - 988us/step - loss: 7.4773e-05 - mean_squared_error: 7.4773e-05\n",
      "Epoch 58/100\n",
      "798/798 - 1s - 992us/step - loss: 7.3877e-05 - mean_squared_error: 7.3877e-05\n",
      "Epoch 59/100\n",
      "798/798 - 1s - 986us/step - loss: 7.4775e-05 - mean_squared_error: 7.4775e-05\n",
      "Epoch 60/100\n",
      "798/798 - 1s - 1ms/step - loss: 7.3671e-05 - mean_squared_error: 7.3671e-05\n",
      "Epoch 61/100\n",
      "798/798 - 1s - 998us/step - loss: 7.3904e-05 - mean_squared_error: 7.3904e-05\n",
      "Epoch 62/100\n",
      "798/798 - 1s - 1ms/step - loss: 7.2562e-05 - mean_squared_error: 7.2562e-05\n",
      "Epoch 63/100\n",
      "798/798 - 1s - 993us/step - loss: 7.2894e-05 - mean_squared_error: 7.2894e-05\n",
      "Epoch 64/100\n",
      "798/798 - 1s - 988us/step - loss: 7.2190e-05 - mean_squared_error: 7.2190e-05\n",
      "Epoch 65/100\n",
      "798/798 - 1s - 995us/step - loss: 7.3327e-05 - mean_squared_error: 7.3327e-05\n",
      "Epoch 66/100\n",
      "798/798 - 1s - 1ms/step - loss: 7.5308e-05 - mean_squared_error: 7.5308e-05\n",
      "Epoch 67/100\n",
      "798/798 - 1s - 1ms/step - loss: 7.4064e-05 - mean_squared_error: 7.4064e-05\n",
      "Epoch 68/100\n",
      "798/798 - 1s - 1ms/step - loss: 7.0946e-05 - mean_squared_error: 7.0946e-05\n",
      "Epoch 69/100\n",
      "798/798 - 1s - 988us/step - loss: 7.7073e-05 - mean_squared_error: 7.7073e-05\n",
      "Epoch 70/100\n",
      "798/798 - 1s - 988us/step - loss: 7.3096e-05 - mean_squared_error: 7.3096e-05\n",
      "Epoch 71/100\n",
      "798/798 - 1s - 987us/step - loss: 7.2463e-05 - mean_squared_error: 7.2463e-05\n",
      "Epoch 72/100\n",
      "798/798 - 1s - 993us/step - loss: 7.3697e-05 - mean_squared_error: 7.3697e-05\n",
      "Epoch 73/100\n",
      "798/798 - 1s - 989us/step - loss: 7.4390e-05 - mean_squared_error: 7.4390e-05\n",
      "Epoch 74/100\n",
      "798/798 - 1s - 987us/step - loss: 7.2858e-05 - mean_squared_error: 7.2858e-05\n",
      "Epoch 75/100\n",
      "798/798 - 1s - 989us/step - loss: 7.5506e-05 - mean_squared_error: 7.5506e-05\n",
      "Epoch 76/100\n",
      "798/798 - 1s - 984us/step - loss: 7.5649e-05 - mean_squared_error: 7.5649e-05\n",
      "Epoch 77/100\n",
      "798/798 - 1s - 984us/step - loss: 7.3164e-05 - mean_squared_error: 7.3164e-05\n",
      "Epoch 78/100\n",
      "798/798 - 1s - 985us/step - loss: 7.5218e-05 - mean_squared_error: 7.5218e-05\n",
      "Epoch 79/100\n",
      "798/798 - 1s - 985us/step - loss: 7.4249e-05 - mean_squared_error: 7.4249e-05\n",
      "Epoch 80/100\n",
      "798/798 - 1s - 990us/step - loss: 7.3166e-05 - mean_squared_error: 7.3166e-05\n",
      "Epoch 81/100\n",
      "798/798 - 1s - 1ms/step - loss: 7.2768e-05 - mean_squared_error: 7.2768e-05\n",
      "Epoch 82/100\n",
      "798/798 - 1s - 1ms/step - loss: 7.2369e-05 - mean_squared_error: 7.2369e-05\n",
      "Epoch 83/100\n",
      "798/798 - 1s - 1ms/step - loss: 7.1920e-05 - mean_squared_error: 7.1920e-05\n",
      "Epoch 84/100\n",
      "798/798 - 1s - 998us/step - loss: 7.2461e-05 - mean_squared_error: 7.2461e-05\n",
      "Epoch 85/100\n",
      "798/798 - 1s - 990us/step - loss: 7.3245e-05 - mean_squared_error: 7.3245e-05\n",
      "Epoch 86/100\n",
      "798/798 - 1s - 996us/step - loss: 6.8666e-05 - mean_squared_error: 6.8666e-05\n",
      "Epoch 87/100\n",
      "798/798 - 1s - 987us/step - loss: 7.0573e-05 - mean_squared_error: 7.0573e-05\n",
      "Epoch 88/100\n",
      "798/798 - 1s - 991us/step - loss: 7.5292e-05 - mean_squared_error: 7.5292e-05\n",
      "Epoch 89/100\n",
      "798/798 - 1s - 989us/step - loss: 7.4446e-05 - mean_squared_error: 7.4446e-05\n",
      "Epoch 90/100\n",
      "798/798 - 1s - 986us/step - loss: 7.2514e-05 - mean_squared_error: 7.2514e-05\n",
      "Epoch 91/100\n",
      "798/798 - 1s - 985us/step - loss: 7.3760e-05 - mean_squared_error: 7.3760e-05\n",
      "Epoch 92/100\n",
      "798/798 - 1s - 986us/step - loss: 7.3064e-05 - mean_squared_error: 7.3064e-05\n",
      "Epoch 93/100\n",
      "798/798 - 1s - 993us/step - loss: 7.2164e-05 - mean_squared_error: 7.2164e-05\n",
      "Epoch 94/100\n",
      "798/798 - 1s - 998us/step - loss: 7.5327e-05 - mean_squared_error: 7.5327e-05\n",
      "Epoch 95/100\n",
      "798/798 - 1s - 994us/step - loss: 7.2804e-05 - mean_squared_error: 7.2804e-05\n",
      "Epoch 96/100\n",
      "798/798 - 1s - 985us/step - loss: 7.2172e-05 - mean_squared_error: 7.2172e-05\n",
      "Epoch 97/100\n",
      "798/798 - 1s - 985us/step - loss: 7.1335e-05 - mean_squared_error: 7.1335e-05\n",
      "Epoch 98/100\n",
      "798/798 - 1s - 994us/step - loss: 7.4344e-05 - mean_squared_error: 7.4344e-05\n",
      "Epoch 99/100\n",
      "798/798 - 1s - 994us/step - loss: 7.2854e-05 - mean_squared_error: 7.2854e-05\n",
      "Epoch 100/100\n",
      "798/798 - 1s - 995us/step - loss: 7.3333e-05 - mean_squared_error: 7.3333e-05\n"
     ]
    },
    {
     "data": {
      "text/plain": [
       "<keras.src.callbacks.history.History at 0x175e07650>"
      ]
     },
     "execution_count": 56,
     "metadata": {},
     "output_type": "execute_result"
    }
   ],
   "source": [
    "#| output: False\n",
    "# Simple RNN Network\n",
    "model = Sequential()\n",
    "model.add(SimpleRNN(8, input_shape = (1, look_back)))\n",
    "model.add(Dense(1))\n",
    "model.compile(loss=\"mean_squared_error\", optimizer=\"adam\", metrics=[\"mean_squared_error\"])\n",
    "model.fit(X_train, y_train, epochs = 100, batch_size = 1, verbose = 2)"
   ]
  },
  {
   "cell_type": "code",
   "execution_count": 57,
   "id": "2a2bf20f-d18e-4bd9-8482-8b49878a6d37",
   "metadata": {
    "tags": []
   },
   "outputs": [
    {
     "name": "stdout",
     "output_type": "stream",
     "text": [
      "\u001b[1m25/25\u001b[0m \u001b[32m━━━━━━━━━━━━━━━━━━━━\u001b[0m\u001b[37m\u001b[0m \u001b[1m0s\u001b[0m 6ms/step\n",
      "\u001b[1m7/7\u001b[0m \u001b[32m━━━━━━━━━━━━━━━━━━━━\u001b[0m\u001b[37m\u001b[0m \u001b[1m0s\u001b[0m 1ms/step \n",
      "Train RMSE: 307.2548790796108\n",
      "Test RMSE: 2542.7869167567696\n"
     ]
    }
   ],
   "source": [
    "# Make predictions\n",
    "y_pred_train = model.predict(X_train)\n",
    "y_pred_test = model.predict(X_test)\n",
    "# Unscale predictions\n",
    "y_pred_train = scaler.inverse_transform(y_pred_train)\n",
    "y_pred_test = scaler.inverse_transform(y_pred_test)\n",
    "y_train = scaler.inverse_transform([y_train])\n",
    "y_test = scaler.inverse_transform([y_test])\n",
    "# Calculate RMSE\n",
    "train_score = np.sqrt(mean_squared_error(y_train[0], y_pred_train[:,0]))\n",
    "test_score = np.sqrt(mean_squared_error(y_test[0], y_pred_test[:, 0]))\n",
    "print(f\"Train RMSE: {train_score}\")\n",
    "print(f\"Test RMSE: {test_score}\")"
   ]
  },
  {
   "cell_type": "code",
   "execution_count": 58,
   "id": "43dd0c32-650d-45f7-8c62-e5758fc2874b",
   "metadata": {
    "tags": []
   },
   "outputs": [
    {
     "data": {
      "image/png": "[encoded data removed]",
      "text/plain": [
       "<Figure size 640x480 with 1 Axes>"
      ]
     },
     "metadata": {},
     "output_type": "display_data"
    }
   ],
   "source": [
    "train_predict_plot = np.empty_like(data)\n",
    "train_predict_plot[:, :] = 0\n",
    "train_predict_plot[look_back:len(y_pred_train)+look_back, :] = y_pred_train\n",
    "test_predict_plot = np.empty_like(data)\n",
    "test_predict_plot[:, :] = 0\n",
    "test_predict_plot[len(y_pred_train)+(look_back*2)+1:len(data)-1, :] = y_pred_test\n",
    "\n",
    "plt.plot(scaler.inverse_transform(scaled_data.copy()), label=\"Original Data\")\n",
    "plt.plot(train_predict_plot, label=\"Train Predictions\")\n",
    "plt.plot(test_predict_plot, label=\"Test Predictions\")\n",
    "plt.legend()\n",
    "plt.title(\"Bitcoin Prices over Time\")\n",
    "plt.show()"
   ]
  },
  {
   "cell_type": "markdown",
   "id": "7b245c2b-4cfd-47fc-9a2f-85a8c250858f",
   "metadata": {
    "tags": []
   },
   "source": [
    "### LSTM Model"
   ]
  },
  {
   "cell_type": "code",
   "execution_count": 50,
   "id": "dbf34e67-2fd8-4493-b801-554e41e3c840",
   "metadata": {
    "tags": []
   },
   "outputs": [
    {
     "name": "stdout",
     "output_type": "stream",
     "text": [
      "800 200\n",
      "(798, 1) (198, 1)\n",
      "(798, 1, 1) (198, 1, 1)\n"
     ]
    }
   ],
   "source": [
    "scaler = MinMaxScaler(feature_range=(0, 1))\n",
    "scaled_data = scaler.fit_transform(data)\n",
    "\n",
    "# Train test split of 80/20\n",
    "train_size = int(len(scaled_data) * .8)\n",
    "test_size = len(scaled_data) - train_size\n",
    "train, test = scaled_data[0:train_size], scaled_data[train_size:]\n",
    "print(len(train), len(test))\n",
    "\n",
    "# Reshape dataset to X = t and y = t+1\n",
    "# Look back 1 day\n",
    "look_back = 1\n",
    "X_train, y_train = create_dataset(train, look_back)\n",
    "X_test, y_test = create_dataset(test, look_back)\n",
    "print(X_train.shape, X_test.shape)\n",
    "\n",
    "X_train = np.reshape(X_train, (X_train.shape[0], 1, X_train.shape[1]))\n",
    "X_test = np.reshape(X_test, (X_test.shape[0], 1, X_test.shape[1]))\n",
    "print(X_train.shape, X_test.shape)"
   ]
  },
  {
   "cell_type": "code",
   "execution_count": 51,
   "id": "decb6611-4348-4939-a6df-0350d3864ef1",
   "metadata": {
    "collapsed": true,
    "jupyter": {
     "outputs_hidden": true
    },
    "tags": []
   },
   "outputs": [
    {
     "name": "stdout",
     "output_type": "stream",
     "text": [
      "Epoch 1/100\n"
     ]
    },
    {
     "name": "stderr",
     "output_type": "stream",
     "text": [
      "/Users/ben/anaconda3/lib/python3.11/site-packages/keras/src/layers/rnn/rnn.py:204: UserWarning: Do not pass an `input_shape`/`input_dim` argument to a layer. When using Sequential models, prefer using an `Input(shape)` object as the first layer in the model instead.\n"
     ]
    },
    {
     "name": "stdout",
     "output_type": "stream",
     "text": [
      "798/798 - 2s - 3ms/step - loss: 0.0026 - mean_squared_error: 0.0026\n",
      "Epoch 2/100\n",
      "798/798 - 1s - 1ms/step - loss: 5.1848e-04 - mean_squared_error: 5.1848e-04\n",
      "Epoch 3/100\n",
      "798/798 - 1s - 1ms/step - loss: 7.7754e-05 - mean_squared_error: 7.7754e-05\n",
      "Epoch 4/100\n",
      "798/798 - 1s - 1ms/step - loss: 7.4807e-05 - mean_squared_error: 7.4807e-05\n",
      "Epoch 5/100\n",
      "798/798 - 1s - 1ms/step - loss: 8.1276e-05 - mean_squared_error: 8.1276e-05\n",
      "Epoch 6/100\n",
      "798/798 - 1s - 1ms/step - loss: 7.7017e-05 - mean_squared_error: 7.7017e-05\n",
      "Epoch 7/100\n",
      "798/798 - 1s - 1ms/step - loss: 7.7164e-05 - mean_squared_error: 7.7164e-05\n",
      "Epoch 8/100\n",
      "798/798 - 1s - 1ms/step - loss: 7.9320e-05 - mean_squared_error: 7.9320e-05\n",
      "Epoch 9/100\n",
      "798/798 - 1s - 1ms/step - loss: 8.0514e-05 - mean_squared_error: 8.0514e-05\n",
      "Epoch 10/100\n",
      "798/798 - 1s - 1ms/step - loss: 7.9476e-05 - mean_squared_error: 7.9476e-05\n",
      "Epoch 11/100\n",
      "798/798 - 1s - 1ms/step - loss: 7.5543e-05 - mean_squared_error: 7.5543e-05\n",
      "Epoch 12/100\n",
      "798/798 - 1s - 1ms/step - loss: 7.8145e-05 - mean_squared_error: 7.8145e-05\n",
      "Epoch 13/100\n",
      "798/798 - 1s - 1ms/step - loss: 7.5169e-05 - mean_squared_error: 7.5169e-05\n",
      "Epoch 14/100\n",
      "798/798 - 1s - 1ms/step - loss: 7.5576e-05 - mean_squared_error: 7.5576e-05\n",
      "Epoch 15/100\n",
      "798/798 - 1s - 1ms/step - loss: 7.7405e-05 - mean_squared_error: 7.7405e-05\n",
      "Epoch 16/100\n",
      "798/798 - 1s - 1ms/step - loss: 7.7255e-05 - mean_squared_error: 7.7255e-05\n",
      "Epoch 17/100\n",
      "798/798 - 1s - 1ms/step - loss: 7.4850e-05 - mean_squared_error: 7.4850e-05\n",
      "Epoch 18/100\n",
      "798/798 - 1s - 1ms/step - loss: 7.7624e-05 - mean_squared_error: 7.7624e-05\n",
      "Epoch 19/100\n",
      "798/798 - 1s - 1ms/step - loss: 7.5701e-05 - mean_squared_error: 7.5701e-05\n",
      "Epoch 20/100\n",
      "798/798 - 1s - 1ms/step - loss: 7.7923e-05 - mean_squared_error: 7.7923e-05\n",
      "Epoch 21/100\n",
      "798/798 - 1s - 1ms/step - loss: 7.4523e-05 - mean_squared_error: 7.4523e-05\n",
      "Epoch 22/100\n",
      "798/798 - 1s - 1ms/step - loss: 7.4259e-05 - mean_squared_error: 7.4259e-05\n",
      "Epoch 23/100\n",
      "798/798 - 1s - 1ms/step - loss: 7.7998e-05 - mean_squared_error: 7.7998e-05\n",
      "Epoch 24/100\n",
      "798/798 - 1s - 1ms/step - loss: 7.2321e-05 - mean_squared_error: 7.2321e-05\n",
      "Epoch 25/100\n",
      "798/798 - 1s - 1ms/step - loss: 7.3376e-05 - mean_squared_error: 7.3376e-05\n",
      "Epoch 26/100\n",
      "798/798 - 1s - 1ms/step - loss: 7.2627e-05 - mean_squared_error: 7.2627e-05\n",
      "Epoch 27/100\n",
      "798/798 - 1s - 1ms/step - loss: 7.6975e-05 - mean_squared_error: 7.6975e-05\n",
      "Epoch 28/100\n",
      "798/798 - 1s - 1ms/step - loss: 7.5688e-05 - mean_squared_error: 7.5688e-05\n",
      "Epoch 29/100\n",
      "798/798 - 1s - 1ms/step - loss: 7.7043e-05 - mean_squared_error: 7.7043e-05\n",
      "Epoch 30/100\n",
      "798/798 - 1s - 1ms/step - loss: 7.8781e-05 - mean_squared_error: 7.8781e-05\n",
      "Epoch 31/100\n",
      "798/798 - 1s - 1ms/step - loss: 7.3240e-05 - mean_squared_error: 7.3240e-05\n",
      "Epoch 32/100\n",
      "798/798 - 1s - 1ms/step - loss: 7.6284e-05 - mean_squared_error: 7.6284e-05\n",
      "Epoch 33/100\n",
      "798/798 - 1s - 1ms/step - loss: 7.6278e-05 - mean_squared_error: 7.6278e-05\n",
      "Epoch 34/100\n",
      "798/798 - 1s - 1ms/step - loss: 7.7797e-05 - mean_squared_error: 7.7797e-05\n",
      "Epoch 35/100\n",
      "798/798 - 1s - 1ms/step - loss: 7.6245e-05 - mean_squared_error: 7.6245e-05\n",
      "Epoch 36/100\n",
      "798/798 - 1s - 1ms/step - loss: 7.3745e-05 - mean_squared_error: 7.3745e-05\n",
      "Epoch 37/100\n",
      "798/798 - 1s - 1ms/step - loss: 7.4900e-05 - mean_squared_error: 7.4900e-05\n",
      "Epoch 38/100\n",
      "798/798 - 1s - 1ms/step - loss: 7.6021e-05 - mean_squared_error: 7.6021e-05\n",
      "Epoch 39/100\n",
      "798/798 - 1s - 1ms/step - loss: 7.3671e-05 - mean_squared_error: 7.3671e-05\n",
      "Epoch 40/100\n",
      "798/798 - 1s - 1ms/step - loss: 7.5777e-05 - mean_squared_error: 7.5777e-05\n",
      "Epoch 41/100\n",
      "798/798 - 1s - 1ms/step - loss: 7.4254e-05 - mean_squared_error: 7.4254e-05\n",
      "Epoch 42/100\n",
      "798/798 - 1s - 1ms/step - loss: 7.1994e-05 - mean_squared_error: 7.1994e-05\n",
      "Epoch 43/100\n",
      "798/798 - 1s - 1ms/step - loss: 7.4487e-05 - mean_squared_error: 7.4487e-05\n",
      "Epoch 44/100\n",
      "798/798 - 1s - 1ms/step - loss: 7.1393e-05 - mean_squared_error: 7.1393e-05\n",
      "Epoch 45/100\n",
      "798/798 - 1s - 1ms/step - loss: 7.2660e-05 - mean_squared_error: 7.2660e-05\n",
      "Epoch 46/100\n",
      "798/798 - 1s - 1ms/step - loss: 7.4786e-05 - mean_squared_error: 7.4786e-05\n",
      "Epoch 47/100\n",
      "798/798 - 1s - 1ms/step - loss: 7.3506e-05 - mean_squared_error: 7.3506e-05\n",
      "Epoch 48/100\n",
      "798/798 - 1s - 1ms/step - loss: 7.6230e-05 - mean_squared_error: 7.6230e-05\n",
      "Epoch 49/100\n",
      "798/798 - 1s - 1ms/step - loss: 7.3163e-05 - mean_squared_error: 7.3163e-05\n",
      "Epoch 50/100\n",
      "798/798 - 1s - 1ms/step - loss: 7.5521e-05 - mean_squared_error: 7.5521e-05\n",
      "Epoch 51/100\n",
      "798/798 - 1s - 1ms/step - loss: 7.6392e-05 - mean_squared_error: 7.6392e-05\n",
      "Epoch 52/100\n",
      "798/798 - 1s - 1ms/step - loss: 7.5145e-05 - mean_squared_error: 7.5145e-05\n",
      "Epoch 53/100\n",
      "798/798 - 1s - 1ms/step - loss: 7.0525e-05 - mean_squared_error: 7.0525e-05\n",
      "Epoch 54/100\n",
      "798/798 - 1s - 1ms/step - loss: 7.7703e-05 - mean_squared_error: 7.7703e-05\n",
      "Epoch 55/100\n",
      "798/798 - 1s - 1ms/step - loss: 7.2209e-05 - mean_squared_error: 7.2209e-05\n",
      "Epoch 56/100\n",
      "798/798 - 1s - 1ms/step - loss: 7.3412e-05 - mean_squared_error: 7.3412e-05\n",
      "Epoch 57/100\n",
      "798/798 - 1s - 1ms/step - loss: 7.7274e-05 - mean_squared_error: 7.7274e-05\n",
      "Epoch 58/100\n",
      "798/798 - 1s - 1ms/step - loss: 7.6184e-05 - mean_squared_error: 7.6184e-05\n",
      "Epoch 59/100\n",
      "798/798 - 1s - 1ms/step - loss: 7.4650e-05 - mean_squared_error: 7.4650e-05\n",
      "Epoch 60/100\n",
      "798/798 - 1s - 1ms/step - loss: 7.1785e-05 - mean_squared_error: 7.1785e-05\n",
      "Epoch 61/100\n",
      "798/798 - 1s - 1ms/step - loss: 7.1156e-05 - mean_squared_error: 7.1156e-05\n",
      "Epoch 62/100\n",
      "798/798 - 1s - 1ms/step - loss: 7.5338e-05 - mean_squared_error: 7.5338e-05\n",
      "Epoch 63/100\n",
      "798/798 - 1s - 1ms/step - loss: 7.5815e-05 - mean_squared_error: 7.5815e-05\n",
      "Epoch 64/100\n",
      "798/798 - 1s - 1ms/step - loss: 7.6139e-05 - mean_squared_error: 7.6139e-05\n",
      "Epoch 65/100\n",
      "798/798 - 1s - 1ms/step - loss: 7.5088e-05 - mean_squared_error: 7.5088e-05\n",
      "Epoch 66/100\n",
      "798/798 - 1s - 1ms/step - loss: 7.3059e-05 - mean_squared_error: 7.3059e-05\n",
      "Epoch 67/100\n",
      "798/798 - 1s - 1ms/step - loss: 7.1314e-05 - mean_squared_error: 7.1314e-05\n",
      "Epoch 68/100\n",
      "798/798 - 1s - 1ms/step - loss: 7.5170e-05 - mean_squared_error: 7.5170e-05\n",
      "Epoch 69/100\n",
      "798/798 - 1s - 1ms/step - loss: 7.6254e-05 - mean_squared_error: 7.6254e-05\n",
      "Epoch 70/100\n",
      "798/798 - 1s - 1ms/step - loss: 7.2545e-05 - mean_squared_error: 7.2545e-05\n",
      "Epoch 71/100\n",
      "798/798 - 1s - 1ms/step - loss: 7.3975e-05 - mean_squared_error: 7.3975e-05\n",
      "Epoch 72/100\n",
      "798/798 - 1s - 1ms/step - loss: 7.3960e-05 - mean_squared_error: 7.3960e-05\n",
      "Epoch 73/100\n",
      "798/798 - 1s - 1ms/step - loss: 7.4050e-05 - mean_squared_error: 7.4050e-05\n",
      "Epoch 74/100\n",
      "798/798 - 1s - 1ms/step - loss: 7.1292e-05 - mean_squared_error: 7.1292e-05\n",
      "Epoch 75/100\n",
      "798/798 - 1s - 1ms/step - loss: 7.3136e-05 - mean_squared_error: 7.3136e-05\n",
      "Epoch 76/100\n",
      "798/798 - 1s - 1ms/step - loss: 7.2703e-05 - mean_squared_error: 7.2703e-05\n",
      "Epoch 77/100\n",
      "798/798 - 1s - 1ms/step - loss: 7.3770e-05 - mean_squared_error: 7.3770e-05\n",
      "Epoch 78/100\n",
      "798/798 - 1s - 1ms/step - loss: 7.3272e-05 - mean_squared_error: 7.3272e-05\n",
      "Epoch 79/100\n",
      "798/798 - 1s - 1ms/step - loss: 7.6861e-05 - mean_squared_error: 7.6861e-05\n",
      "Epoch 80/100\n",
      "798/798 - 1s - 1ms/step - loss: 7.5803e-05 - mean_squared_error: 7.5803e-05\n",
      "Epoch 81/100\n",
      "798/798 - 1s - 1ms/step - loss: 7.2206e-05 - mean_squared_error: 7.2206e-05\n",
      "Epoch 82/100\n",
      "798/798 - 1s - 1ms/step - loss: 7.5361e-05 - mean_squared_error: 7.5361e-05\n",
      "Epoch 83/100\n",
      "798/798 - 1s - 1ms/step - loss: 7.3746e-05 - mean_squared_error: 7.3746e-05\n",
      "Epoch 84/100\n",
      "798/798 - 1s - 1ms/step - loss: 7.4768e-05 - mean_squared_error: 7.4768e-05\n",
      "Epoch 85/100\n",
      "798/798 - 1s - 1ms/step - loss: 7.4580e-05 - mean_squared_error: 7.4580e-05\n",
      "Epoch 86/100\n",
      "798/798 - 1s - 1ms/step - loss: 6.9471e-05 - mean_squared_error: 6.9471e-05\n",
      "Epoch 87/100\n",
      "798/798 - 1s - 1ms/step - loss: 7.5135e-05 - mean_squared_error: 7.5135e-05\n",
      "Epoch 88/100\n",
      "798/798 - 1s - 1ms/step - loss: 7.0700e-05 - mean_squared_error: 7.0700e-05\n",
      "Epoch 89/100\n",
      "798/798 - 1s - 1ms/step - loss: 7.1991e-05 - mean_squared_error: 7.1991e-05\n",
      "Epoch 90/100\n",
      "798/798 - 1s - 1ms/step - loss: 7.2594e-05 - mean_squared_error: 7.2594e-05\n",
      "Epoch 91/100\n",
      "798/798 - 1s - 1ms/step - loss: 7.0293e-05 - mean_squared_error: 7.0293e-05\n",
      "Epoch 92/100\n",
      "798/798 - 1s - 1ms/step - loss: 7.4287e-05 - mean_squared_error: 7.4287e-05\n",
      "Epoch 93/100\n",
      "798/798 - 1s - 1ms/step - loss: 7.4187e-05 - mean_squared_error: 7.4187e-05\n",
      "Epoch 94/100\n",
      "798/798 - 1s - 1ms/step - loss: 7.3172e-05 - mean_squared_error: 7.3172e-05\n",
      "Epoch 95/100\n",
      "798/798 - 1s - 1ms/step - loss: 7.3347e-05 - mean_squared_error: 7.3347e-05\n",
      "Epoch 96/100\n",
      "798/798 - 1s - 1ms/step - loss: 7.1194e-05 - mean_squared_error: 7.1194e-05\n",
      "Epoch 97/100\n",
      "798/798 - 1s - 1ms/step - loss: 7.5294e-05 - mean_squared_error: 7.5294e-05\n",
      "Epoch 98/100\n",
      "798/798 - 1s - 1ms/step - loss: 7.2893e-05 - mean_squared_error: 7.2893e-05\n",
      "Epoch 99/100\n",
      "798/798 - 1s - 1ms/step - loss: 7.3846e-05 - mean_squared_error: 7.3846e-05\n",
      "Epoch 100/100\n",
      "798/798 - 1s - 1ms/step - loss: 7.0683e-05 - mean_squared_error: 7.0683e-05\n"
     ]
    },
    {
     "data": {
      "text/plain": [
       "<keras.src.callbacks.history.History at 0x174149310>"
      ]
     },
     "execution_count": 51,
     "metadata": {},
     "output_type": "execute_result"
    }
   ],
   "source": [
    "#| output: False\n",
    "# LSTM Neural Network\n",
    "model = Sequential()\n",
    "model.add(LSTM(8, input_shape = (1, look_back)))\n",
    "model.add(Dense(1))\n",
    "model.compile(loss=\"mean_squared_error\", optimizer=\"adam\", metrics=[\"mean_squared_error\"])\n",
    "model.fit(X_train, y_train, epochs = 100, batch_size = 1, verbose = 2)"
   ]
  },
  {
   "cell_type": "code",
   "execution_count": 52,
   "id": "1ac0639a-1d90-49b3-a0e6-e79af3a8e85e",
   "metadata": {
    "tags": []
   },
   "outputs": [
    {
     "name": "stdout",
     "output_type": "stream",
     "text": [
      "\u001b[1m25/25\u001b[0m \u001b[32m━━━━━━━━━━━━━━━━━━━━\u001b[0m\u001b[37m\u001b[0m \u001b[1m0s\u001b[0m 7ms/step\n",
      "\u001b[1m7/7\u001b[0m \u001b[32m━━━━━━━━━━━━━━━━━━━━\u001b[0m\u001b[37m\u001b[0m \u001b[1m0s\u001b[0m 1ms/step \n",
      "Train RMSE: 299.6430585736449\n",
      "Test RMSE: 2825.4690814126175\n"
     ]
    }
   ],
   "source": [
    "# Make predictions\n",
    "y_pred_train = model.predict(X_train)\n",
    "y_pred_test = model.predict(X_test)\n",
    "# Unscale predictions\n",
    "y_pred_train = scaler.inverse_transform(y_pred_train)\n",
    "y_pred_test = scaler.inverse_transform(y_pred_test)\n",
    "y_train = scaler.inverse_transform([y_train])\n",
    "y_test = scaler.inverse_transform([y_test])\n",
    "# Calculate RMSE\n",
    "train_score = np.sqrt(mean_squared_error(y_train[0], y_pred_train[:,0]))\n",
    "test_score = np.sqrt(mean_squared_error(y_test[0], y_pred_test[:, 0]))\n",
    "print(f\"Train RMSE: {train_score}\")\n",
    "print(f\"Test RMSE: {test_score}\")"
   ]
  },
  {
   "cell_type": "code",
   "execution_count": 54,
   "id": "ae27d636-f057-441d-b376-297aa10da9c5",
   "metadata": {
    "tags": []
   },
   "outputs": [
    {
     "data": {
      "image/png": "[encoded data removed]",
      "text/plain": [
       "<Figure size 640x480 with 1 Axes>"
      ]
     },
     "metadata": {},
     "output_type": "display_data"
    }
   ],
   "source": [
    "train_predict_plot = np.empty_like(data)\n",
    "train_predict_plot[:, :] = 0\n",
    "train_predict_plot[look_back:len(y_pred_train)+look_back, :] = y_pred_train\n",
    "test_predict_plot = np.empty_like(data)\n",
    "test_predict_plot[:, :] = 0\n",
    "test_predict_plot[len(y_pred_train)+(look_back*2)+1:len(data)-1, :] = y_pred_test\n",
    "\n",
    "plt.plot(scaler.inverse_transform(scaled_data.copy()), label=\"Original Data\")\n",
    "plt.plot(train_predict_plot, label=\"Train Predictions\")\n",
    "plt.plot(test_predict_plot, label=\"Test Predictions\")\n",
    "plt.legend()\n",
    "plt.title(\"Bitcoin Prices over Time\")\n",
    "plt.show()"
   ]
  },
  {
   "cell_type": "markdown",
   "id": "b0df69be-157c-4d0b-8c04-12dc5250501c",
   "metadata": {},
   "source": [
    "Comparing the results of these first two models, we see that the Simple RNN model is more accurate at predicting the price of Bitcoin with a a day lookback and an 80/20 train test split. Next we will try to increase the lookback amount while keeping the same train test split."
   ]
  },
  {
   "cell_type": "markdown",
   "id": "c32492e6-1f9a-46fe-b5d8-303267c41c2c",
   "metadata": {
    "tags": []
   },
   "source": [
    "## RNN Model Set 2 - 80/20 Split, 2 Day Lookback"
   ]
  },
  {
   "cell_type": "markdown",
   "id": "322d865b-926f-4865-b431-d8cceb77135b",
   "metadata": {
    "tags": []
   },
   "source": [
    "### Simple RNN Model"
   ]
  },
  {
   "cell_type": "code",
   "execution_count": 60,
   "id": "7d739850-cd52-471b-b824-c5ec19a944d2",
   "metadata": {
    "tags": []
   },
   "outputs": [
    {
     "name": "stdout",
     "output_type": "stream",
     "text": [
      "800 200\n",
      "(797, 2) (197, 2)\n",
      "(797, 1, 2) (197, 1, 2)\n"
     ]
    }
   ],
   "source": [
    "scaler = MinMaxScaler(feature_range=(0, 1))\n",
    "scaled_data = scaler.fit_transform(data)\n",
    "\n",
    "# Train test split of 80/20\n",
    "train_size = int(len(scaled_data) * .8)\n",
    "test_size = len(scaled_data) - train_size\n",
    "train, test = scaled_data[0:train_size], scaled_data[train_size:]\n",
    "print(len(train), len(test))\n",
    "\n",
    "# Reshape dataset to X = t and y = t+1\n",
    "# Look back 2 days\n",
    "look_back = 2\n",
    "X_train, y_train = create_dataset(train, look_back)\n",
    "X_test, y_test = create_dataset(test, look_back)\n",
    "print(X_train.shape, X_test.shape)\n",
    "\n",
    "X_train = np.reshape(X_train, (X_train.shape[0], 1, X_train.shape[1]))\n",
    "X_test = np.reshape(X_test, (X_test.shape[0], 1, X_test.shape[1]))\n",
    "print(X_train.shape, X_test.shape)"
   ]
  },
  {
   "cell_type": "code",
   "execution_count": 63,
   "id": "fad0f712-21f1-424a-9c03-384794e5018e",
   "metadata": {
    "collapsed": true,
    "jupyter": {
     "outputs_hidden": true
    },
    "tags": []
   },
   "outputs": [
    {
     "name": "stdout",
     "output_type": "stream",
     "text": [
      "Epoch 1/100\n"
     ]
    },
    {
     "name": "stderr",
     "output_type": "stream",
     "text": [
      "/Users/ben/anaconda3/lib/python3.11/site-packages/keras/src/layers/rnn/rnn.py:204: UserWarning: Do not pass an `input_shape`/`input_dim` argument to a layer. When using Sequential models, prefer using an `Input(shape)` object as the first layer in the model instead.\n"
     ]
    },
    {
     "name": "stdout",
     "output_type": "stream",
     "text": [
      "797/797 - 2s - 3ms/step - loss: 6.3168e-04 - mean_squared_error: 6.3168e-04\n",
      "Epoch 2/100\n",
      "797/797 - 1s - 989us/step - loss: 1.1461e-04 - mean_squared_error: 1.1461e-04\n",
      "Epoch 3/100\n",
      "797/797 - 1s - 994us/step - loss: 1.1413e-04 - mean_squared_error: 1.1413e-04\n",
      "Epoch 4/100\n",
      "797/797 - 1s - 994us/step - loss: 1.0909e-04 - mean_squared_error: 1.0909e-04\n",
      "Epoch 5/100\n",
      "797/797 - 1s - 991us/step - loss: 1.0112e-04 - mean_squared_error: 1.0112e-04\n",
      "Epoch 6/100\n",
      "797/797 - 1s - 997us/step - loss: 1.0720e-04 - mean_squared_error: 1.0720e-04\n",
      "Epoch 7/100\n",
      "797/797 - 1s - 998us/step - loss: 9.8362e-05 - mean_squared_error: 9.8362e-05\n",
      "Epoch 8/100\n",
      "797/797 - 1s - 994us/step - loss: 9.8421e-05 - mean_squared_error: 9.8421e-05\n",
      "Epoch 9/100\n",
      "797/797 - 1s - 985us/step - loss: 9.2137e-05 - mean_squared_error: 9.2137e-05\n",
      "Epoch 10/100\n",
      "797/797 - 1s - 1ms/step - loss: 9.0938e-05 - mean_squared_error: 9.0938e-05\n",
      "Epoch 11/100\n",
      "797/797 - 1s - 994us/step - loss: 8.5016e-05 - mean_squared_error: 8.5016e-05\n",
      "Epoch 12/100\n",
      "797/797 - 1s - 993us/step - loss: 9.1591e-05 - mean_squared_error: 9.1591e-05\n",
      "Epoch 13/100\n",
      "797/797 - 1s - 1ms/step - loss: 8.8753e-05 - mean_squared_error: 8.8753e-05\n",
      "Epoch 14/100\n",
      "797/797 - 1s - 992us/step - loss: 8.4640e-05 - mean_squared_error: 8.4640e-05\n",
      "Epoch 15/100\n",
      "797/797 - 1s - 991us/step - loss: 8.7551e-05 - mean_squared_error: 8.7551e-05\n",
      "Epoch 16/100\n",
      "797/797 - 1s - 984us/step - loss: 7.9749e-05 - mean_squared_error: 7.9749e-05\n",
      "Epoch 17/100\n",
      "797/797 - 1s - 991us/step - loss: 8.7871e-05 - mean_squared_error: 8.7871e-05\n",
      "Epoch 18/100\n",
      "797/797 - 1s - 993us/step - loss: 8.6640e-05 - mean_squared_error: 8.6640e-05\n",
      "Epoch 19/100\n",
      "797/797 - 1s - 994us/step - loss: 8.9710e-05 - mean_squared_error: 8.9710e-05\n",
      "Epoch 20/100\n",
      "797/797 - 1s - 985us/step - loss: 8.8456e-05 - mean_squared_error: 8.8456e-05\n",
      "Epoch 21/100\n",
      "797/797 - 1s - 993us/step - loss: 8.0288e-05 - mean_squared_error: 8.0288e-05\n",
      "Epoch 22/100\n",
      "797/797 - 1s - 993us/step - loss: 8.3021e-05 - mean_squared_error: 8.3021e-05\n",
      "Epoch 23/100\n",
      "797/797 - 1s - 995us/step - loss: 8.2614e-05 - mean_squared_error: 8.2614e-05\n",
      "Epoch 24/100\n",
      "797/797 - 1s - 1ms/step - loss: 8.4956e-05 - mean_squared_error: 8.4956e-05\n",
      "Epoch 25/100\n",
      "797/797 - 1s - 992us/step - loss: 8.2348e-05 - mean_squared_error: 8.2348e-05\n",
      "Epoch 26/100\n",
      "797/797 - 1s - 1000us/step - loss: 8.3987e-05 - mean_squared_error: 8.3987e-05\n",
      "Epoch 27/100\n",
      "797/797 - 1s - 996us/step - loss: 8.6056e-05 - mean_squared_error: 8.6056e-05\n",
      "Epoch 28/100\n",
      "797/797 - 1s - 995us/step - loss: 7.7652e-05 - mean_squared_error: 7.7652e-05\n",
      "Epoch 29/100\n",
      "797/797 - 1s - 1ms/step - loss: 8.0086e-05 - mean_squared_error: 8.0086e-05\n",
      "Epoch 30/100\n",
      "797/797 - 1s - 992us/step - loss: 8.3939e-05 - mean_squared_error: 8.3939e-05\n",
      "Epoch 31/100\n",
      "797/797 - 1s - 982us/step - loss: 7.9537e-05 - mean_squared_error: 7.9537e-05\n",
      "Epoch 32/100\n",
      "797/797 - 1s - 990us/step - loss: 7.7737e-05 - mean_squared_error: 7.7737e-05\n",
      "Epoch 33/100\n",
      "797/797 - 1s - 987us/step - loss: 8.0325e-05 - mean_squared_error: 8.0325e-05\n",
      "Epoch 34/100\n",
      "797/797 - 1s - 989us/step - loss: 7.9924e-05 - mean_squared_error: 7.9924e-05\n",
      "Epoch 35/100\n",
      "797/797 - 1s - 985us/step - loss: 8.0871e-05 - mean_squared_error: 8.0871e-05\n",
      "Epoch 36/100\n",
      "797/797 - 1s - 994us/step - loss: 8.1129e-05 - mean_squared_error: 8.1129e-05\n",
      "Epoch 37/100\n",
      "797/797 - 1s - 987us/step - loss: 8.0025e-05 - mean_squared_error: 8.0025e-05\n",
      "Epoch 38/100\n",
      "797/797 - 1s - 1ms/step - loss: 8.0075e-05 - mean_squared_error: 8.0075e-05\n",
      "Epoch 39/100\n",
      "797/797 - 1s - 986us/step - loss: 7.8314e-05 - mean_squared_error: 7.8314e-05\n",
      "Epoch 40/100\n",
      "797/797 - 1s - 989us/step - loss: 8.0646e-05 - mean_squared_error: 8.0646e-05\n",
      "Epoch 41/100\n",
      "797/797 - 1s - 994us/step - loss: 8.1078e-05 - mean_squared_error: 8.1078e-05\n",
      "Epoch 42/100\n",
      "797/797 - 1s - 1ms/step - loss: 8.7222e-05 - mean_squared_error: 8.7222e-05\n",
      "Epoch 43/100\n",
      "797/797 - 1s - 993us/step - loss: 7.7452e-05 - mean_squared_error: 7.7452e-05\n",
      "Epoch 44/100\n",
      "797/797 - 1s - 992us/step - loss: 7.8740e-05 - mean_squared_error: 7.8740e-05\n",
      "Epoch 45/100\n",
      "797/797 - 1s - 990us/step - loss: 8.1753e-05 - mean_squared_error: 8.1753e-05\n",
      "Epoch 46/100\n",
      "797/797 - 1s - 995us/step - loss: 8.1896e-05 - mean_squared_error: 8.1896e-05\n",
      "Epoch 47/100\n",
      "797/797 - 1s - 995us/step - loss: 8.0073e-05 - mean_squared_error: 8.0073e-05\n",
      "Epoch 48/100\n",
      "797/797 - 1s - 987us/step - loss: 8.3207e-05 - mean_squared_error: 8.3207e-05\n",
      "Epoch 49/100\n",
      "797/797 - 1s - 999us/step - loss: 7.6875e-05 - mean_squared_error: 7.6875e-05\n",
      "Epoch 50/100\n",
      "797/797 - 1s - 1ms/step - loss: 7.5468e-05 - mean_squared_error: 7.5468e-05\n",
      "Epoch 51/100\n",
      "797/797 - 1s - 1ms/step - loss: 7.8941e-05 - mean_squared_error: 7.8941e-05\n",
      "Epoch 52/100\n",
      "797/797 - 1s - 1ms/step - loss: 7.7098e-05 - mean_squared_error: 7.7098e-05\n",
      "Epoch 53/100\n",
      "797/797 - 1s - 1ms/step - loss: 8.1297e-05 - mean_squared_error: 8.1297e-05\n",
      "Epoch 54/100\n",
      "797/797 - 1s - 1ms/step - loss: 7.7591e-05 - mean_squared_error: 7.7591e-05\n",
      "Epoch 55/100\n",
      "797/797 - 1s - 990us/step - loss: 8.2803e-05 - mean_squared_error: 8.2803e-05\n",
      "Epoch 56/100\n",
      "797/797 - 1s - 1ms/step - loss: 8.0488e-05 - mean_squared_error: 8.0488e-05\n",
      "Epoch 57/100\n",
      "797/797 - 1s - 1ms/step - loss: 8.2647e-05 - mean_squared_error: 8.2647e-05\n",
      "Epoch 58/100\n",
      "797/797 - 1s - 997us/step - loss: 8.1243e-05 - mean_squared_error: 8.1243e-05\n",
      "Epoch 59/100\n",
      "797/797 - 1s - 982us/step - loss: 8.0895e-05 - mean_squared_error: 8.0895e-05\n",
      "Epoch 60/100\n",
      "797/797 - 1s - 984us/step - loss: 8.0023e-05 - mean_squared_error: 8.0023e-05\n",
      "Epoch 61/100\n",
      "797/797 - 1s - 985us/step - loss: 8.2884e-05 - mean_squared_error: 8.2884e-05\n",
      "Epoch 62/100\n",
      "797/797 - 1s - 994us/step - loss: 7.7866e-05 - mean_squared_error: 7.7866e-05\n",
      "Epoch 63/100\n",
      "797/797 - 1s - 994us/step - loss: 7.8216e-05 - mean_squared_error: 7.8216e-05\n",
      "Epoch 64/100\n",
      "797/797 - 1s - 997us/step - loss: 8.1052e-05 - mean_squared_error: 8.1052e-05\n",
      "Epoch 65/100\n",
      "797/797 - 1s - 990us/step - loss: 7.6211e-05 - mean_squared_error: 7.6211e-05\n",
      "Epoch 66/100\n",
      "797/797 - 1s - 995us/step - loss: 7.8864e-05 - mean_squared_error: 7.8864e-05\n",
      "Epoch 67/100\n",
      "797/797 - 1s - 994us/step - loss: 8.1865e-05 - mean_squared_error: 8.1865e-05\n",
      "Epoch 68/100\n",
      "797/797 - 1s - 1000us/step - loss: 7.8374e-05 - mean_squared_error: 7.8374e-05\n",
      "Epoch 69/100\n",
      "797/797 - 1s - 996us/step - loss: 7.8677e-05 - mean_squared_error: 7.8677e-05\n",
      "Epoch 70/100\n",
      "797/797 - 1s - 994us/step - loss: 7.4758e-05 - mean_squared_error: 7.4758e-05\n",
      "Epoch 71/100\n",
      "797/797 - 1s - 995us/step - loss: 8.1024e-05 - mean_squared_error: 8.1024e-05\n",
      "Epoch 72/100\n",
      "797/797 - 1s - 986us/step - loss: 7.8981e-05 - mean_squared_error: 7.8981e-05\n",
      "Epoch 73/100\n",
      "797/797 - 1s - 984us/step - loss: 7.7582e-05 - mean_squared_error: 7.7582e-05\n",
      "Epoch 74/100\n",
      "797/797 - 1s - 993us/step - loss: 7.7133e-05 - mean_squared_error: 7.7133e-05\n",
      "Epoch 75/100\n",
      "797/797 - 1s - 1ms/step - loss: 7.8561e-05 - mean_squared_error: 7.8561e-05\n",
      "Epoch 76/100\n",
      "797/797 - 1s - 1ms/step - loss: 7.6533e-05 - mean_squared_error: 7.6533e-05\n",
      "Epoch 77/100\n",
      "797/797 - 1s - 992us/step - loss: 7.6851e-05 - mean_squared_error: 7.6851e-05\n",
      "Epoch 78/100\n",
      "797/797 - 1s - 996us/step - loss: 8.0092e-05 - mean_squared_error: 8.0092e-05\n",
      "Epoch 79/100\n",
      "797/797 - 1s - 982us/step - loss: 7.5667e-05 - mean_squared_error: 7.5667e-05\n",
      "Epoch 80/100\n",
      "797/797 - 1s - 986us/step - loss: 7.3549e-05 - mean_squared_error: 7.3549e-05\n",
      "Epoch 81/100\n",
      "797/797 - 1s - 995us/step - loss: 7.9740e-05 - mean_squared_error: 7.9740e-05\n",
      "Epoch 82/100\n",
      "797/797 - 1s - 994us/step - loss: 7.9928e-05 - mean_squared_error: 7.9928e-05\n",
      "Epoch 83/100\n",
      "797/797 - 1s - 991us/step - loss: 7.7171e-05 - mean_squared_error: 7.7171e-05\n",
      "Epoch 84/100\n",
      "797/797 - 1s - 992us/step - loss: 7.4969e-05 - mean_squared_error: 7.4969e-05\n",
      "Epoch 85/100\n",
      "797/797 - 1s - 990us/step - loss: 7.5437e-05 - mean_squared_error: 7.5437e-05\n",
      "Epoch 86/100\n",
      "797/797 - 1s - 991us/step - loss: 7.6855e-05 - mean_squared_error: 7.6855e-05\n",
      "Epoch 87/100\n",
      "797/797 - 1s - 988us/step - loss: 7.6267e-05 - mean_squared_error: 7.6267e-05\n",
      "Epoch 88/100\n",
      "797/797 - 1s - 992us/step - loss: 7.6430e-05 - mean_squared_error: 7.6430e-05\n",
      "Epoch 89/100\n",
      "797/797 - 1s - 992us/step - loss: 7.5972e-05 - mean_squared_error: 7.5972e-05\n",
      "Epoch 90/100\n",
      "797/797 - 1s - 996us/step - loss: 7.4427e-05 - mean_squared_error: 7.4427e-05\n",
      "Epoch 91/100\n",
      "797/797 - 1s - 1ms/step - loss: 7.4511e-05 - mean_squared_error: 7.4511e-05\n",
      "Epoch 92/100\n",
      "797/797 - 1s - 998us/step - loss: 7.6545e-05 - mean_squared_error: 7.6545e-05\n",
      "Epoch 93/100\n",
      "797/797 - 1s - 997us/step - loss: 7.6748e-05 - mean_squared_error: 7.6748e-05\n",
      "Epoch 94/100\n",
      "797/797 - 1s - 995us/step - loss: 7.4779e-05 - mean_squared_error: 7.4779e-05\n",
      "Epoch 95/100\n",
      "797/797 - 1s - 985us/step - loss: 7.5275e-05 - mean_squared_error: 7.5275e-05\n",
      "Epoch 96/100\n",
      "797/797 - 1s - 987us/step - loss: 7.7628e-05 - mean_squared_error: 7.7628e-05\n",
      "Epoch 97/100\n",
      "797/797 - 1s - 1ms/step - loss: 7.9581e-05 - mean_squared_error: 7.9581e-05\n",
      "Epoch 98/100\n",
      "797/797 - 1s - 990us/step - loss: 7.4480e-05 - mean_squared_error: 7.4480e-05\n",
      "Epoch 99/100\n",
      "797/797 - 1s - 995us/step - loss: 7.9948e-05 - mean_squared_error: 7.9948e-05\n",
      "Epoch 100/100\n",
      "797/797 - 1s - 1ms/step - loss: 7.6976e-05 - mean_squared_error: 7.6976e-05\n"
     ]
    },
    {
     "data": {
      "text/plain": [
       "<keras.src.callbacks.history.History at 0x1763630d0>"
      ]
     },
     "execution_count": 63,
     "metadata": {},
     "output_type": "execute_result"
    }
   ],
   "source": [
    "#| output: False\n",
    "# Simple RNN Network\n",
    "model = Sequential()\n",
    "model.add(SimpleRNN(8, input_shape = (1, look_back)))\n",
    "model.add(Dense(1))\n",
    "model.compile(loss=\"mean_squared_error\", optimizer=\"adam\", metrics=[\"mean_squared_error\"])\n",
    "model.fit(X_train, y_train, epochs = 100, batch_size = 1, verbose = 2)"
   ]
  },
  {
   "cell_type": "code",
   "execution_count": 64,
   "id": "534ee03e-8363-444d-8c9a-deec09798bb5",
   "metadata": {
    "tags": []
   },
   "outputs": [
    {
     "name": "stdout",
     "output_type": "stream",
     "text": [
      "\u001b[1m25/25\u001b[0m \u001b[32m━━━━━━━━━━━━━━━━━━━━\u001b[0m\u001b[37m\u001b[0m \u001b[1m0s\u001b[0m 6ms/step\n",
      "\u001b[1m7/7\u001b[0m \u001b[32m━━━━━━━━━━━━━━━━━━━━\u001b[0m\u001b[37m\u001b[0m \u001b[1m0s\u001b[0m 1ms/step \n",
      "Train RMSE: 320.069257234079\n",
      "Test RMSE: 2750.8965784795982\n"
     ]
    }
   ],
   "source": [
    "# Make predictions\n",
    "y_pred_train = model.predict(X_train)\n",
    "y_pred_test = model.predict(X_test)\n",
    "# Unscale predictions\n",
    "y_pred_train = scaler.inverse_transform(y_pred_train)\n",
    "y_pred_test = scaler.inverse_transform(y_pred_test)\n",
    "y_train = scaler.inverse_transform([y_train])\n",
    "y_test = scaler.inverse_transform([y_test])\n",
    "# Calculate RMSE\n",
    "train_score = np.sqrt(mean_squared_error(y_train[0], y_pred_train[:,0]))\n",
    "test_score = np.sqrt(mean_squared_error(y_test[0], y_pred_test[:, 0]))\n",
    "print(f\"Train RMSE: {train_score}\")\n",
    "print(f\"Test RMSE: {test_score}\")"
   ]
  },
  {
   "cell_type": "code",
   "execution_count": 65,
   "id": "59fdd99f-b63a-4d9a-9947-47a302f6de18",
   "metadata": {
    "tags": []
   },
   "outputs": [
    {
     "data": {
      "image/png": "[encoded data removed]",
      "text/plain": [
       "<Figure size 640x480 with 1 Axes>"
      ]
     },
     "metadata": {},
     "output_type": "display_data"
    }
   ],
   "source": [
    "train_predict_plot = np.empty_like(data)\n",
    "train_predict_plot[:, :] = 0\n",
    "train_predict_plot[look_back:len(y_pred_train)+look_back, :] = y_pred_train\n",
    "test_predict_plot = np.empty_like(data)\n",
    "test_predict_plot[:, :] = 0\n",
    "test_predict_plot[len(y_pred_train)+(look_back*2)+1:len(data)-1, :] = y_pred_test\n",
    "\n",
    "plt.plot(scaler.inverse_transform(scaled_data.copy()), label=\"Original Data\")\n",
    "plt.plot(train_predict_plot, label=\"Train Predictions\")\n",
    "plt.plot(test_predict_plot, label=\"Test Predictions\")\n",
    "plt.legend()\n",
    "plt.title(\"Bitcoin Prices over Time\")\n",
    "plt.show()"
   ]
  },
  {
   "cell_type": "markdown",
   "id": "e981f854-8a06-4676-a505-63ba0536091e",
   "metadata": {
    "tags": []
   },
   "source": [
    "### LSTM Model"
   ]
  },
  {
   "cell_type": "code",
   "execution_count": 66,
   "id": "c6586dc2-f5c6-4cb1-aa1e-f5c1a4b2d90f",
   "metadata": {
    "tags": []
   },
   "outputs": [
    {
     "name": "stdout",
     "output_type": "stream",
     "text": [
      "800 200\n",
      "(797, 2) (197, 2)\n",
      "(797, 1, 2) (197, 1, 2)\n"
     ]
    }
   ],
   "source": [
    "scaler = MinMaxScaler(feature_range=(0, 1))\n",
    "scaled_data = scaler.fit_transform(data)\n",
    "\n",
    "# Train test split of 80/20\n",
    "train_size = int(len(scaled_data) * .8)\n",
    "test_size = len(scaled_data) - train_size\n",
    "train, test = scaled_data[0:train_size], scaled_data[train_size:]\n",
    "print(len(train), len(test))\n",
    "\n",
    "# Reshape dataset to X = t and y = t+1\n",
    "# Look back 2 days\n",
    "look_back = 2\n",
    "X_train, y_train = create_dataset(train, look_back)\n",
    "X_test, y_test = create_dataset(test, look_back)\n",
    "print(X_train.shape, X_test.shape)\n",
    "\n",
    "X_train = np.reshape(X_train, (X_train.shape[0], 1, X_train.shape[1]))\n",
    "X_test = np.reshape(X_test, (X_test.shape[0], 1, X_test.shape[1]))\n",
    "print(X_train.shape, X_test.shape)"
   ]
  },
  {
   "cell_type": "code",
   "execution_count": 67,
   "id": "42b38499-95fd-435c-ae45-182ba8dbe7f5",
   "metadata": {
    "collapsed": true,
    "jupyter": {
     "outputs_hidden": true
    },
    "tags": []
   },
   "outputs": [
    {
     "name": "stdout",
     "output_type": "stream",
     "text": [
      "Epoch 1/100\n"
     ]
    },
    {
     "name": "stderr",
     "output_type": "stream",
     "text": [
      "/Users/ben/anaconda3/lib/python3.11/site-packages/keras/src/layers/rnn/rnn.py:204: UserWarning: Do not pass an `input_shape`/`input_dim` argument to a layer. When using Sequential models, prefer using an `Input(shape)` object as the first layer in the model instead.\n"
     ]
    },
    {
     "name": "stdout",
     "output_type": "stream",
     "text": [
      "797/797 - 2s - 3ms/step - loss: 0.0011 - mean_squared_error: 0.0011\n",
      "Epoch 2/100\n",
      "797/797 - 1s - 1ms/step - loss: 8.4757e-05 - mean_squared_error: 8.4757e-05\n",
      "Epoch 3/100\n",
      "797/797 - 1s - 1ms/step - loss: 8.2298e-05 - mean_squared_error: 8.2298e-05\n",
      "Epoch 4/100\n",
      "797/797 - 1s - 1ms/step - loss: 8.2148e-05 - mean_squared_error: 8.2148e-05\n",
      "Epoch 5/100\n",
      "797/797 - 1s - 1ms/step - loss: 8.6613e-05 - mean_squared_error: 8.6613e-05\n",
      "Epoch 6/100\n",
      "797/797 - 1s - 1ms/step - loss: 8.5453e-05 - mean_squared_error: 8.5453e-05\n",
      "Epoch 7/100\n",
      "797/797 - 1s - 1ms/step - loss: 8.4834e-05 - mean_squared_error: 8.4834e-05\n",
      "Epoch 8/100\n",
      "797/797 - 1s - 1ms/step - loss: 8.2666e-05 - mean_squared_error: 8.2666e-05\n",
      "Epoch 9/100\n",
      "797/797 - 1s - 1ms/step - loss: 8.2889e-05 - mean_squared_error: 8.2889e-05\n",
      "Epoch 10/100\n",
      "797/797 - 1s - 1ms/step - loss: 8.1047e-05 - mean_squared_error: 8.1047e-05\n",
      "Epoch 11/100\n",
      "797/797 - 1s - 1ms/step - loss: 8.4896e-05 - mean_squared_error: 8.4896e-05\n",
      "Epoch 12/100\n",
      "797/797 - 1s - 1ms/step - loss: 8.2472e-05 - mean_squared_error: 8.2472e-05\n",
      "Epoch 13/100\n",
      "797/797 - 1s - 1ms/step - loss: 7.9845e-05 - mean_squared_error: 7.9845e-05\n",
      "Epoch 14/100\n",
      "797/797 - 1s - 1ms/step - loss: 7.8568e-05 - mean_squared_error: 7.8568e-05\n",
      "Epoch 15/100\n",
      "797/797 - 1s - 1ms/step - loss: 8.0916e-05 - mean_squared_error: 8.0916e-05\n",
      "Epoch 16/100\n",
      "797/797 - 1s - 1ms/step - loss: 8.0028e-05 - mean_squared_error: 8.0028e-05\n",
      "Epoch 17/100\n",
      "797/797 - 1s - 1ms/step - loss: 8.0936e-05 - mean_squared_error: 8.0936e-05\n",
      "Epoch 18/100\n",
      "797/797 - 1s - 1ms/step - loss: 8.2418e-05 - mean_squared_error: 8.2418e-05\n",
      "Epoch 19/100\n",
      "797/797 - 1s - 1ms/step - loss: 7.8954e-05 - mean_squared_error: 7.8954e-05\n",
      "Epoch 20/100\n",
      "797/797 - 1s - 1ms/step - loss: 7.7246e-05 - mean_squared_error: 7.7246e-05\n",
      "Epoch 21/100\n",
      "797/797 - 1s - 1ms/step - loss: 8.1297e-05 - mean_squared_error: 8.1297e-05\n",
      "Epoch 22/100\n",
      "797/797 - 1s - 1ms/step - loss: 7.9560e-05 - mean_squared_error: 7.9560e-05\n",
      "Epoch 23/100\n",
      "797/797 - 1s - 1ms/step - loss: 8.1552e-05 - mean_squared_error: 8.1552e-05\n",
      "Epoch 24/100\n",
      "797/797 - 1s - 1ms/step - loss: 8.0043e-05 - mean_squared_error: 8.0043e-05\n",
      "Epoch 25/100\n",
      "797/797 - 1s - 1ms/step - loss: 7.6792e-05 - mean_squared_error: 7.6792e-05\n",
      "Epoch 26/100\n",
      "797/797 - 1s - 1ms/step - loss: 7.7926e-05 - mean_squared_error: 7.7926e-05\n",
      "Epoch 27/100\n",
      "797/797 - 1s - 1ms/step - loss: 7.8996e-05 - mean_squared_error: 7.8996e-05\n",
      "Epoch 28/100\n",
      "797/797 - 1s - 1ms/step - loss: 7.8939e-05 - mean_squared_error: 7.8939e-05\n",
      "Epoch 29/100\n",
      "797/797 - 1s - 1ms/step - loss: 7.6570e-05 - mean_squared_error: 7.6570e-05\n",
      "Epoch 30/100\n",
      "797/797 - 1s - 1ms/step - loss: 7.4279e-05 - mean_squared_error: 7.4279e-05\n",
      "Epoch 31/100\n",
      "797/797 - 1s - 1ms/step - loss: 7.4749e-05 - mean_squared_error: 7.4749e-05\n",
      "Epoch 32/100\n",
      "797/797 - 1s - 1ms/step - loss: 7.5268e-05 - mean_squared_error: 7.5268e-05\n",
      "Epoch 33/100\n",
      "797/797 - 1s - 1ms/step - loss: 7.6788e-05 - mean_squared_error: 7.6788e-05\n",
      "Epoch 34/100\n",
      "797/797 - 1s - 1ms/step - loss: 7.4824e-05 - mean_squared_error: 7.4824e-05\n",
      "Epoch 35/100\n",
      "797/797 - 1s - 1ms/step - loss: 7.7269e-05 - mean_squared_error: 7.7269e-05\n",
      "Epoch 36/100\n",
      "797/797 - 1s - 1ms/step - loss: 8.0764e-05 - mean_squared_error: 8.0764e-05\n",
      "Epoch 37/100\n",
      "797/797 - 1s - 1ms/step - loss: 7.7974e-05 - mean_squared_error: 7.7974e-05\n",
      "Epoch 38/100\n",
      "797/797 - 1s - 1ms/step - loss: 7.3951e-05 - mean_squared_error: 7.3951e-05\n",
      "Epoch 39/100\n",
      "797/797 - 1s - 1ms/step - loss: 7.8665e-05 - mean_squared_error: 7.8665e-05\n",
      "Epoch 40/100\n",
      "797/797 - 1s - 1ms/step - loss: 7.6661e-05 - mean_squared_error: 7.6661e-05\n",
      "Epoch 41/100\n",
      "797/797 - 1s - 1ms/step - loss: 7.0042e-05 - mean_squared_error: 7.0042e-05\n",
      "Epoch 42/100\n",
      "797/797 - 1s - 1ms/step - loss: 7.5535e-05 - mean_squared_error: 7.5535e-05\n",
      "Epoch 43/100\n",
      "797/797 - 1s - 1ms/step - loss: 7.6595e-05 - mean_squared_error: 7.6595e-05\n",
      "Epoch 44/100\n",
      "797/797 - 1s - 1ms/step - loss: 7.6736e-05 - mean_squared_error: 7.6736e-05\n",
      "Epoch 45/100\n",
      "797/797 - 1s - 1ms/step - loss: 7.6415e-05 - mean_squared_error: 7.6415e-05\n",
      "Epoch 46/100\n",
      "797/797 - 1s - 1ms/step - loss: 7.5935e-05 - mean_squared_error: 7.5935e-05\n",
      "Epoch 47/100\n",
      "797/797 - 1s - 1ms/step - loss: 7.5797e-05 - mean_squared_error: 7.5797e-05\n",
      "Epoch 48/100\n",
      "797/797 - 1s - 1ms/step - loss: 7.5472e-05 - mean_squared_error: 7.5472e-05\n",
      "Epoch 49/100\n",
      "797/797 - 1s - 1ms/step - loss: 7.9008e-05 - mean_squared_error: 7.9008e-05\n",
      "Epoch 50/100\n",
      "797/797 - 1s - 1ms/step - loss: 7.6183e-05 - mean_squared_error: 7.6183e-05\n",
      "Epoch 51/100\n",
      "797/797 - 1s - 1ms/step - loss: 7.5519e-05 - mean_squared_error: 7.5519e-05\n",
      "Epoch 52/100\n",
      "797/797 - 1s - 1ms/step - loss: 7.6389e-05 - mean_squared_error: 7.6389e-05\n",
      "Epoch 53/100\n",
      "797/797 - 1s - 1ms/step - loss: 7.3216e-05 - mean_squared_error: 7.3216e-05\n",
      "Epoch 54/100\n",
      "797/797 - 1s - 1ms/step - loss: 7.2766e-05 - mean_squared_error: 7.2766e-05\n",
      "Epoch 55/100\n",
      "797/797 - 1s - 1ms/step - loss: 7.6879e-05 - mean_squared_error: 7.6879e-05\n",
      "Epoch 56/100\n",
      "797/797 - 1s - 1ms/step - loss: 7.5474e-05 - mean_squared_error: 7.5474e-05\n",
      "Epoch 57/100\n",
      "797/797 - 1s - 1ms/step - loss: 7.7554e-05 - mean_squared_error: 7.7554e-05\n",
      "Epoch 58/100\n",
      "797/797 - 1s - 1ms/step - loss: 7.4362e-05 - mean_squared_error: 7.4362e-05\n",
      "Epoch 59/100\n",
      "797/797 - 1s - 1ms/step - loss: 7.5056e-05 - mean_squared_error: 7.5056e-05\n",
      "Epoch 60/100\n",
      "797/797 - 1s - 1ms/step - loss: 7.3456e-05 - mean_squared_error: 7.3456e-05\n",
      "Epoch 61/100\n",
      "797/797 - 1s - 1ms/step - loss: 7.7789e-05 - mean_squared_error: 7.7789e-05\n",
      "Epoch 62/100\n",
      "797/797 - 1s - 1ms/step - loss: 7.7215e-05 - mean_squared_error: 7.7215e-05\n",
      "Epoch 63/100\n",
      "797/797 - 1s - 1ms/step - loss: 7.3580e-05 - mean_squared_error: 7.3580e-05\n",
      "Epoch 64/100\n",
      "797/797 - 1s - 1ms/step - loss: 7.2975e-05 - mean_squared_error: 7.2975e-05\n",
      "Epoch 65/100\n",
      "797/797 - 1s - 1ms/step - loss: 7.6006e-05 - mean_squared_error: 7.6006e-05\n",
      "Epoch 66/100\n",
      "797/797 - 1s - 1ms/step - loss: 7.4028e-05 - mean_squared_error: 7.4028e-05\n",
      "Epoch 67/100\n",
      "797/797 - 1s - 1ms/step - loss: 7.3633e-05 - mean_squared_error: 7.3633e-05\n",
      "Epoch 68/100\n",
      "797/797 - 1s - 1ms/step - loss: 7.8163e-05 - mean_squared_error: 7.8163e-05\n",
      "Epoch 69/100\n",
      "797/797 - 1s - 1ms/step - loss: 7.4230e-05 - mean_squared_error: 7.4230e-05\n",
      "Epoch 70/100\n",
      "797/797 - 1s - 1ms/step - loss: 7.4126e-05 - mean_squared_error: 7.4126e-05\n",
      "Epoch 71/100\n",
      "797/797 - 1s - 1ms/step - loss: 7.5402e-05 - mean_squared_error: 7.5402e-05\n",
      "Epoch 72/100\n",
      "797/797 - 1s - 1ms/step - loss: 7.6362e-05 - mean_squared_error: 7.6362e-05\n",
      "Epoch 73/100\n",
      "797/797 - 1s - 1ms/step - loss: 7.4961e-05 - mean_squared_error: 7.4961e-05\n",
      "Epoch 74/100\n",
      "797/797 - 1s - 1ms/step - loss: 7.5059e-05 - mean_squared_error: 7.5059e-05\n",
      "Epoch 75/100\n",
      "797/797 - 1s - 1ms/step - loss: 7.6226e-05 - mean_squared_error: 7.6226e-05\n",
      "Epoch 76/100\n",
      "797/797 - 1s - 1ms/step - loss: 7.2288e-05 - mean_squared_error: 7.2288e-05\n",
      "Epoch 77/100\n",
      "797/797 - 1s - 1ms/step - loss: 7.2926e-05 - mean_squared_error: 7.2926e-05\n",
      "Epoch 78/100\n",
      "797/797 - 1s - 1ms/step - loss: 7.4690e-05 - mean_squared_error: 7.4690e-05\n",
      "Epoch 79/100\n",
      "797/797 - 1s - 1ms/step - loss: 7.6547e-05 - mean_squared_error: 7.6547e-05\n",
      "Epoch 80/100\n",
      "797/797 - 1s - 1ms/step - loss: 7.6136e-05 - mean_squared_error: 7.6136e-05\n",
      "Epoch 81/100\n",
      "797/797 - 1s - 1ms/step - loss: 7.4533e-05 - mean_squared_error: 7.4533e-05\n",
      "Epoch 82/100\n",
      "797/797 - 1s - 1ms/step - loss: 7.5147e-05 - mean_squared_error: 7.5147e-05\n",
      "Epoch 83/100\n",
      "797/797 - 1s - 1ms/step - loss: 7.3703e-05 - mean_squared_error: 7.3703e-05\n",
      "Epoch 84/100\n",
      "797/797 - 1s - 1ms/step - loss: 7.4736e-05 - mean_squared_error: 7.4736e-05\n",
      "Epoch 85/100\n",
      "797/797 - 1s - 1ms/step - loss: 7.3829e-05 - mean_squared_error: 7.3829e-05\n",
      "Epoch 86/100\n",
      "797/797 - 1s - 1ms/step - loss: 7.1818e-05 - mean_squared_error: 7.1818e-05\n",
      "Epoch 87/100\n",
      "797/797 - 1s - 1ms/step - loss: 7.5651e-05 - mean_squared_error: 7.5651e-05\n",
      "Epoch 88/100\n",
      "797/797 - 1s - 1ms/step - loss: 7.2635e-05 - mean_squared_error: 7.2635e-05\n",
      "Epoch 89/100\n",
      "797/797 - 1s - 1ms/step - loss: 7.4505e-05 - mean_squared_error: 7.4505e-05\n",
      "Epoch 90/100\n",
      "797/797 - 1s - 1ms/step - loss: 7.8671e-05 - mean_squared_error: 7.8671e-05\n",
      "Epoch 91/100\n",
      "797/797 - 1s - 1ms/step - loss: 7.6072e-05 - mean_squared_error: 7.6072e-05\n",
      "Epoch 92/100\n",
      "797/797 - 1s - 1ms/step - loss: 7.5296e-05 - mean_squared_error: 7.5296e-05\n",
      "Epoch 93/100\n",
      "797/797 - 1s - 1ms/step - loss: 7.4661e-05 - mean_squared_error: 7.4661e-05\n",
      "Epoch 94/100\n",
      "797/797 - 1s - 1ms/step - loss: 7.5507e-05 - mean_squared_error: 7.5507e-05\n",
      "Epoch 95/100\n",
      "797/797 - 1s - 1ms/step - loss: 7.3603e-05 - mean_squared_error: 7.3603e-05\n",
      "Epoch 96/100\n",
      "797/797 - 1s - 1ms/step - loss: 7.6961e-05 - mean_squared_error: 7.6961e-05\n",
      "Epoch 97/100\n",
      "797/797 - 1s - 1ms/step - loss: 7.0381e-05 - mean_squared_error: 7.0381e-05\n",
      "Epoch 98/100\n",
      "797/797 - 1s - 1ms/step - loss: 7.1501e-05 - mean_squared_error: 7.1501e-05\n",
      "Epoch 99/100\n",
      "797/797 - 1s - 1ms/step - loss: 7.4703e-05 - mean_squared_error: 7.4703e-05\n",
      "Epoch 100/100\n",
      "797/797 - 1s - 1ms/step - loss: 7.5432e-05 - mean_squared_error: 7.5432e-05\n"
     ]
    },
    {
     "data": {
      "text/plain": [
       "<keras.src.callbacks.history.History at 0x1767c3290>"
      ]
     },
     "execution_count": 67,
     "metadata": {},
     "output_type": "execute_result"
    }
   ],
   "source": [
    "#| output: False\n",
    "# LSTM Neural Network\n",
    "model = Sequential()\n",
    "model.add(LSTM(8, input_shape = (1, look_back)))\n",
    "model.add(Dense(1))\n",
    "model.compile(loss=\"mean_squared_error\", optimizer=\"adam\", metrics=[\"mean_squared_error\"])\n",
    "model.fit(X_train, y_train, epochs = 100, batch_size = 1, verbose = 2)"
   ]
  },
  {
   "cell_type": "code",
   "execution_count": 68,
   "id": "2c36e725-2796-4b98-8f60-7ab6907ed164",
   "metadata": {
    "tags": []
   },
   "outputs": [
    {
     "name": "stdout",
     "output_type": "stream",
     "text": [
      "\u001b[1m25/25\u001b[0m \u001b[32m━━━━━━━━━━━━━━━━━━━━\u001b[0m\u001b[37m\u001b[0m \u001b[1m0s\u001b[0m 8ms/step\n",
      "\u001b[1m7/7\u001b[0m \u001b[32m━━━━━━━━━━━━━━━━━━━━\u001b[0m\u001b[37m\u001b[0m \u001b[1m0s\u001b[0m 1ms/step \n",
      "Train RMSE: 344.3774273579589\n",
      "Test RMSE: 2994.5401457628927\n"
     ]
    }
   ],
   "source": [
    "# Make predictions\n",
    "y_pred_train = model.predict(X_train)\n",
    "y_pred_test = model.predict(X_test)\n",
    "# Unscale predictions\n",
    "y_pred_train = scaler.inverse_transform(y_pred_train)\n",
    "y_pred_test = scaler.inverse_transform(y_pred_test)\n",
    "y_train = scaler.inverse_transform([y_train])\n",
    "y_test = scaler.inverse_transform([y_test])\n",
    "# Calculate RMSE\n",
    "train_score = np.sqrt(mean_squared_error(y_train[0], y_pred_train[:,0]))\n",
    "test_score = np.sqrt(mean_squared_error(y_test[0], y_pred_test[:, 0]))\n",
    "print(f\"Train RMSE: {train_score}\")\n",
    "print(f\"Test RMSE: {test_score}\")"
   ]
  },
  {
   "cell_type": "code",
   "execution_count": 69,
   "id": "cc2bdf61-d1dc-4b6f-8a1b-33d65d536369",
   "metadata": {
    "tags": []
   },
   "outputs": [
    {
     "data": {
      "image/png": "[encoded data removed]",
      "text/plain": [
       "<Figure size 640x480 with 1 Axes>"
      ]
     },
     "metadata": {},
     "output_type": "display_data"
    }
   ],
   "source": [
    "train_predict_plot = np.empty_like(data)\n",
    "train_predict_plot[:, :] = 0\n",
    "train_predict_plot[look_back:len(y_pred_train)+look_back, :] = y_pred_train\n",
    "test_predict_plot = np.empty_like(data)\n",
    "test_predict_plot[:, :] = 0\n",
    "test_predict_plot[len(y_pred_train)+(look_back*2)+1:len(data)-1, :] = y_pred_test\n",
    "\n",
    "plt.plot(scaler.inverse_transform(scaled_data.copy()), label=\"Original Data\")\n",
    "plt.plot(train_predict_plot, label=\"Train Predictions\")\n",
    "plt.plot(test_predict_plot, label=\"Test Predictions\")\n",
    "plt.legend()\n",
    "plt.title(\"Bitcoin Prices over Time\")\n",
    "plt.show()"
   ]
  },
  {
   "cell_type": "markdown",
   "id": "04488991-1f16-4185-97ff-105849f9c19d",
   "metadata": {},
   "source": [
    "Increasing the lookback time to two days resulted in both models performing less well than with the previous value of one day. Now we will return to a one day lookback value and change the train test split to 70/30."
   ]
  },
  {
   "cell_type": "markdown",
   "id": "d08ddc18-150c-4b7c-8ddf-a71ef6b182a0",
   "metadata": {
    "tags": []
   },
   "source": [
    "## RNN Model Set 3 - 70/30 Split, 1 Day Lookback"
   ]
  },
  {
   "cell_type": "markdown",
   "id": "b77bf2b1-3141-46f6-86f0-0fb49295e0fc",
   "metadata": {
    "tags": []
   },
   "source": [
    "### Simple RNN Model"
   ]
  },
  {
   "cell_type": "code",
   "execution_count": 72,
   "id": "95e83a75-0c64-4064-8a55-e5c4ff6fd1bc",
   "metadata": {
    "tags": []
   },
   "outputs": [
    {
     "name": "stdout",
     "output_type": "stream",
     "text": [
      "700 300\n",
      "(698, 1) (298, 1)\n",
      "(698, 1, 1) (298, 1, 1)\n"
     ]
    }
   ],
   "source": [
    "scaler = MinMaxScaler(feature_range=(0, 1))\n",
    "scaled_data = scaler.fit_transform(data)\n",
    "\n",
    "# Train test split of 70/30\n",
    "train_size = int(len(scaled_data) * .7)\n",
    "test_size = len(scaled_data) - train_size\n",
    "train, test = scaled_data[0:train_size], scaled_data[train_size:]\n",
    "print(len(train), len(test))\n",
    "\n",
    "# Reshape dataset to X = t and y = t+1\n",
    "# Look back 1 day\n",
    "look_back = 1\n",
    "X_train, y_train = create_dataset(train, look_back)\n",
    "X_test, y_test = create_dataset(test, look_back)\n",
    "print(X_train.shape, X_test.shape)\n",
    "\n",
    "X_train = np.reshape(X_train, (X_train.shape[0], 1, X_train.shape[1]))\n",
    "X_test = np.reshape(X_test, (X_test.shape[0], 1, X_test.shape[1]))\n",
    "print(X_train.shape, X_test.shape)"
   ]
  },
  {
   "cell_type": "code",
   "execution_count": 73,
   "id": "d9f105ae-4a1c-45f8-9af0-d18817b59c2b",
   "metadata": {
    "collapsed": true,
    "jupyter": {
     "outputs_hidden": true
    },
    "tags": []
   },
   "outputs": [
    {
     "name": "stdout",
     "output_type": "stream",
     "text": [
      "Epoch 1/100\n"
     ]
    },
    {
     "name": "stderr",
     "output_type": "stream",
     "text": [
      "/Users/ben/anaconda3/lib/python3.11/site-packages/keras/src/layers/rnn/rnn.py:204: UserWarning: Do not pass an `input_shape`/`input_dim` argument to a layer. When using Sequential models, prefer using an `Input(shape)` object as the first layer in the model instead.\n"
     ]
    },
    {
     "name": "stdout",
     "output_type": "stream",
     "text": [
      "698/698 - 2s - 3ms/step - loss: 0.0020 - mean_squared_error: 0.0020\n",
      "Epoch 2/100\n",
      "698/698 - 1s - 986us/step - loss: 8.4811e-05 - mean_squared_error: 8.4811e-05\n",
      "Epoch 3/100\n",
      "698/698 - 1s - 1ms/step - loss: 7.6605e-05 - mean_squared_error: 7.6605e-05\n",
      "Epoch 4/100\n",
      "698/698 - 1s - 987us/step - loss: 7.7578e-05 - mean_squared_error: 7.7578e-05\n",
      "Epoch 5/100\n",
      "698/698 - 1s - 999us/step - loss: 8.0319e-05 - mean_squared_error: 8.0319e-05\n",
      "Epoch 6/100\n",
      "698/698 - 1s - 1ms/step - loss: 8.3256e-05 - mean_squared_error: 8.3256e-05\n",
      "Epoch 7/100\n",
      "698/698 - 1s - 1ms/step - loss: 8.7949e-05 - mean_squared_error: 8.7949e-05\n",
      "Epoch 8/100\n",
      "698/698 - 1s - 997us/step - loss: 8.3028e-05 - mean_squared_error: 8.3028e-05\n",
      "Epoch 9/100\n",
      "698/698 - 1s - 1ms/step - loss: 8.9423e-05 - mean_squared_error: 8.9423e-05\n",
      "Epoch 10/100\n",
      "698/698 - 1s - 999us/step - loss: 8.2018e-05 - mean_squared_error: 8.2018e-05\n",
      "Epoch 11/100\n",
      "698/698 - 1s - 1ms/step - loss: 8.4073e-05 - mean_squared_error: 8.4073e-05\n",
      "Epoch 12/100\n",
      "698/698 - 1s - 1ms/step - loss: 8.1698e-05 - mean_squared_error: 8.1698e-05\n",
      "Epoch 13/100\n",
      "698/698 - 1s - 1ms/step - loss: 7.5437e-05 - mean_squared_error: 7.5437e-05\n",
      "Epoch 14/100\n",
      "698/698 - 1s - 1ms/step - loss: 8.5354e-05 - mean_squared_error: 8.5354e-05\n",
      "Epoch 15/100\n",
      "698/698 - 1s - 990us/step - loss: 8.4052e-05 - mean_squared_error: 8.4052e-05\n",
      "Epoch 16/100\n",
      "698/698 - 1s - 995us/step - loss: 8.6068e-05 - mean_squared_error: 8.6068e-05\n",
      "Epoch 17/100\n",
      "698/698 - 1s - 1ms/step - loss: 7.7223e-05 - mean_squared_error: 7.7223e-05\n",
      "Epoch 18/100\n",
      "698/698 - 1s - 1ms/step - loss: 8.8406e-05 - mean_squared_error: 8.8406e-05\n",
      "Epoch 19/100\n",
      "698/698 - 1s - 991us/step - loss: 7.6798e-05 - mean_squared_error: 7.6798e-05\n",
      "Epoch 20/100\n",
      "698/698 - 1s - 988us/step - loss: 8.3804e-05 - mean_squared_error: 8.3804e-05\n",
      "Epoch 21/100\n",
      "698/698 - 1s - 1ms/step - loss: 8.0178e-05 - mean_squared_error: 8.0178e-05\n",
      "Epoch 22/100\n",
      "698/698 - 1s - 991us/step - loss: 7.7367e-05 - mean_squared_error: 7.7367e-05\n",
      "Epoch 23/100\n",
      "698/698 - 1s - 996us/step - loss: 8.6329e-05 - mean_squared_error: 8.6329e-05\n",
      "Epoch 24/100\n",
      "698/698 - 1s - 990us/step - loss: 8.3974e-05 - mean_squared_error: 8.3974e-05\n",
      "Epoch 25/100\n",
      "698/698 - 1s - 990us/step - loss: 8.0863e-05 - mean_squared_error: 8.0863e-05\n",
      "Epoch 26/100\n",
      "698/698 - 1s - 993us/step - loss: 8.0957e-05 - mean_squared_error: 8.0957e-05\n",
      "Epoch 27/100\n",
      "698/698 - 1s - 993us/step - loss: 8.2178e-05 - mean_squared_error: 8.2178e-05\n",
      "Epoch 28/100\n",
      "698/698 - 1s - 992us/step - loss: 8.3445e-05 - mean_squared_error: 8.3445e-05\n",
      "Epoch 29/100\n",
      "698/698 - 1s - 989us/step - loss: 7.7259e-05 - mean_squared_error: 7.7259e-05\n",
      "Epoch 30/100\n",
      "698/698 - 1s - 995us/step - loss: 8.0024e-05 - mean_squared_error: 8.0024e-05\n",
      "Epoch 31/100\n",
      "698/698 - 1s - 995us/step - loss: 7.8327e-05 - mean_squared_error: 7.8327e-05\n",
      "Epoch 32/100\n",
      "698/698 - 1s - 995us/step - loss: 7.5550e-05 - mean_squared_error: 7.5550e-05\n",
      "Epoch 33/100\n",
      "698/698 - 1s - 1000us/step - loss: 7.7073e-05 - mean_squared_error: 7.7073e-05\n",
      "Epoch 34/100\n",
      "698/698 - 1s - 1ms/step - loss: 7.8243e-05 - mean_squared_error: 7.8243e-05\n",
      "Epoch 35/100\n",
      "698/698 - 1s - 1ms/step - loss: 7.7721e-05 - mean_squared_error: 7.7721e-05\n",
      "Epoch 36/100\n",
      "698/698 - 1s - 993us/step - loss: 7.6983e-05 - mean_squared_error: 7.6983e-05\n",
      "Epoch 37/100\n",
      "698/698 - 1s - 996us/step - loss: 7.9517e-05 - mean_squared_error: 7.9517e-05\n",
      "Epoch 38/100\n",
      "698/698 - 1s - 995us/step - loss: 7.8876e-05 - mean_squared_error: 7.8876e-05\n",
      "Epoch 39/100\n",
      "698/698 - 1s - 996us/step - loss: 7.6915e-05 - mean_squared_error: 7.6915e-05\n",
      "Epoch 40/100\n",
      "698/698 - 1s - 994us/step - loss: 7.8919e-05 - mean_squared_error: 7.8919e-05\n",
      "Epoch 41/100\n",
      "698/698 - 1s - 999us/step - loss: 7.8254e-05 - mean_squared_error: 7.8254e-05\n",
      "Epoch 42/100\n",
      "698/698 - 1s - 994us/step - loss: 8.0706e-05 - mean_squared_error: 8.0706e-05\n",
      "Epoch 43/100\n",
      "698/698 - 1s - 995us/step - loss: 7.9620e-05 - mean_squared_error: 7.9620e-05\n",
      "Epoch 44/100\n",
      "698/698 - 1s - 987us/step - loss: 8.2713e-05 - mean_squared_error: 8.2713e-05\n",
      "Epoch 45/100\n",
      "698/698 - 1s - 993us/step - loss: 7.7129e-05 - mean_squared_error: 7.7129e-05\n",
      "Epoch 46/100\n",
      "698/698 - 1s - 999us/step - loss: 8.1627e-05 - mean_squared_error: 8.1627e-05\n",
      "Epoch 47/100\n",
      "698/698 - 1s - 991us/step - loss: 7.7515e-05 - mean_squared_error: 7.7515e-05\n",
      "Epoch 48/100\n",
      "698/698 - 1s - 1ms/step - loss: 7.5530e-05 - mean_squared_error: 7.5530e-05\n",
      "Epoch 49/100\n",
      "698/698 - 1s - 1ms/step - loss: 7.9922e-05 - mean_squared_error: 7.9922e-05\n",
      "Epoch 50/100\n",
      "698/698 - 1s - 1ms/step - loss: 7.7193e-05 - mean_squared_error: 7.7193e-05\n",
      "Epoch 51/100\n",
      "698/698 - 1s - 1ms/step - loss: 7.6473e-05 - mean_squared_error: 7.6473e-05\n",
      "Epoch 52/100\n",
      "698/698 - 1s - 991us/step - loss: 7.3767e-05 - mean_squared_error: 7.3767e-05\n",
      "Epoch 53/100\n",
      "698/698 - 1s - 998us/step - loss: 7.5656e-05 - mean_squared_error: 7.5656e-05\n",
      "Epoch 54/100\n",
      "698/698 - 1s - 994us/step - loss: 7.8695e-05 - mean_squared_error: 7.8695e-05\n",
      "Epoch 55/100\n",
      "698/698 - 1s - 1ms/step - loss: 7.7909e-05 - mean_squared_error: 7.7909e-05\n",
      "Epoch 56/100\n",
      "698/698 - 1s - 1ms/step - loss: 7.9489e-05 - mean_squared_error: 7.9489e-05\n",
      "Epoch 57/100\n",
      "698/698 - 1s - 1ms/step - loss: 7.6996e-05 - mean_squared_error: 7.6996e-05\n",
      "Epoch 58/100\n",
      "698/698 - 1s - 994us/step - loss: 7.7757e-05 - mean_squared_error: 7.7757e-05\n",
      "Epoch 59/100\n",
      "698/698 - 1s - 1ms/step - loss: 7.7423e-05 - mean_squared_error: 7.7423e-05\n",
      "Epoch 60/100\n",
      "698/698 - 1s - 1ms/step - loss: 7.5437e-05 - mean_squared_error: 7.5437e-05\n",
      "Epoch 61/100\n",
      "698/698 - 1s - 990us/step - loss: 7.3119e-05 - mean_squared_error: 7.3119e-05\n",
      "Epoch 62/100\n",
      "698/698 - 1s - 996us/step - loss: 7.4723e-05 - mean_squared_error: 7.4723e-05\n",
      "Epoch 63/100\n",
      "698/698 - 1s - 994us/step - loss: 7.5138e-05 - mean_squared_error: 7.5138e-05\n",
      "Epoch 64/100\n",
      "698/698 - 1s - 998us/step - loss: 7.5631e-05 - mean_squared_error: 7.5631e-05\n",
      "Epoch 65/100\n",
      "698/698 - 1s - 995us/step - loss: 7.5398e-05 - mean_squared_error: 7.5398e-05\n",
      "Epoch 66/100\n",
      "698/698 - 1s - 995us/step - loss: 7.4177e-05 - mean_squared_error: 7.4177e-05\n",
      "Epoch 67/100\n",
      "698/698 - 1s - 997us/step - loss: 7.6907e-05 - mean_squared_error: 7.6907e-05\n",
      "Epoch 68/100\n",
      "698/698 - 1s - 1ms/step - loss: 7.7084e-05 - mean_squared_error: 7.7084e-05\n",
      "Epoch 69/100\n",
      "698/698 - 1s - 994us/step - loss: 7.6546e-05 - mean_squared_error: 7.6546e-05\n",
      "Epoch 70/100\n",
      "698/698 - 1s - 993us/step - loss: 7.5807e-05 - mean_squared_error: 7.5807e-05\n",
      "Epoch 71/100\n",
      "698/698 - 1s - 1ms/step - loss: 7.7007e-05 - mean_squared_error: 7.7007e-05\n",
      "Epoch 72/100\n",
      "698/698 - 1s - 1ms/step - loss: 7.3739e-05 - mean_squared_error: 7.3739e-05\n",
      "Epoch 73/100\n",
      "698/698 - 1s - 993us/step - loss: 7.5650e-05 - mean_squared_error: 7.5650e-05\n",
      "Epoch 74/100\n",
      "698/698 - 1s - 988us/step - loss: 7.6794e-05 - mean_squared_error: 7.6794e-05\n",
      "Epoch 75/100\n",
      "698/698 - 1s - 993us/step - loss: 7.5796e-05 - mean_squared_error: 7.5796e-05\n",
      "Epoch 76/100\n",
      "698/698 - 1s - 990us/step - loss: 7.4638e-05 - mean_squared_error: 7.4638e-05\n",
      "Epoch 77/100\n",
      "698/698 - 1s - 1ms/step - loss: 7.8455e-05 - mean_squared_error: 7.8455e-05\n",
      "Epoch 78/100\n",
      "698/698 - 1s - 1ms/step - loss: 7.5579e-05 - mean_squared_error: 7.5579e-05\n",
      "Epoch 79/100\n",
      "698/698 - 1s - 1ms/step - loss: 7.6620e-05 - mean_squared_error: 7.6620e-05\n",
      "Epoch 80/100\n",
      "698/698 - 1s - 997us/step - loss: 7.4783e-05 - mean_squared_error: 7.4783e-05\n",
      "Epoch 81/100\n",
      "698/698 - 1s - 993us/step - loss: 7.4137e-05 - mean_squared_error: 7.4137e-05\n",
      "Epoch 82/100\n",
      "698/698 - 1s - 1ms/step - loss: 7.4145e-05 - mean_squared_error: 7.4145e-05\n",
      "Epoch 83/100\n",
      "698/698 - 1s - 1ms/step - loss: 7.7623e-05 - mean_squared_error: 7.7623e-05\n",
      "Epoch 84/100\n",
      "698/698 - 1s - 1ms/step - loss: 7.5854e-05 - mean_squared_error: 7.5854e-05\n",
      "Epoch 85/100\n",
      "698/698 - 1s - 996us/step - loss: 7.5425e-05 - mean_squared_error: 7.5425e-05\n",
      "Epoch 86/100\n",
      "698/698 - 1s - 992us/step - loss: 7.9590e-05 - mean_squared_error: 7.9590e-05\n",
      "Epoch 87/100\n",
      "698/698 - 1s - 1ms/step - loss: 7.2879e-05 - mean_squared_error: 7.2879e-05\n",
      "Epoch 88/100\n",
      "698/698 - 1s - 1ms/step - loss: 7.4657e-05 - mean_squared_error: 7.4657e-05\n",
      "Epoch 89/100\n",
      "698/698 - 1s - 1ms/step - loss: 7.8530e-05 - mean_squared_error: 7.8530e-05\n",
      "Epoch 90/100\n",
      "698/698 - 1s - 994us/step - loss: 7.4224e-05 - mean_squared_error: 7.4224e-05\n",
      "Epoch 91/100\n",
      "698/698 - 1s - 1ms/step - loss: 7.3956e-05 - mean_squared_error: 7.3956e-05\n",
      "Epoch 92/100\n",
      "698/698 - 1s - 993us/step - loss: 7.5010e-05 - mean_squared_error: 7.5010e-05\n",
      "Epoch 93/100\n",
      "698/698 - 1s - 1ms/step - loss: 7.6031e-05 - mean_squared_error: 7.6031e-05\n",
      "Epoch 94/100\n",
      "698/698 - 1s - 997us/step - loss: 7.3783e-05 - mean_squared_error: 7.3783e-05\n",
      "Epoch 95/100\n",
      "698/698 - 1s - 1ms/step - loss: 7.5993e-05 - mean_squared_error: 7.5993e-05\n",
      "Epoch 96/100\n",
      "698/698 - 1s - 991us/step - loss: 7.4324e-05 - mean_squared_error: 7.4324e-05\n",
      "Epoch 97/100\n",
      "698/698 - 1s - 995us/step - loss: 7.3668e-05 - mean_squared_error: 7.3668e-05\n",
      "Epoch 98/100\n",
      "698/698 - 1s - 997us/step - loss: 7.7506e-05 - mean_squared_error: 7.7506e-05\n",
      "Epoch 99/100\n",
      "698/698 - 1s - 994us/step - loss: 7.8047e-05 - mean_squared_error: 7.8047e-05\n",
      "Epoch 100/100\n",
      "698/698 - 1s - 1ms/step - loss: 7.5242e-05 - mean_squared_error: 7.5242e-05\n"
     ]
    },
    {
     "data": {
      "text/plain": [
       "<keras.src.callbacks.history.History at 0x176b93710>"
      ]
     },
     "execution_count": 73,
     "metadata": {},
     "output_type": "execute_result"
    }
   ],
   "source": [
    "#| output: False\n",
    "# Simple RNN Network\n",
    "model = Sequential()\n",
    "model.add(SimpleRNN(8, input_shape = (1, look_back)))\n",
    "model.add(Dense(1))\n",
    "model.compile(loss=\"mean_squared_error\", optimizer=\"adam\", metrics=[\"mean_squared_error\"])\n",
    "model.fit(X_train, y_train, epochs = 100, batch_size = 1, verbose = 2)"
   ]
  },
  {
   "cell_type": "code",
   "execution_count": 74,
   "id": "39fc9959-d40a-4e2f-92be-7ec8b2ca6228",
   "metadata": {
    "tags": []
   },
   "outputs": [
    {
     "name": "stdout",
     "output_type": "stream",
     "text": [
      "\u001b[1m22/22\u001b[0m \u001b[32m━━━━━━━━━━━━━━━━━━━━\u001b[0m\u001b[37m\u001b[0m \u001b[1m0s\u001b[0m 7ms/step\n",
      "\u001b[1m10/10\u001b[0m \u001b[32m━━━━━━━━━━━━━━━━━━━━\u001b[0m\u001b[37m\u001b[0m \u001b[1m0s\u001b[0m 1ms/step \n",
      "Train RMSE: 303.7730483392023\n",
      "Test RMSE: 1675.120934848082\n"
     ]
    }
   ],
   "source": [
    "# Make predictions\n",
    "y_pred_train = model.predict(X_train)\n",
    "y_pred_test = model.predict(X_test)\n",
    "# Unscale predictions\n",
    "y_pred_train = scaler.inverse_transform(y_pred_train)\n",
    "y_pred_test = scaler.inverse_transform(y_pred_test)\n",
    "y_train = scaler.inverse_transform([y_train])\n",
    "y_test = scaler.inverse_transform([y_test])\n",
    "# Calculate RMSE\n",
    "train_score = np.sqrt(mean_squared_error(y_train[0], y_pred_train[:,0]))\n",
    "test_score = np.sqrt(mean_squared_error(y_test[0], y_pred_test[:, 0]))\n",
    "print(f\"Train RMSE: {train_score}\")\n",
    "print(f\"Test RMSE: {test_score}\")"
   ]
  },
  {
   "cell_type": "code",
   "execution_count": 75,
   "id": "cd48262f-2f9d-43c7-84da-3cbff6e6798a",
   "metadata": {
    "tags": []
   },
   "outputs": [
    {
     "data": {
      "image/png": "[encoded data removed]",
      "text/plain": [
       "<Figure size 640x480 with 1 Axes>"
      ]
     },
     "metadata": {},
     "output_type": "display_data"
    }
   ],
   "source": [
    "train_predict_plot = np.empty_like(data)\n",
    "train_predict_plot[:, :] = 0\n",
    "train_predict_plot[look_back:len(y_pred_train)+look_back, :] = y_pred_train\n",
    "test_predict_plot = np.empty_like(data)\n",
    "test_predict_plot[:, :] = 0\n",
    "test_predict_plot[len(y_pred_train)+(look_back*2)+1:len(data)-1, :] = y_pred_test\n",
    "\n",
    "plt.plot(scaler.inverse_transform(scaled_data.copy()), label=\"Original Data\")\n",
    "plt.plot(train_predict_plot, label=\"Train Predictions\")\n",
    "plt.plot(test_predict_plot, label=\"Test Predictions\")\n",
    "plt.legend()\n",
    "plt.title(\"Bitcoin Prices over Time\")\n",
    "plt.show()"
   ]
  },
  {
   "cell_type": "markdown",
   "id": "4378fefc-2ec0-431d-9a64-920f5683a332",
   "metadata": {},
   "source": [
    "### LSTM Model"
   ]
  },
  {
   "cell_type": "code",
   "execution_count": 76,
   "id": "995b889c-0b99-412d-ab3d-c80a11acb01a",
   "metadata": {
    "tags": []
   },
   "outputs": [
    {
     "name": "stdout",
     "output_type": "stream",
     "text": [
      "700 300\n",
      "(698, 1) (298, 1)\n",
      "(698, 1, 1) (298, 1, 1)\n"
     ]
    }
   ],
   "source": [
    "scaler = MinMaxScaler(feature_range=(0, 1))\n",
    "scaled_data = scaler.fit_transform(data)\n",
    "\n",
    "# Train test split of 70/30\n",
    "train_size = int(len(scaled_data) * .7)\n",
    "test_size = len(scaled_data) - train_size\n",
    "train, test = scaled_data[0:train_size], scaled_data[train_size:]\n",
    "print(len(train), len(test))\n",
    "\n",
    "# Reshape dataset to X = t and y = t+1\n",
    "# Look back 1 day\n",
    "look_back = 1\n",
    "X_train, y_train = create_dataset(train, look_back)\n",
    "X_test, y_test = create_dataset(test, look_back)\n",
    "print(X_train.shape, X_test.shape)\n",
    "\n",
    "X_train = np.reshape(X_train, (X_train.shape[0], 1, X_train.shape[1]))\n",
    "X_test = np.reshape(X_test, (X_test.shape[0], 1, X_test.shape[1]))\n",
    "print(X_train.shape, X_test.shape)"
   ]
  },
  {
   "cell_type": "code",
   "execution_count": 77,
   "id": "2858a6d1-c6ba-4244-9226-85eabf43a7d8",
   "metadata": {
    "collapsed": true,
    "jupyter": {
     "outputs_hidden": true
    },
    "tags": []
   },
   "outputs": [
    {
     "name": "stdout",
     "output_type": "stream",
     "text": [
      "Epoch 1/100\n"
     ]
    },
    {
     "name": "stderr",
     "output_type": "stream",
     "text": [
      "/Users/ben/anaconda3/lib/python3.11/site-packages/keras/src/layers/rnn/rnn.py:204: UserWarning: Do not pass an `input_shape`/`input_dim` argument to a layer. When using Sequential models, prefer using an `Input(shape)` object as the first layer in the model instead.\n"
     ]
    },
    {
     "name": "stdout",
     "output_type": "stream",
     "text": [
      "698/698 - 2s - 3ms/step - loss: 0.0027 - mean_squared_error: 0.0027\n",
      "Epoch 2/100\n",
      "698/698 - 1s - 1ms/step - loss: 3.8832e-04 - mean_squared_error: 3.8832e-04\n",
      "Epoch 3/100\n",
      "698/698 - 1s - 1ms/step - loss: 7.6527e-05 - mean_squared_error: 7.6527e-05\n",
      "Epoch 4/100\n",
      "698/698 - 1s - 1ms/step - loss: 7.4730e-05 - mean_squared_error: 7.4730e-05\n",
      "Epoch 5/100\n",
      "698/698 - 1s - 1ms/step - loss: 7.7081e-05 - mean_squared_error: 7.7081e-05\n",
      "Epoch 6/100\n",
      "698/698 - 1s - 1ms/step - loss: 7.8112e-05 - mean_squared_error: 7.8112e-05\n",
      "Epoch 7/100\n",
      "698/698 - 1s - 1ms/step - loss: 7.8217e-05 - mean_squared_error: 7.8217e-05\n",
      "Epoch 8/100\n",
      "698/698 - 1s - 1ms/step - loss: 7.5043e-05 - mean_squared_error: 7.5043e-05\n",
      "Epoch 9/100\n",
      "698/698 - 1s - 1ms/step - loss: 7.8188e-05 - mean_squared_error: 7.8188e-05\n",
      "Epoch 10/100\n",
      "698/698 - 1s - 1ms/step - loss: 7.7585e-05 - mean_squared_error: 7.7585e-05\n",
      "Epoch 11/100\n",
      "698/698 - 1s - 1ms/step - loss: 7.7670e-05 - mean_squared_error: 7.7670e-05\n",
      "Epoch 12/100\n",
      "698/698 - 1s - 1ms/step - loss: 7.8535e-05 - mean_squared_error: 7.8535e-05\n",
      "Epoch 13/100\n",
      "698/698 - 1s - 1ms/step - loss: 7.7074e-05 - mean_squared_error: 7.7074e-05\n",
      "Epoch 14/100\n",
      "698/698 - 1s - 1ms/step - loss: 8.1424e-05 - mean_squared_error: 8.1424e-05\n",
      "Epoch 15/100\n",
      "698/698 - 1s - 1ms/step - loss: 7.9811e-05 - mean_squared_error: 7.9811e-05\n",
      "Epoch 16/100\n",
      "698/698 - 1s - 1ms/step - loss: 7.9177e-05 - mean_squared_error: 7.9177e-05\n",
      "Epoch 17/100\n",
      "698/698 - 1s - 1ms/step - loss: 7.8155e-05 - mean_squared_error: 7.8155e-05\n",
      "Epoch 18/100\n",
      "698/698 - 1s - 1ms/step - loss: 7.5025e-05 - mean_squared_error: 7.5025e-05\n",
      "Epoch 19/100\n",
      "698/698 - 1s - 1ms/step - loss: 7.8722e-05 - mean_squared_error: 7.8722e-05\n",
      "Epoch 20/100\n",
      "698/698 - 1s - 1ms/step - loss: 8.2438e-05 - mean_squared_error: 8.2438e-05\n",
      "Epoch 21/100\n",
      "698/698 - 1s - 1ms/step - loss: 8.0132e-05 - mean_squared_error: 8.0132e-05\n",
      "Epoch 22/100\n",
      "698/698 - 1s - 1ms/step - loss: 8.0745e-05 - mean_squared_error: 8.0745e-05\n",
      "Epoch 23/100\n",
      "698/698 - 1s - 1ms/step - loss: 7.6984e-05 - mean_squared_error: 7.6984e-05\n",
      "Epoch 24/100\n",
      "698/698 - 1s - 1ms/step - loss: 7.5776e-05 - mean_squared_error: 7.5776e-05\n",
      "Epoch 25/100\n",
      "698/698 - 1s - 1ms/step - loss: 7.9481e-05 - mean_squared_error: 7.9481e-05\n",
      "Epoch 26/100\n",
      "698/698 - 1s - 1ms/step - loss: 7.7496e-05 - mean_squared_error: 7.7496e-05\n",
      "Epoch 27/100\n",
      "698/698 - 1s - 1ms/step - loss: 7.7499e-05 - mean_squared_error: 7.7499e-05\n",
      "Epoch 28/100\n",
      "698/698 - 1s - 1ms/step - loss: 7.4345e-05 - mean_squared_error: 7.4345e-05\n",
      "Epoch 29/100\n",
      "698/698 - 1s - 1ms/step - loss: 7.6959e-05 - mean_squared_error: 7.6959e-05\n",
      "Epoch 30/100\n",
      "698/698 - 1s - 1ms/step - loss: 7.6688e-05 - mean_squared_error: 7.6688e-05\n",
      "Epoch 31/100\n",
      "698/698 - 1s - 1ms/step - loss: 7.7013e-05 - mean_squared_error: 7.7013e-05\n",
      "Epoch 32/100\n",
      "698/698 - 1s - 1ms/step - loss: 7.8942e-05 - mean_squared_error: 7.8942e-05\n",
      "Epoch 33/100\n",
      "698/698 - 1s - 1ms/step - loss: 8.1762e-05 - mean_squared_error: 8.1762e-05\n",
      "Epoch 34/100\n",
      "698/698 - 1s - 1ms/step - loss: 7.5215e-05 - mean_squared_error: 7.5215e-05\n",
      "Epoch 35/100\n",
      "698/698 - 1s - 1ms/step - loss: 7.5958e-05 - mean_squared_error: 7.5958e-05\n",
      "Epoch 36/100\n",
      "698/698 - 1s - 1ms/step - loss: 7.7936e-05 - mean_squared_error: 7.7936e-05\n",
      "Epoch 37/100\n",
      "698/698 - 1s - 1ms/step - loss: 7.9182e-05 - mean_squared_error: 7.9182e-05\n",
      "Epoch 38/100\n",
      "698/698 - 1s - 1ms/step - loss: 7.7730e-05 - mean_squared_error: 7.7730e-05\n",
      "Epoch 39/100\n",
      "698/698 - 1s - 1ms/step - loss: 7.6357e-05 - mean_squared_error: 7.6357e-05\n",
      "Epoch 40/100\n",
      "698/698 - 1s - 1ms/step - loss: 7.3886e-05 - mean_squared_error: 7.3886e-05\n",
      "Epoch 41/100\n",
      "698/698 - 1s - 1ms/step - loss: 7.7107e-05 - mean_squared_error: 7.7107e-05\n",
      "Epoch 42/100\n",
      "698/698 - 1s - 1ms/step - loss: 7.5588e-05 - mean_squared_error: 7.5588e-05\n",
      "Epoch 43/100\n",
      "698/698 - 1s - 1ms/step - loss: 7.5506e-05 - mean_squared_error: 7.5506e-05\n",
      "Epoch 44/100\n",
      "698/698 - 1s - 1ms/step - loss: 7.7556e-05 - mean_squared_error: 7.7556e-05\n",
      "Epoch 45/100\n",
      "698/698 - 1s - 1ms/step - loss: 7.4344e-05 - mean_squared_error: 7.4344e-05\n",
      "Epoch 46/100\n",
      "698/698 - 1s - 1ms/step - loss: 7.6192e-05 - mean_squared_error: 7.6192e-05\n",
      "Epoch 47/100\n",
      "698/698 - 1s - 1ms/step - loss: 7.6419e-05 - mean_squared_error: 7.6419e-05\n",
      "Epoch 48/100\n",
      "698/698 - 1s - 1ms/step - loss: 7.7465e-05 - mean_squared_error: 7.7465e-05\n",
      "Epoch 49/100\n",
      "698/698 - 1s - 1ms/step - loss: 7.5582e-05 - mean_squared_error: 7.5582e-05\n",
      "Epoch 50/100\n",
      "698/698 - 1s - 1ms/step - loss: 7.5464e-05 - mean_squared_error: 7.5464e-05\n",
      "Epoch 51/100\n",
      "698/698 - 1s - 1ms/step - loss: 7.2731e-05 - mean_squared_error: 7.2731e-05\n",
      "Epoch 52/100\n",
      "698/698 - 1s - 1ms/step - loss: 7.3308e-05 - mean_squared_error: 7.3308e-05\n",
      "Epoch 53/100\n",
      "698/698 - 1s - 1ms/step - loss: 7.6229e-05 - mean_squared_error: 7.6229e-05\n",
      "Epoch 54/100\n",
      "698/698 - 1s - 1ms/step - loss: 7.6126e-05 - mean_squared_error: 7.6126e-05\n",
      "Epoch 55/100\n",
      "698/698 - 1s - 1ms/step - loss: 7.3517e-05 - mean_squared_error: 7.3517e-05\n",
      "Epoch 56/100\n",
      "698/698 - 1s - 1ms/step - loss: 7.4549e-05 - mean_squared_error: 7.4549e-05\n",
      "Epoch 57/100\n",
      "698/698 - 1s - 1ms/step - loss: 7.8749e-05 - mean_squared_error: 7.8749e-05\n",
      "Epoch 58/100\n",
      "698/698 - 1s - 1ms/step - loss: 7.5179e-05 - mean_squared_error: 7.5179e-05\n",
      "Epoch 59/100\n",
      "698/698 - 1s - 1ms/step - loss: 7.7239e-05 - mean_squared_error: 7.7239e-05\n",
      "Epoch 60/100\n",
      "698/698 - 1s - 1ms/step - loss: 7.6170e-05 - mean_squared_error: 7.6170e-05\n",
      "Epoch 61/100\n",
      "698/698 - 1s - 1ms/step - loss: 7.7211e-05 - mean_squared_error: 7.7211e-05\n",
      "Epoch 62/100\n",
      "698/698 - 1s - 1ms/step - loss: 7.8577e-05 - mean_squared_error: 7.8577e-05\n",
      "Epoch 63/100\n",
      "698/698 - 1s - 1ms/step - loss: 7.5149e-05 - mean_squared_error: 7.5149e-05\n",
      "Epoch 64/100\n",
      "698/698 - 1s - 1ms/step - loss: 7.9052e-05 - mean_squared_error: 7.9052e-05\n",
      "Epoch 65/100\n",
      "698/698 - 1s - 1ms/step - loss: 7.4423e-05 - mean_squared_error: 7.4423e-05\n",
      "Epoch 66/100\n",
      "698/698 - 1s - 1ms/step - loss: 7.6802e-05 - mean_squared_error: 7.6802e-05\n",
      "Epoch 67/100\n",
      "698/698 - 1s - 1ms/step - loss: 7.8290e-05 - mean_squared_error: 7.8290e-05\n",
      "Epoch 68/100\n",
      "698/698 - 1s - 1ms/step - loss: 7.5455e-05 - mean_squared_error: 7.5455e-05\n",
      "Epoch 69/100\n",
      "698/698 - 1s - 1ms/step - loss: 7.6481e-05 - mean_squared_error: 7.6481e-05\n",
      "Epoch 70/100\n",
      "698/698 - 1s - 1ms/step - loss: 7.7791e-05 - mean_squared_error: 7.7791e-05\n",
      "Epoch 71/100\n",
      "698/698 - 1s - 1ms/step - loss: 7.2969e-05 - mean_squared_error: 7.2969e-05\n",
      "Epoch 72/100\n",
      "698/698 - 1s - 1ms/step - loss: 7.6988e-05 - mean_squared_error: 7.6988e-05\n",
      "Epoch 73/100\n",
      "698/698 - 1s - 1ms/step - loss: 7.6098e-05 - mean_squared_error: 7.6098e-05\n",
      "Epoch 74/100\n",
      "698/698 - 1s - 1ms/step - loss: 7.4560e-05 - mean_squared_error: 7.4560e-05\n",
      "Epoch 75/100\n",
      "698/698 - 1s - 1ms/step - loss: 7.8291e-05 - mean_squared_error: 7.8291e-05\n",
      "Epoch 76/100\n",
      "698/698 - 1s - 1ms/step - loss: 7.5719e-05 - mean_squared_error: 7.5719e-05\n",
      "Epoch 77/100\n",
      "698/698 - 1s - 1ms/step - loss: 7.1745e-05 - mean_squared_error: 7.1745e-05\n",
      "Epoch 78/100\n",
      "698/698 - 1s - 1ms/step - loss: 7.5887e-05 - mean_squared_error: 7.5887e-05\n",
      "Epoch 79/100\n",
      "698/698 - 1s - 1ms/step - loss: 7.4663e-05 - mean_squared_error: 7.4663e-05\n",
      "Epoch 80/100\n",
      "698/698 - 1s - 1ms/step - loss: 7.5106e-05 - mean_squared_error: 7.5106e-05\n",
      "Epoch 81/100\n",
      "698/698 - 1s - 1ms/step - loss: 7.6147e-05 - mean_squared_error: 7.6147e-05\n",
      "Epoch 82/100\n",
      "698/698 - 1s - 1ms/step - loss: 7.4558e-05 - mean_squared_error: 7.4558e-05\n",
      "Epoch 83/100\n",
      "698/698 - 1s - 1ms/step - loss: 7.6920e-05 - mean_squared_error: 7.6920e-05\n",
      "Epoch 84/100\n",
      "698/698 - 1s - 1ms/step - loss: 7.2345e-05 - mean_squared_error: 7.2345e-05\n",
      "Epoch 85/100\n",
      "698/698 - 1s - 1ms/step - loss: 7.7778e-05 - mean_squared_error: 7.7778e-05\n",
      "Epoch 86/100\n",
      "698/698 - 1s - 1ms/step - loss: 7.6685e-05 - mean_squared_error: 7.6685e-05\n",
      "Epoch 87/100\n",
      "698/698 - 1s - 1ms/step - loss: 7.8697e-05 - mean_squared_error: 7.8697e-05\n",
      "Epoch 88/100\n",
      "698/698 - 1s - 1ms/step - loss: 7.3933e-05 - mean_squared_error: 7.3933e-05\n",
      "Epoch 89/100\n",
      "698/698 - 1s - 1ms/step - loss: 7.3625e-05 - mean_squared_error: 7.3625e-05\n",
      "Epoch 90/100\n",
      "698/698 - 1s - 1ms/step - loss: 7.7464e-05 - mean_squared_error: 7.7464e-05\n",
      "Epoch 91/100\n",
      "698/698 - 1s - 1ms/step - loss: 7.5994e-05 - mean_squared_error: 7.5994e-05\n",
      "Epoch 92/100\n",
      "698/698 - 1s - 1ms/step - loss: 7.3586e-05 - mean_squared_error: 7.3586e-05\n",
      "Epoch 93/100\n",
      "698/698 - 1s - 1ms/step - loss: 7.8784e-05 - mean_squared_error: 7.8784e-05\n",
      "Epoch 94/100\n",
      "698/698 - 1s - 1ms/step - loss: 7.7094e-05 - mean_squared_error: 7.7094e-05\n",
      "Epoch 95/100\n",
      "698/698 - 1s - 1ms/step - loss: 7.8043e-05 - mean_squared_error: 7.8043e-05\n",
      "Epoch 96/100\n",
      "698/698 - 1s - 1ms/step - loss: 7.3732e-05 - mean_squared_error: 7.3732e-05\n",
      "Epoch 97/100\n",
      "698/698 - 1s - 1ms/step - loss: 7.9132e-05 - mean_squared_error: 7.9132e-05\n",
      "Epoch 98/100\n",
      "698/698 - 1s - 1ms/step - loss: 7.6620e-05 - mean_squared_error: 7.6620e-05\n",
      "Epoch 99/100\n",
      "698/698 - 1s - 1ms/step - loss: 7.4441e-05 - mean_squared_error: 7.4441e-05\n",
      "Epoch 100/100\n",
      "698/698 - 1s - 1ms/step - loss: 7.9296e-05 - mean_squared_error: 7.9296e-05\n"
     ]
    },
    {
     "data": {
      "text/plain": [
       "<keras.src.callbacks.history.History at 0x17676be50>"
      ]
     },
     "execution_count": 77,
     "metadata": {},
     "output_type": "execute_result"
    }
   ],
   "source": [
    "#| output: False\n",
    "# LSTM Neural Network\n",
    "model = Sequential()\n",
    "model.add(LSTM(8, input_shape = (1, look_back)))\n",
    "model.add(Dense(1))\n",
    "model.compile(loss=\"mean_squared_error\", optimizer=\"adam\", metrics=[\"mean_squared_error\"])\n",
    "model.fit(X_train, y_train, epochs = 100, batch_size = 1, verbose = 2)"
   ]
  },
  {
   "cell_type": "code",
   "execution_count": 78,
   "id": "bbaf3b19-b59c-4375-9534-925f46d2fb2d",
   "metadata": {
    "tags": []
   },
   "outputs": [
    {
     "name": "stdout",
     "output_type": "stream",
     "text": [
      "\u001b[1m22/22\u001b[0m \u001b[32m━━━━━━━━━━━━━━━━━━━━\u001b[0m\u001b[37m\u001b[0m \u001b[1m0s\u001b[0m 8ms/step\n",
      "\u001b[1m10/10\u001b[0m \u001b[32m━━━━━━━━━━━━━━━━━━━━\u001b[0m\u001b[37m\u001b[0m \u001b[1m0s\u001b[0m 1ms/step \n",
      "Train RMSE: 343.43264913478015\n",
      "Test RMSE: 2632.272982853638\n"
     ]
    }
   ],
   "source": [
    "# Make predictions\n",
    "y_pred_train = model.predict(X_train)\n",
    "y_pred_test = model.predict(X_test)\n",
    "# Unscale predictions\n",
    "y_pred_train = scaler.inverse_transform(y_pred_train)\n",
    "y_pred_test = scaler.inverse_transform(y_pred_test)\n",
    "y_train = scaler.inverse_transform([y_train])\n",
    "y_test = scaler.inverse_transform([y_test])\n",
    "# Calculate RMSE\n",
    "train_score = np.sqrt(mean_squared_error(y_train[0], y_pred_train[:,0]))\n",
    "test_score = np.sqrt(mean_squared_error(y_test[0], y_pred_test[:, 0]))\n",
    "print(f\"Train RMSE: {train_score}\")\n",
    "print(f\"Test RMSE: {test_score}\")"
   ]
  },
  {
   "cell_type": "code",
   "execution_count": 79,
   "id": "b1cbc615-e6e7-465a-a6bc-6ecea70543a6",
   "metadata": {
    "tags": []
   },
   "outputs": [
    {
     "data": {
      "image/png": "[encoded data removed]",
      "text/plain": [
       "<Figure size 640x480 with 1 Axes>"
      ]
     },
     "metadata": {},
     "output_type": "display_data"
    }
   ],
   "source": [
    "train_predict_plot = np.empty_like(data)\n",
    "train_predict_plot[:, :] = 0\n",
    "train_predict_plot[look_back:len(y_pred_train)+look_back, :] = y_pred_train\n",
    "test_predict_plot = np.empty_like(data)\n",
    "test_predict_plot[:, :] = 0\n",
    "test_predict_plot[len(y_pred_train)+(look_back*2)+1:len(data)-1, :] = y_pred_test\n",
    "\n",
    "plt.plot(scaler.inverse_transform(scaled_data.copy()), label=\"Original Data\")\n",
    "plt.plot(train_predict_plot, label=\"Train Predictions\")\n",
    "plt.plot(test_predict_plot, label=\"Test Predictions\")\n",
    "plt.legend()\n",
    "plt.title(\"Bitcoin Prices over Time\")\n",
    "plt.show()"
   ]
  },
  {
   "cell_type": "markdown",
   "id": "e671d30a-b060-471b-875a-6ccb775969c4",
   "metadata": {},
   "source": [
    "Interestingly, changing the train test split to 70/30 has benefitted the Simple RNN model but reduced the performance of the LSTM model. This suggests that the LSTM model is more sensitive to the amount of training data it receives."
   ]
  },
  {
   "cell_type": "markdown",
   "id": "ff669618-3721-4307-82d6-2cb76029b2d1",
   "metadata": {
    "tags": []
   },
   "source": [
    "## RNN Model Set 4 - 70/30 Split, 1 Day Lookback, Different Model Specifications"
   ]
  },
  {
   "cell_type": "markdown",
   "id": "6d7c6260-51d7-4d36-8685-8249fee20028",
   "metadata": {},
   "source": [
    "For one last set of models, I am going to generate two different specifications of both Simple RNN and LSTM models. I am going to stick with 70/30 split and 1 day lookback so that the model performance is comparable to Model Set 2."
   ]
  },
  {
   "cell_type": "markdown",
   "id": "6623a8b9-6bcd-4bae-90be-437095aa40d1",
   "metadata": {
    "tags": []
   },
   "source": [
    "### Simple RNN Model 1\n",
    "We will make this a smaller model than the previous Simple RNN models to see how the number of layers impacts the network. "
   ]
  },
  {
   "cell_type": "code",
   "execution_count": 82,
   "id": "eba2e1a7-355c-4933-9b41-2e31585bb385",
   "metadata": {
    "tags": []
   },
   "outputs": [
    {
     "name": "stdout",
     "output_type": "stream",
     "text": [
      "700 300\n",
      "(698, 1) (298, 1)\n",
      "(698, 1, 1) (298, 1, 1)\n"
     ]
    }
   ],
   "source": [
    "scaler = MinMaxScaler(feature_range=(0, 1))\n",
    "scaled_data = scaler.fit_transform(data)\n",
    "\n",
    "# Train test split of 70/30\n",
    "train_size = int(len(scaled_data) * .7)\n",
    "test_size = len(scaled_data) - train_size\n",
    "train, test = scaled_data[0:train_size], scaled_data[train_size:]\n",
    "print(len(train), len(test))\n",
    "\n",
    "# Reshape dataset to X = t and y = t+1\n",
    "# Look back 1 day\n",
    "look_back = 1\n",
    "X_train, y_train = create_dataset(train, look_back)\n",
    "X_test, y_test = create_dataset(test, look_back)\n",
    "print(X_train.shape, X_test.shape)\n",
    "\n",
    "X_train = np.reshape(X_train, (X_train.shape[0], 1, X_train.shape[1]))\n",
    "X_test = np.reshape(X_test, (X_test.shape[0], 1, X_test.shape[1]))\n",
    "print(X_train.shape, X_test.shape)"
   ]
  },
  {
   "cell_type": "code",
   "execution_count": 83,
   "id": "2cf2d234-cb5c-4135-8ff0-beb37d3d9c56",
   "metadata": {
    "collapsed": true,
    "jupyter": {
     "outputs_hidden": true
    },
    "tags": []
   },
   "outputs": [
    {
     "name": "stdout",
     "output_type": "stream",
     "text": [
      "Epoch 1/100\n"
     ]
    },
    {
     "name": "stderr",
     "output_type": "stream",
     "text": [
      "/Users/ben/anaconda3/lib/python3.11/site-packages/keras/src/layers/rnn/rnn.py:204: UserWarning: Do not pass an `input_shape`/`input_dim` argument to a layer. When using Sequential models, prefer using an `Input(shape)` object as the first layer in the model instead.\n"
     ]
    },
    {
     "name": "stdout",
     "output_type": "stream",
     "text": [
      "698/698 - 2s - 3ms/step - loss: 7.5161e-04 - mean_squared_error: 7.5161e-04\n",
      "Epoch 2/100\n",
      "698/698 - 1s - 993us/step - loss: 7.7519e-05 - mean_squared_error: 7.7519e-05\n",
      "Epoch 3/100\n",
      "698/698 - 1s - 991us/step - loss: 7.3453e-05 - mean_squared_error: 7.3453e-05\n",
      "Epoch 4/100\n",
      "698/698 - 1s - 992us/step - loss: 7.5935e-05 - mean_squared_error: 7.5935e-05\n",
      "Epoch 5/100\n",
      "698/698 - 1s - 996us/step - loss: 7.8735e-05 - mean_squared_error: 7.8735e-05\n",
      "Epoch 6/100\n",
      "698/698 - 1s - 998us/step - loss: 7.8390e-05 - mean_squared_error: 7.8390e-05\n",
      "Epoch 7/100\n",
      "698/698 - 1s - 992us/step - loss: 7.8094e-05 - mean_squared_error: 7.8094e-05\n",
      "Epoch 8/100\n",
      "698/698 - 1s - 1ms/step - loss: 7.5997e-05 - mean_squared_error: 7.5997e-05\n",
      "Epoch 9/100\n",
      "698/698 - 1s - 999us/step - loss: 8.5259e-05 - mean_squared_error: 8.5259e-05\n",
      "Epoch 10/100\n",
      "698/698 - 1s - 1ms/step - loss: 7.8366e-05 - mean_squared_error: 7.8366e-05\n",
      "Epoch 11/100\n",
      "698/698 - 1s - 993us/step - loss: 8.1468e-05 - mean_squared_error: 8.1468e-05\n",
      "Epoch 12/100\n",
      "698/698 - 1s - 999us/step - loss: 8.1848e-05 - mean_squared_error: 8.1848e-05\n",
      "Epoch 13/100\n",
      "698/698 - 1s - 993us/step - loss: 8.3177e-05 - mean_squared_error: 8.3177e-05\n",
      "Epoch 14/100\n",
      "698/698 - 1s - 988us/step - loss: 8.1291e-05 - mean_squared_error: 8.1291e-05\n",
      "Epoch 15/100\n",
      "698/698 - 1s - 993us/step - loss: 8.5236e-05 - mean_squared_error: 8.5236e-05\n",
      "Epoch 16/100\n",
      "698/698 - 1s - 997us/step - loss: 8.1138e-05 - mean_squared_error: 8.1138e-05\n",
      "Epoch 17/100\n",
      "698/698 - 1s - 1ms/step - loss: 7.7691e-05 - mean_squared_error: 7.7691e-05\n",
      "Epoch 18/100\n",
      "698/698 - 1s - 990us/step - loss: 7.9429e-05 - mean_squared_error: 7.9429e-05\n",
      "Epoch 19/100\n",
      "698/698 - 1s - 998us/step - loss: 7.9157e-05 - mean_squared_error: 7.9157e-05\n",
      "Epoch 20/100\n",
      "698/698 - 1s - 996us/step - loss: 7.9621e-05 - mean_squared_error: 7.9621e-05\n",
      "Epoch 21/100\n",
      "698/698 - 1s - 990us/step - loss: 7.6576e-05 - mean_squared_error: 7.6576e-05\n",
      "Epoch 22/100\n",
      "698/698 - 1s - 992us/step - loss: 8.0720e-05 - mean_squared_error: 8.0720e-05\n",
      "Epoch 23/100\n",
      "698/698 - 1s - 988us/step - loss: 7.6009e-05 - mean_squared_error: 7.6009e-05\n",
      "Epoch 24/100\n",
      "698/698 - 1s - 990us/step - loss: 8.2482e-05 - mean_squared_error: 8.2482e-05\n",
      "Epoch 25/100\n",
      "698/698 - 1s - 991us/step - loss: 7.8304e-05 - mean_squared_error: 7.8304e-05\n",
      "Epoch 26/100\n",
      "698/698 - 1s - 987us/step - loss: 7.7566e-05 - mean_squared_error: 7.7566e-05\n",
      "Epoch 27/100\n",
      "698/698 - 1s - 1ms/step - loss: 7.7734e-05 - mean_squared_error: 7.7734e-05\n",
      "Epoch 28/100\n",
      "698/698 - 1s - 1ms/step - loss: 7.6892e-05 - mean_squared_error: 7.6892e-05\n",
      "Epoch 29/100\n",
      "698/698 - 1s - 1ms/step - loss: 7.8666e-05 - mean_squared_error: 7.8666e-05\n",
      "Epoch 30/100\n",
      "698/698 - 1s - 984us/step - loss: 7.9113e-05 - mean_squared_error: 7.9113e-05\n",
      "Epoch 31/100\n",
      "698/698 - 1s - 996us/step - loss: 8.1108e-05 - mean_squared_error: 8.1108e-05\n",
      "Epoch 32/100\n",
      "698/698 - 1s - 1ms/step - loss: 7.7372e-05 - mean_squared_error: 7.7372e-05\n",
      "Epoch 33/100\n",
      "698/698 - 1s - 1ms/step - loss: 8.0254e-05 - mean_squared_error: 8.0254e-05\n",
      "Epoch 34/100\n",
      "698/698 - 1s - 1ms/step - loss: 8.0057e-05 - mean_squared_error: 8.0057e-05\n",
      "Epoch 35/100\n",
      "698/698 - 1s - 984us/step - loss: 8.0141e-05 - mean_squared_error: 8.0141e-05\n",
      "Epoch 36/100\n",
      "698/698 - 1s - 997us/step - loss: 8.3140e-05 - mean_squared_error: 8.3140e-05\n",
      "Epoch 37/100\n",
      "698/698 - 1s - 993us/step - loss: 7.9427e-05 - mean_squared_error: 7.9427e-05\n",
      "Epoch 38/100\n",
      "698/698 - 1s - 1ms/step - loss: 7.9423e-05 - mean_squared_error: 7.9423e-05\n",
      "Epoch 39/100\n",
      "698/698 - 1s - 994us/step - loss: 7.7178e-05 - mean_squared_error: 7.7178e-05\n",
      "Epoch 40/100\n",
      "698/698 - 1s - 988us/step - loss: 7.8682e-05 - mean_squared_error: 7.8682e-05\n",
      "Epoch 41/100\n",
      "698/698 - 1s - 988us/step - loss: 7.9009e-05 - mean_squared_error: 7.9009e-05\n",
      "Epoch 42/100\n",
      "698/698 - 1s - 997us/step - loss: 7.9665e-05 - mean_squared_error: 7.9665e-05\n",
      "Epoch 43/100\n",
      "698/698 - 1s - 996us/step - loss: 7.5783e-05 - mean_squared_error: 7.5783e-05\n",
      "Epoch 44/100\n",
      "698/698 - 1s - 985us/step - loss: 7.7260e-05 - mean_squared_error: 7.7260e-05\n",
      "Epoch 45/100\n",
      "698/698 - 1s - 999us/step - loss: 8.0777e-05 - mean_squared_error: 8.0777e-05\n",
      "Epoch 46/100\n",
      "698/698 - 1s - 993us/step - loss: 7.5668e-05 - mean_squared_error: 7.5668e-05\n",
      "Epoch 47/100\n",
      "698/698 - 1s - 989us/step - loss: 7.6671e-05 - mean_squared_error: 7.6671e-05\n",
      "Epoch 48/100\n",
      "698/698 - 1s - 991us/step - loss: 7.6985e-05 - mean_squared_error: 7.6985e-05\n",
      "Epoch 49/100\n",
      "698/698 - 1s - 991us/step - loss: 7.5716e-05 - mean_squared_error: 7.5716e-05\n",
      "Epoch 50/100\n",
      "698/698 - 1s - 997us/step - loss: 7.9204e-05 - mean_squared_error: 7.9204e-05\n",
      "Epoch 51/100\n",
      "698/698 - 1s - 985us/step - loss: 7.5256e-05 - mean_squared_error: 7.5256e-05\n",
      "Epoch 52/100\n",
      "698/698 - 1s - 989us/step - loss: 7.8826e-05 - mean_squared_error: 7.8826e-05\n",
      "Epoch 53/100\n",
      "698/698 - 1s - 1ms/step - loss: 7.6517e-05 - mean_squared_error: 7.6517e-05\n",
      "Epoch 54/100\n",
      "698/698 - 1s - 1ms/step - loss: 7.7120e-05 - mean_squared_error: 7.7120e-05\n",
      "Epoch 55/100\n",
      "698/698 - 1s - 1ms/step - loss: 7.8081e-05 - mean_squared_error: 7.8081e-05\n",
      "Epoch 56/100\n",
      "698/698 - 1s - 991us/step - loss: 7.8028e-05 - mean_squared_error: 7.8028e-05\n",
      "Epoch 57/100\n",
      "698/698 - 1s - 1ms/step - loss: 7.2494e-05 - mean_squared_error: 7.2494e-05\n",
      "Epoch 58/100\n",
      "698/698 - 1s - 989us/step - loss: 7.7210e-05 - mean_squared_error: 7.7210e-05\n",
      "Epoch 59/100\n",
      "698/698 - 1s - 989us/step - loss: 7.5801e-05 - mean_squared_error: 7.5801e-05\n",
      "Epoch 60/100\n",
      "698/698 - 1s - 991us/step - loss: 7.5073e-05 - mean_squared_error: 7.5073e-05\n",
      "Epoch 61/100\n",
      "698/698 - 1s - 987us/step - loss: 8.0069e-05 - mean_squared_error: 8.0069e-05\n",
      "Epoch 62/100\n",
      "698/698 - 1s - 987us/step - loss: 7.7663e-05 - mean_squared_error: 7.7663e-05\n",
      "Epoch 63/100\n",
      "698/698 - 1s - 992us/step - loss: 7.6291e-05 - mean_squared_error: 7.6291e-05\n",
      "Epoch 64/100\n",
      "698/698 - 1s - 989us/step - loss: 7.7626e-05 - mean_squared_error: 7.7626e-05\n",
      "Epoch 65/100\n",
      "698/698 - 1s - 996us/step - loss: 7.6173e-05 - mean_squared_error: 7.6173e-05\n",
      "Epoch 66/100\n",
      "698/698 - 1s - 986us/step - loss: 7.6266e-05 - mean_squared_error: 7.6266e-05\n",
      "Epoch 67/100\n",
      "698/698 - 1s - 989us/step - loss: 7.3524e-05 - mean_squared_error: 7.3524e-05\n",
      "Epoch 68/100\n",
      "698/698 - 1s - 989us/step - loss: 7.5889e-05 - mean_squared_error: 7.5889e-05\n",
      "Epoch 69/100\n",
      "698/698 - 1s - 984us/step - loss: 7.6960e-05 - mean_squared_error: 7.6960e-05\n",
      "Epoch 70/100\n",
      "698/698 - 1s - 992us/step - loss: 7.4638e-05 - mean_squared_error: 7.4638e-05\n",
      "Epoch 71/100\n",
      "698/698 - 1s - 989us/step - loss: 7.5054e-05 - mean_squared_error: 7.5054e-05\n",
      "Epoch 72/100\n",
      "698/698 - 1s - 986us/step - loss: 7.8029e-05 - mean_squared_error: 7.8029e-05\n",
      "Epoch 73/100\n",
      "698/698 - 1s - 987us/step - loss: 7.6212e-05 - mean_squared_error: 7.6212e-05\n",
      "Epoch 74/100\n",
      "698/698 - 1s - 989us/step - loss: 7.6434e-05 - mean_squared_error: 7.6434e-05\n",
      "Epoch 75/100\n",
      "698/698 - 1s - 989us/step - loss: 7.7060e-05 - mean_squared_error: 7.7060e-05\n",
      "Epoch 76/100\n",
      "698/698 - 1s - 1ms/step - loss: 7.4206e-05 - mean_squared_error: 7.4206e-05\n",
      "Epoch 77/100\n",
      "698/698 - 1s - 992us/step - loss: 7.3687e-05 - mean_squared_error: 7.3687e-05\n",
      "Epoch 78/100\n",
      "698/698 - 1s - 998us/step - loss: 7.3340e-05 - mean_squared_error: 7.3340e-05\n",
      "Epoch 79/100\n",
      "698/698 - 1s - 989us/step - loss: 7.5369e-05 - mean_squared_error: 7.5369e-05\n",
      "Epoch 80/100\n",
      "698/698 - 1s - 993us/step - loss: 7.5801e-05 - mean_squared_error: 7.5801e-05\n",
      "Epoch 81/100\n",
      "698/698 - 1s - 984us/step - loss: 7.4356e-05 - mean_squared_error: 7.4356e-05\n",
      "Epoch 82/100\n",
      "698/698 - 1s - 991us/step - loss: 7.5584e-05 - mean_squared_error: 7.5584e-05\n",
      "Epoch 83/100\n",
      "698/698 - 1s - 983us/step - loss: 7.6122e-05 - mean_squared_error: 7.6122e-05\n",
      "Epoch 84/100\n",
      "698/698 - 1s - 989us/step - loss: 7.5887e-05 - mean_squared_error: 7.5887e-05\n",
      "Epoch 85/100\n",
      "698/698 - 1s - 987us/step - loss: 7.5158e-05 - mean_squared_error: 7.5158e-05\n",
      "Epoch 86/100\n",
      "698/698 - 1s - 989us/step - loss: 7.4071e-05 - mean_squared_error: 7.4071e-05\n",
      "Epoch 87/100\n",
      "698/698 - 1s - 985us/step - loss: 7.9436e-05 - mean_squared_error: 7.9436e-05\n",
      "Epoch 88/100\n",
      "698/698 - 1s - 986us/step - loss: 7.4340e-05 - mean_squared_error: 7.4340e-05\n",
      "Epoch 89/100\n",
      "698/698 - 1s - 986us/step - loss: 7.4899e-05 - mean_squared_error: 7.4899e-05\n",
      "Epoch 90/100\n",
      "698/698 - 1s - 991us/step - loss: 7.4478e-05 - mean_squared_error: 7.4478e-05\n",
      "Epoch 91/100\n",
      "698/698 - 1s - 984us/step - loss: 7.6082e-05 - mean_squared_error: 7.6082e-05\n",
      "Epoch 92/100\n",
      "698/698 - 1s - 997us/step - loss: 7.2986e-05 - mean_squared_error: 7.2986e-05\n",
      "Epoch 93/100\n",
      "698/698 - 1s - 986us/step - loss: 7.4878e-05 - mean_squared_error: 7.4878e-05\n",
      "Epoch 94/100\n",
      "698/698 - 1s - 984us/step - loss: 7.7641e-05 - mean_squared_error: 7.7641e-05\n",
      "Epoch 95/100\n",
      "698/698 - 1s - 988us/step - loss: 7.5318e-05 - mean_squared_error: 7.5318e-05\n",
      "Epoch 96/100\n",
      "698/698 - 1s - 983us/step - loss: 7.5121e-05 - mean_squared_error: 7.5121e-05\n",
      "Epoch 97/100\n",
      "698/698 - 1s - 1ms/step - loss: 7.9303e-05 - mean_squared_error: 7.9303e-05\n",
      "Epoch 98/100\n",
      "698/698 - 1s - 1ms/step - loss: 7.4708e-05 - mean_squared_error: 7.4708e-05\n",
      "Epoch 99/100\n",
      "698/698 - 1s - 990us/step - loss: 7.6156e-05 - mean_squared_error: 7.6156e-05\n",
      "Epoch 100/100\n",
      "698/698 - 1s - 995us/step - loss: 7.5569e-05 - mean_squared_error: 7.5569e-05\n"
     ]
    },
    {
     "data": {
      "text/plain": [
       "<keras.src.callbacks.history.History at 0x176fa7e90>"
      ]
     },
     "execution_count": 83,
     "metadata": {},
     "output_type": "execute_result"
    }
   ],
   "source": [
    "#| output: False\n",
    "# Simple RNN Network\n",
    "model = Sequential()\n",
    "model.add(SimpleRNN(4, input_shape = (1, look_back)))\n",
    "model.add(Dense(1))\n",
    "model.compile(loss=\"mean_squared_error\", optimizer=\"adam\", metrics=[\"mean_squared_error\"])\n",
    "model.fit(X_train, y_train, epochs = 100, batch_size = 1, verbose = 2)"
   ]
  },
  {
   "cell_type": "code",
   "execution_count": 84,
   "id": "f59407e7-0e07-49ee-be9d-263b884ef9f6",
   "metadata": {
    "tags": []
   },
   "outputs": [
    {
     "name": "stdout",
     "output_type": "stream",
     "text": [
      "\u001b[1m22/22\u001b[0m \u001b[32m━━━━━━━━━━━━━━━━━━━━\u001b[0m\u001b[37m\u001b[0m \u001b[1m0s\u001b[0m 7ms/step\n",
      "\u001b[1m10/10\u001b[0m \u001b[32m━━━━━━━━━━━━━━━━━━━━\u001b[0m\u001b[37m\u001b[0m \u001b[1m0s\u001b[0m 1ms/step \n",
      "Train RMSE: 377.12475837297757\n",
      "Test RMSE: 1946.0306274331206\n"
     ]
    }
   ],
   "source": [
    "# Make predictions\n",
    "y_pred_train = model.predict(X_train)\n",
    "y_pred_test = model.predict(X_test)\n",
    "# Unscale predictions\n",
    "y_pred_train = scaler.inverse_transform(y_pred_train)\n",
    "y_pred_test = scaler.inverse_transform(y_pred_test)\n",
    "y_train = scaler.inverse_transform([y_train])\n",
    "y_test = scaler.inverse_transform([y_test])\n",
    "# Calculate RMSE\n",
    "train_score = np.sqrt(mean_squared_error(y_train[0], y_pred_train[:,0]))\n",
    "test_score = np.sqrt(mean_squared_error(y_test[0], y_pred_test[:, 0]))\n",
    "print(f\"Train RMSE: {train_score}\")\n",
    "print(f\"Test RMSE: {test_score}\")"
   ]
  },
  {
   "cell_type": "code",
   "execution_count": 85,
   "id": "49bee4e6-f4bc-42ee-b253-8740f976ee65",
   "metadata": {
    "tags": []
   },
   "outputs": [
    {
     "data": {
      "image/png": "[encoded data removed]",
      "text/plain": [
       "<Figure size 640x480 with 1 Axes>"
      ]
     },
     "metadata": {},
     "output_type": "display_data"
    }
   ],
   "source": [
    "train_predict_plot = np.empty_like(data)\n",
    "train_predict_plot[:, :] = 0\n",
    "train_predict_plot[look_back:len(y_pred_train)+look_back, :] = y_pred_train\n",
    "test_predict_plot = np.empty_like(data)\n",
    "test_predict_plot[:, :] = 0\n",
    "test_predict_plot[len(y_pred_train)+(look_back*2)+1:len(data)-1, :] = y_pred_test\n",
    "\n",
    "plt.plot(scaler.inverse_transform(scaled_data.copy()), label=\"Original Data\")\n",
    "plt.plot(train_predict_plot, label=\"Train Predictions\")\n",
    "plt.plot(test_predict_plot, label=\"Test Predictions\")\n",
    "plt.legend()\n",
    "plt.title(\"Bitcoin Prices over Time\")\n",
    "plt.show()"
   ]
  },
  {
   "cell_type": "markdown",
   "id": "c68849a7-2f12-48dd-8451-6e3fcb7ea127",
   "metadata": {},
   "source": [
    "Comparing this model to the previous Simple RNN model, it appears that halving the size of the network has had a slightly negative effect on the predictions, but it is much closer to the original model than I expected. Now we will try increasing size of the network."
   ]
  },
  {
   "cell_type": "markdown",
   "id": "9c59f8ce-3474-4bb2-ab2f-33a187219d92",
   "metadata": {
    "tags": []
   },
   "source": [
    "### Simple RNN Model 2\n",
    "Our two previous Simple RNN models had layer sizes of 8 and 4, now we will try using a layer size of 16 to see if we can further increase performance."
   ]
  },
  {
   "cell_type": "code",
   "execution_count": 87,
   "id": "876003c2-39cb-4a29-b2fe-feaf778553fb",
   "metadata": {
    "tags": []
   },
   "outputs": [
    {
     "name": "stdout",
     "output_type": "stream",
     "text": [
      "700 300\n",
      "(698, 1) (298, 1)\n",
      "(698, 1, 1) (298, 1, 1)\n"
     ]
    }
   ],
   "source": [
    "scaler = MinMaxScaler(feature_range=(0, 1))\n",
    "scaled_data = scaler.fit_transform(data)\n",
    "\n",
    "# Train test split of 70/30\n",
    "train_size = int(len(scaled_data) * .7)\n",
    "test_size = len(scaled_data) - train_size\n",
    "train, test = scaled_data[0:train_size], scaled_data[train_size:]\n",
    "print(len(train), len(test))\n",
    "\n",
    "# Reshape dataset to X = t and y = t+1\n",
    "# Look back 1 day\n",
    "look_back = 1\n",
    "X_train, y_train = create_dataset(train, look_back)\n",
    "X_test, y_test = create_dataset(test, look_back)\n",
    "print(X_train.shape, X_test.shape)\n",
    "\n",
    "X_train = np.reshape(X_train, (X_train.shape[0], 1, X_train.shape[1]))\n",
    "X_test = np.reshape(X_test, (X_test.shape[0], 1, X_test.shape[1]))\n",
    "print(X_train.shape, X_test.shape)"
   ]
  },
  {
   "cell_type": "code",
   "execution_count": 88,
   "id": "2f10b05e-1edb-4ed5-a1b9-c4d9772a6245",
   "metadata": {
    "collapsed": true,
    "jupyter": {
     "outputs_hidden": true
    },
    "tags": []
   },
   "outputs": [
    {
     "name": "stdout",
     "output_type": "stream",
     "text": [
      "Epoch 1/100\n"
     ]
    },
    {
     "name": "stderr",
     "output_type": "stream",
     "text": [
      "/Users/ben/anaconda3/lib/python3.11/site-packages/keras/src/layers/rnn/rnn.py:204: UserWarning: Do not pass an `input_shape`/`input_dim` argument to a layer. When using Sequential models, prefer using an `Input(shape)` object as the first layer in the model instead.\n"
     ]
    },
    {
     "name": "stdout",
     "output_type": "stream",
     "text": [
      "698/698 - 2s - 3ms/step - loss: 0.0067 - mean_squared_error: 0.0067\n",
      "Epoch 2/100\n",
      "698/698 - 1s - 999us/step - loss: 2.1193e-04 - mean_squared_error: 2.1193e-04\n",
      "Epoch 3/100\n",
      "698/698 - 1s - 1ms/step - loss: 7.2197e-05 - mean_squared_error: 7.2197e-05\n",
      "Epoch 4/100\n",
      "698/698 - 1s - 1ms/step - loss: 7.4316e-05 - mean_squared_error: 7.4316e-05\n",
      "Epoch 5/100\n",
      "698/698 - 1s - 998us/step - loss: 7.8240e-05 - mean_squared_error: 7.8240e-05\n",
      "Epoch 6/100\n",
      "698/698 - 1s - 1ms/step - loss: 8.2802e-05 - mean_squared_error: 8.2802e-05\n",
      "Epoch 7/100\n",
      "698/698 - 1s - 1ms/step - loss: 8.2068e-05 - mean_squared_error: 8.2068e-05\n",
      "Epoch 8/100\n",
      "698/698 - 1s - 1000us/step - loss: 7.8197e-05 - mean_squared_error: 7.8197e-05\n",
      "Epoch 9/100\n",
      "698/698 - 1s - 1ms/step - loss: 8.9785e-05 - mean_squared_error: 8.9785e-05\n",
      "Epoch 10/100\n",
      "698/698 - 1s - 1ms/step - loss: 8.1315e-05 - mean_squared_error: 8.1315e-05\n",
      "Epoch 11/100\n",
      "698/698 - 1s - 1000us/step - loss: 8.2042e-05 - mean_squared_error: 8.2042e-05\n",
      "Epoch 12/100\n",
      "698/698 - 1s - 995us/step - loss: 8.1812e-05 - mean_squared_error: 8.1812e-05\n",
      "Epoch 13/100\n",
      "698/698 - 1s - 1ms/step - loss: 8.5259e-05 - mean_squared_error: 8.5259e-05\n",
      "Epoch 14/100\n",
      "698/698 - 1s - 1ms/step - loss: 8.4605e-05 - mean_squared_error: 8.4605e-05\n",
      "Epoch 15/100\n",
      "698/698 - 1s - 1ms/step - loss: 7.9873e-05 - mean_squared_error: 7.9873e-05\n",
      "Epoch 16/100\n",
      "698/698 - 1s - 991us/step - loss: 8.2913e-05 - mean_squared_error: 8.2913e-05\n",
      "Epoch 17/100\n",
      "698/698 - 1s - 1ms/step - loss: 7.9612e-05 - mean_squared_error: 7.9612e-05\n",
      "Epoch 18/100\n",
      "698/698 - 1s - 1ms/step - loss: 8.3505e-05 - mean_squared_error: 8.3505e-05\n",
      "Epoch 19/100\n",
      "698/698 - 1s - 1ms/step - loss: 7.8187e-05 - mean_squared_error: 7.8187e-05\n",
      "Epoch 20/100\n",
      "698/698 - 1s - 1ms/step - loss: 8.2330e-05 - mean_squared_error: 8.2330e-05\n",
      "Epoch 21/100\n",
      "698/698 - 1s - 998us/step - loss: 8.1030e-05 - mean_squared_error: 8.1030e-05\n",
      "Epoch 22/100\n",
      "698/698 - 1s - 995us/step - loss: 7.9004e-05 - mean_squared_error: 7.9004e-05\n",
      "Epoch 23/100\n",
      "698/698 - 1s - 992us/step - loss: 8.1052e-05 - mean_squared_error: 8.1052e-05\n",
      "Epoch 24/100\n",
      "698/698 - 1s - 1ms/step - loss: 8.2316e-05 - mean_squared_error: 8.2316e-05\n",
      "Epoch 25/100\n",
      "698/698 - 1s - 1ms/step - loss: 8.0822e-05 - mean_squared_error: 8.0822e-05\n",
      "Epoch 26/100\n",
      "698/698 - 1s - 1ms/step - loss: 8.0018e-05 - mean_squared_error: 8.0018e-05\n",
      "Epoch 27/100\n",
      "698/698 - 1s - 1ms/step - loss: 7.7983e-05 - mean_squared_error: 7.7983e-05\n",
      "Epoch 28/100\n",
      "698/698 - 1s - 1ms/step - loss: 7.7799e-05 - mean_squared_error: 7.7799e-05\n",
      "Epoch 29/100\n",
      "698/698 - 1s - 1ms/step - loss: 7.4685e-05 - mean_squared_error: 7.4685e-05\n",
      "Epoch 30/100\n",
      "698/698 - 1s - 1ms/step - loss: 7.6813e-05 - mean_squared_error: 7.6813e-05\n",
      "Epoch 31/100\n",
      "698/698 - 1s - 993us/step - loss: 8.3209e-05 - mean_squared_error: 8.3209e-05\n",
      "Epoch 32/100\n",
      "698/698 - 1s - 999us/step - loss: 7.7517e-05 - mean_squared_error: 7.7517e-05\n",
      "Epoch 33/100\n",
      "698/698 - 1s - 1ms/step - loss: 8.0460e-05 - mean_squared_error: 8.0460e-05\n",
      "Epoch 34/100\n",
      "698/698 - 1s - 1ms/step - loss: 7.9301e-05 - mean_squared_error: 7.9301e-05\n",
      "Epoch 35/100\n",
      "698/698 - 1s - 1ms/step - loss: 8.0715e-05 - mean_squared_error: 8.0715e-05\n",
      "Epoch 36/100\n",
      "698/698 - 1s - 1ms/step - loss: 7.7313e-05 - mean_squared_error: 7.7313e-05\n",
      "Epoch 37/100\n",
      "698/698 - 1s - 1ms/step - loss: 8.2625e-05 - mean_squared_error: 8.2625e-05\n",
      "Epoch 38/100\n",
      "698/698 - 1s - 991us/step - loss: 8.2874e-05 - mean_squared_error: 8.2874e-05\n",
      "Epoch 39/100\n",
      "698/698 - 1s - 998us/step - loss: 7.4644e-05 - mean_squared_error: 7.4644e-05\n",
      "Epoch 40/100\n",
      "698/698 - 1s - 1ms/step - loss: 8.4789e-05 - mean_squared_error: 8.4789e-05\n",
      "Epoch 41/100\n",
      "698/698 - 1s - 1ms/step - loss: 7.7958e-05 - mean_squared_error: 7.7958e-05\n",
      "Epoch 42/100\n",
      "698/698 - 1s - 1ms/step - loss: 7.9469e-05 - mean_squared_error: 7.9469e-05\n",
      "Epoch 43/100\n",
      "698/698 - 1s - 1ms/step - loss: 7.8108e-05 - mean_squared_error: 7.8108e-05\n",
      "Epoch 44/100\n",
      "698/698 - 1s - 1ms/step - loss: 7.9736e-05 - mean_squared_error: 7.9736e-05\n",
      "Epoch 45/100\n",
      "698/698 - 1s - 984us/step - loss: 7.5040e-05 - mean_squared_error: 7.5040e-05\n",
      "Epoch 46/100\n",
      "698/698 - 1s - 1ms/step - loss: 7.7516e-05 - mean_squared_error: 7.7516e-05\n",
      "Epoch 47/100\n",
      "698/698 - 1s - 1ms/step - loss: 8.1326e-05 - mean_squared_error: 8.1326e-05\n",
      "Epoch 48/100\n",
      "698/698 - 1s - 1ms/step - loss: 8.0517e-05 - mean_squared_error: 8.0517e-05\n",
      "Epoch 49/100\n",
      "698/698 - 1s - 1ms/step - loss: 8.3171e-05 - mean_squared_error: 8.3171e-05\n",
      "Epoch 50/100\n",
      "698/698 - 1s - 994us/step - loss: 7.7329e-05 - mean_squared_error: 7.7329e-05\n",
      "Epoch 51/100\n",
      "698/698 - 1s - 1ms/step - loss: 7.7521e-05 - mean_squared_error: 7.7521e-05\n",
      "Epoch 52/100\n",
      "698/698 - 1s - 1ms/step - loss: 7.4728e-05 - mean_squared_error: 7.4728e-05\n",
      "Epoch 53/100\n",
      "698/698 - 1s - 1ms/step - loss: 8.2996e-05 - mean_squared_error: 8.2996e-05\n",
      "Epoch 54/100\n",
      "698/698 - 1s - 1ms/step - loss: 7.9454e-05 - mean_squared_error: 7.9454e-05\n",
      "Epoch 55/100\n",
      "698/698 - 1s - 998us/step - loss: 8.1110e-05 - mean_squared_error: 8.1110e-05\n",
      "Epoch 56/100\n",
      "698/698 - 1s - 994us/step - loss: 7.7188e-05 - mean_squared_error: 7.7188e-05\n",
      "Epoch 57/100\n",
      "698/698 - 1s - 1ms/step - loss: 7.5154e-05 - mean_squared_error: 7.5154e-05\n",
      "Epoch 58/100\n",
      "698/698 - 1s - 1ms/step - loss: 7.7456e-05 - mean_squared_error: 7.7456e-05\n",
      "Epoch 59/100\n",
      "698/698 - 1s - 992us/step - loss: 7.8118e-05 - mean_squared_error: 7.8118e-05\n",
      "Epoch 60/100\n",
      "698/698 - 1s - 989us/step - loss: 7.7595e-05 - mean_squared_error: 7.7595e-05\n",
      "Epoch 61/100\n",
      "698/698 - 1s - 1ms/step - loss: 7.5231e-05 - mean_squared_error: 7.5231e-05\n",
      "Epoch 62/100\n",
      "698/698 - 1s - 1ms/step - loss: 7.6481e-05 - mean_squared_error: 7.6481e-05\n",
      "Epoch 63/100\n",
      "698/698 - 1s - 1ms/step - loss: 7.4822e-05 - mean_squared_error: 7.4822e-05\n",
      "Epoch 64/100\n",
      "698/698 - 1s - 991us/step - loss: 7.9895e-05 - mean_squared_error: 7.9895e-05\n",
      "Epoch 65/100\n",
      "698/698 - 1s - 989us/step - loss: 7.4151e-05 - mean_squared_error: 7.4151e-05\n",
      "Epoch 66/100\n",
      "698/698 - 1s - 1ms/step - loss: 7.7030e-05 - mean_squared_error: 7.7030e-05\n",
      "Epoch 67/100\n",
      "698/698 - 1s - 1ms/step - loss: 7.8080e-05 - mean_squared_error: 7.8080e-05\n",
      "Epoch 68/100\n",
      "698/698 - 1s - 1ms/step - loss: 7.8982e-05 - mean_squared_error: 7.8982e-05\n",
      "Epoch 69/100\n",
      "698/698 - 1s - 1ms/step - loss: 7.4796e-05 - mean_squared_error: 7.4796e-05\n",
      "Epoch 70/100\n",
      "698/698 - 1s - 1ms/step - loss: 8.1284e-05 - mean_squared_error: 8.1284e-05\n",
      "Epoch 71/100\n",
      "698/698 - 1s - 1ms/step - loss: 7.6851e-05 - mean_squared_error: 7.6851e-05\n",
      "Epoch 72/100\n",
      "698/698 - 1s - 1ms/step - loss: 7.9822e-05 - mean_squared_error: 7.9822e-05\n",
      "Epoch 73/100\n",
      "698/698 - 1s - 1ms/step - loss: 7.9350e-05 - mean_squared_error: 7.9350e-05\n",
      "Epoch 74/100\n",
      "698/698 - 1s - 1ms/step - loss: 7.5339e-05 - mean_squared_error: 7.5339e-05\n",
      "Epoch 75/100\n",
      "698/698 - 1s - 1ms/step - loss: 7.5325e-05 - mean_squared_error: 7.5325e-05\n",
      "Epoch 76/100\n",
      "698/698 - 1s - 1ms/step - loss: 7.5589e-05 - mean_squared_error: 7.5589e-05\n",
      "Epoch 77/100\n",
      "698/698 - 1s - 996us/step - loss: 7.9146e-05 - mean_squared_error: 7.9146e-05\n",
      "Epoch 78/100\n",
      "698/698 - 1s - 1ms/step - loss: 7.7909e-05 - mean_squared_error: 7.7909e-05\n",
      "Epoch 79/100\n",
      "698/698 - 1s - 994us/step - loss: 7.4615e-05 - mean_squared_error: 7.4615e-05\n",
      "Epoch 80/100\n",
      "698/698 - 1s - 997us/step - loss: 7.7166e-05 - mean_squared_error: 7.7166e-05\n",
      "Epoch 81/100\n",
      "698/698 - 1s - 997us/step - loss: 8.0746e-05 - mean_squared_error: 8.0746e-05\n",
      "Epoch 82/100\n",
      "698/698 - 1s - 1ms/step - loss: 8.0816e-05 - mean_squared_error: 8.0816e-05\n",
      "Epoch 83/100\n",
      "698/698 - 1s - 993us/step - loss: 8.0824e-05 - mean_squared_error: 8.0824e-05\n",
      "Epoch 84/100\n",
      "698/698 - 1s - 1ms/step - loss: 7.8424e-05 - mean_squared_error: 7.8424e-05\n",
      "Epoch 85/100\n",
      "698/698 - 1s - 1ms/step - loss: 7.5181e-05 - mean_squared_error: 7.5181e-05\n",
      "Epoch 86/100\n",
      "698/698 - 1s - 1ms/step - loss: 7.4877e-05 - mean_squared_error: 7.4877e-05\n",
      "Epoch 87/100\n",
      "698/698 - 1s - 996us/step - loss: 7.8333e-05 - mean_squared_error: 7.8333e-05\n",
      "Epoch 88/100\n",
      "698/698 - 1s - 1ms/step - loss: 7.4250e-05 - mean_squared_error: 7.4250e-05\n",
      "Epoch 89/100\n",
      "698/698 - 1s - 1ms/step - loss: 7.9637e-05 - mean_squared_error: 7.9637e-05\n",
      "Epoch 90/100\n",
      "698/698 - 1s - 1ms/step - loss: 8.0792e-05 - mean_squared_error: 8.0792e-05\n",
      "Epoch 91/100\n",
      "698/698 - 1s - 997us/step - loss: 7.5448e-05 - mean_squared_error: 7.5448e-05\n",
      "Epoch 92/100\n",
      "698/698 - 1s - 1ms/step - loss: 7.6471e-05 - mean_squared_error: 7.6471e-05\n",
      "Epoch 93/100\n",
      "698/698 - 1s - 1ms/step - loss: 7.6063e-05 - mean_squared_error: 7.6063e-05\n",
      "Epoch 94/100\n",
      "698/698 - 1s - 999us/step - loss: 7.7360e-05 - mean_squared_error: 7.7360e-05\n",
      "Epoch 95/100\n",
      "698/698 - 1s - 998us/step - loss: 7.7256e-05 - mean_squared_error: 7.7256e-05\n",
      "Epoch 96/100\n",
      "698/698 - 1s - 1ms/step - loss: 7.7818e-05 - mean_squared_error: 7.7818e-05\n",
      "Epoch 97/100\n",
      "698/698 - 1s - 1ms/step - loss: 7.7985e-05 - mean_squared_error: 7.7985e-05\n",
      "Epoch 98/100\n",
      "698/698 - 1s - 1ms/step - loss: 7.6573e-05 - mean_squared_error: 7.6573e-05\n",
      "Epoch 99/100\n",
      "698/698 - 1s - 988us/step - loss: 7.6545e-05 - mean_squared_error: 7.6545e-05\n",
      "Epoch 100/100\n",
      "698/698 - 1s - 984us/step - loss: 7.7999e-05 - mean_squared_error: 7.7999e-05\n"
     ]
    },
    {
     "data": {
      "text/plain": [
       "<keras.src.callbacks.history.History at 0x177386ed0>"
      ]
     },
     "execution_count": 88,
     "metadata": {},
     "output_type": "execute_result"
    }
   ],
   "source": [
    "#| output: False\n",
    "# Simple RNN Network\n",
    "model = Sequential()\n",
    "model.add(SimpleRNN(16, input_shape = (1, look_back)))\n",
    "model.add(Dense(1))\n",
    "model.compile(loss=\"mean_squared_error\", optimizer=\"adam\", metrics=[\"mean_squared_error\"])\n",
    "model.fit(X_train, y_train, epochs = 100, batch_size = 1, verbose = 2)"
   ]
  },
  {
   "cell_type": "code",
   "execution_count": 89,
   "id": "1481769a-c271-4ed5-ae77-8e635fc607d4",
   "metadata": {
    "tags": []
   },
   "outputs": [
    {
     "name": "stdout",
     "output_type": "stream",
     "text": [
      "\u001b[1m22/22\u001b[0m \u001b[32m━━━━━━━━━━━━━━━━━━━━\u001b[0m\u001b[37m\u001b[0m \u001b[1m0s\u001b[0m 7ms/step\n",
      "\u001b[1m10/10\u001b[0m \u001b[32m━━━━━━━━━━━━━━━━━━━━\u001b[0m\u001b[37m\u001b[0m \u001b[1m0s\u001b[0m 1ms/step \n",
      "Train RMSE: 321.53199094402447\n",
      "Test RMSE: 1273.6629045122277\n"
     ]
    }
   ],
   "source": [
    "# Make predictions\n",
    "y_pred_train = model.predict(X_train)\n",
    "y_pred_test = model.predict(X_test)\n",
    "# Unscale predictions\n",
    "y_pred_train = scaler.inverse_transform(y_pred_train)\n",
    "y_pred_test = scaler.inverse_transform(y_pred_test)\n",
    "y_train = scaler.inverse_transform([y_train])\n",
    "y_test = scaler.inverse_transform([y_test])\n",
    "# Calculate RMSE\n",
    "train_score = np.sqrt(mean_squared_error(y_train[0], y_pred_train[:,0]))\n",
    "test_score = np.sqrt(mean_squared_error(y_test[0], y_pred_test[:, 0]))\n",
    "print(f\"Train RMSE: {train_score}\")\n",
    "print(f\"Test RMSE: {test_score}\")"
   ]
  },
  {
   "cell_type": "code",
   "execution_count": 90,
   "id": "5576d50c-ee55-437d-bcad-36447ca759a1",
   "metadata": {
    "tags": []
   },
   "outputs": [
    {
     "data": {
      "image/png": "[encoded data removed]",
      "text/plain": [
       "<Figure size 640x480 with 1 Axes>"
      ]
     },
     "metadata": {},
     "output_type": "display_data"
    }
   ],
   "source": [
    "train_predict_plot = np.empty_like(data)\n",
    "train_predict_plot[:, :] = 0\n",
    "train_predict_plot[look_back:len(y_pred_train)+look_back, :] = y_pred_train\n",
    "test_predict_plot = np.empty_like(data)\n",
    "test_predict_plot[:, :] = 0\n",
    "test_predict_plot[len(y_pred_train)+(look_back*2)+1:len(data)-1, :] = y_pred_test\n",
    "\n",
    "plt.plot(scaler.inverse_transform(scaled_data.copy()), label=\"Original Data\")\n",
    "plt.plot(train_predict_plot, label=\"Train Predictions\")\n",
    "plt.plot(test_predict_plot, label=\"Test Predictions\")\n",
    "plt.legend()\n",
    "plt.title(\"Bitcoin Prices over Time\")\n",
    "plt.show()"
   ]
  },
  {
   "cell_type": "markdown",
   "id": "392d4cab-579e-415a-9f62-a48417f541b1",
   "metadata": {},
   "source": [
    "By doubling the size of the network from our baseline 8 layer model, we have significantly increased the performance of the model. Now we will move onto LSTM models."
   ]
  },
  {
   "cell_type": "markdown",
   "id": "555c177b-27e4-48d7-9e35-36fe2f63187f",
   "metadata": {
    "tags": []
   },
   "source": [
    "### LSTM Model 1\n",
    "We will once again begin by halving the size of the network from 8 to 4 layers to observe how that affects the performance of the LSTM model."
   ]
  },
  {
   "cell_type": "code",
   "execution_count": 92,
   "id": "33d5816e-1438-437b-a64e-d1f38518672f",
   "metadata": {
    "tags": []
   },
   "outputs": [
    {
     "name": "stdout",
     "output_type": "stream",
     "text": [
      "700 300\n",
      "(698, 1) (298, 1)\n",
      "(698, 1, 1) (298, 1, 1)\n"
     ]
    }
   ],
   "source": [
    "scaler = MinMaxScaler(feature_range=(0, 1))\n",
    "scaled_data = scaler.fit_transform(data)\n",
    "\n",
    "# Train test split of 70/30\n",
    "train_size = int(len(scaled_data) * .7)\n",
    "test_size = len(scaled_data) - train_size\n",
    "train, test = scaled_data[0:train_size], scaled_data[train_size:]\n",
    "print(len(train), len(test))\n",
    "\n",
    "# Reshape dataset to X = t and y = t+1\n",
    "# Look back 1 day\n",
    "look_back = 1\n",
    "X_train, y_train = create_dataset(train, look_back)\n",
    "X_test, y_test = create_dataset(test, look_back)\n",
    "print(X_train.shape, X_test.shape)\n",
    "\n",
    "X_train = np.reshape(X_train, (X_train.shape[0], 1, X_train.shape[1]))\n",
    "X_test = np.reshape(X_test, (X_test.shape[0], 1, X_test.shape[1]))\n",
    "print(X_train.shape, X_test.shape)"
   ]
  },
  {
   "cell_type": "code",
   "execution_count": 93,
   "id": "d4f45ccd-685c-48ee-961d-7ea247a4a4c4",
   "metadata": {
    "collapsed": true,
    "jupyter": {
     "outputs_hidden": true
    },
    "tags": []
   },
   "outputs": [
    {
     "name": "stdout",
     "output_type": "stream",
     "text": [
      "Epoch 1/100\n"
     ]
    },
    {
     "name": "stderr",
     "output_type": "stream",
     "text": [
      "/Users/ben/anaconda3/lib/python3.11/site-packages/keras/src/layers/rnn/rnn.py:204: UserWarning: Do not pass an `input_shape`/`input_dim` argument to a layer. When using Sequential models, prefer using an `Input(shape)` object as the first layer in the model instead.\n"
     ]
    },
    {
     "name": "stdout",
     "output_type": "stream",
     "text": [
      "698/698 - 2s - 3ms/step - loss: 0.0039 - mean_squared_error: 0.0039\n",
      "Epoch 2/100\n",
      "698/698 - 1s - 1ms/step - loss: 0.0017 - mean_squared_error: 0.0017\n",
      "Epoch 3/100\n",
      "698/698 - 1s - 1ms/step - loss: 3.9759e-04 - mean_squared_error: 3.9759e-04\n",
      "Epoch 4/100\n",
      "698/698 - 1s - 1ms/step - loss: 8.3900e-05 - mean_squared_error: 8.3900e-05\n",
      "Epoch 5/100\n",
      "698/698 - 1s - 1ms/step - loss: 7.4118e-05 - mean_squared_error: 7.4118e-05\n",
      "Epoch 6/100\n",
      "698/698 - 1s - 1ms/step - loss: 7.5283e-05 - mean_squared_error: 7.5283e-05\n",
      "Epoch 7/100\n",
      "698/698 - 1s - 1ms/step - loss: 7.2178e-05 - mean_squared_error: 7.2178e-05\n",
      "Epoch 8/100\n",
      "698/698 - 1s - 1ms/step - loss: 7.2409e-05 - mean_squared_error: 7.2409e-05\n",
      "Epoch 9/100\n",
      "698/698 - 1s - 1ms/step - loss: 7.4978e-05 - mean_squared_error: 7.4978e-05\n",
      "Epoch 10/100\n",
      "698/698 - 1s - 1ms/step - loss: 7.5832e-05 - mean_squared_error: 7.5832e-05\n",
      "Epoch 11/100\n",
      "698/698 - 1s - 1ms/step - loss: 7.2859e-05 - mean_squared_error: 7.2859e-05\n",
      "Epoch 12/100\n",
      "698/698 - 1s - 1ms/step - loss: 7.5541e-05 - mean_squared_error: 7.5541e-05\n",
      "Epoch 13/100\n",
      "698/698 - 1s - 1ms/step - loss: 7.3746e-05 - mean_squared_error: 7.3746e-05\n",
      "Epoch 14/100\n",
      "698/698 - 1s - 1ms/step - loss: 7.6968e-05 - mean_squared_error: 7.6968e-05\n",
      "Epoch 15/100\n",
      "698/698 - 1s - 1ms/step - loss: 7.4186e-05 - mean_squared_error: 7.4186e-05\n",
      "Epoch 16/100\n",
      "698/698 - 1s - 1ms/step - loss: 7.7256e-05 - mean_squared_error: 7.7256e-05\n",
      "Epoch 17/100\n",
      "698/698 - 1s - 1ms/step - loss: 7.8843e-05 - mean_squared_error: 7.8843e-05\n",
      "Epoch 18/100\n",
      "698/698 - 1s - 1ms/step - loss: 7.7108e-05 - mean_squared_error: 7.7108e-05\n",
      "Epoch 19/100\n",
      "698/698 - 1s - 1ms/step - loss: 7.4244e-05 - mean_squared_error: 7.4244e-05\n",
      "Epoch 20/100\n",
      "698/698 - 1s - 1ms/step - loss: 7.5989e-05 - mean_squared_error: 7.5989e-05\n",
      "Epoch 21/100\n",
      "698/698 - 1s - 1ms/step - loss: 7.5123e-05 - mean_squared_error: 7.5123e-05\n",
      "Epoch 22/100\n",
      "698/698 - 1s - 1ms/step - loss: 7.5564e-05 - mean_squared_error: 7.5564e-05\n",
      "Epoch 23/100\n",
      "698/698 - 1s - 1ms/step - loss: 7.2824e-05 - mean_squared_error: 7.2824e-05\n",
      "Epoch 24/100\n",
      "698/698 - 1s - 1ms/step - loss: 7.4486e-05 - mean_squared_error: 7.4486e-05\n",
      "Epoch 25/100\n",
      "698/698 - 1s - 1ms/step - loss: 7.3898e-05 - mean_squared_error: 7.3898e-05\n",
      "Epoch 26/100\n",
      "698/698 - 1s - 1ms/step - loss: 7.4428e-05 - mean_squared_error: 7.4428e-05\n",
      "Epoch 27/100\n",
      "698/698 - 1s - 1ms/step - loss: 7.2739e-05 - mean_squared_error: 7.2739e-05\n",
      "Epoch 28/100\n",
      "698/698 - 1s - 1ms/step - loss: 7.4472e-05 - mean_squared_error: 7.4472e-05\n",
      "Epoch 29/100\n",
      "698/698 - 1s - 1ms/step - loss: 7.5357e-05 - mean_squared_error: 7.5357e-05\n",
      "Epoch 30/100\n",
      "698/698 - 1s - 1ms/step - loss: 7.4021e-05 - mean_squared_error: 7.4021e-05\n",
      "Epoch 31/100\n",
      "698/698 - 1s - 1ms/step - loss: 7.3951e-05 - mean_squared_error: 7.3951e-05\n",
      "Epoch 32/100\n",
      "698/698 - 1s - 1ms/step - loss: 7.3030e-05 - mean_squared_error: 7.3030e-05\n",
      "Epoch 33/100\n",
      "698/698 - 1s - 1ms/step - loss: 7.4610e-05 - mean_squared_error: 7.4610e-05\n",
      "Epoch 34/100\n",
      "698/698 - 1s - 1ms/step - loss: 7.6023e-05 - mean_squared_error: 7.6023e-05\n",
      "Epoch 35/100\n",
      "698/698 - 1s - 1ms/step - loss: 7.6761e-05 - mean_squared_error: 7.6761e-05\n",
      "Epoch 36/100\n",
      "698/698 - 1s - 1ms/step - loss: 7.3683e-05 - mean_squared_error: 7.3683e-05\n",
      "Epoch 37/100\n",
      "698/698 - 1s - 1ms/step - loss: 7.4248e-05 - mean_squared_error: 7.4248e-05\n",
      "Epoch 38/100\n",
      "698/698 - 1s - 1ms/step - loss: 7.7445e-05 - mean_squared_error: 7.7445e-05\n",
      "Epoch 39/100\n",
      "698/698 - 1s - 1ms/step - loss: 7.7183e-05 - mean_squared_error: 7.7183e-05\n",
      "Epoch 40/100\n",
      "698/698 - 1s - 1ms/step - loss: 7.7537e-05 - mean_squared_error: 7.7537e-05\n",
      "Epoch 41/100\n",
      "698/698 - 1s - 1ms/step - loss: 7.5864e-05 - mean_squared_error: 7.5864e-05\n",
      "Epoch 42/100\n",
      "698/698 - 1s - 1ms/step - loss: 7.6449e-05 - mean_squared_error: 7.6449e-05\n",
      "Epoch 43/100\n",
      "698/698 - 1s - 1ms/step - loss: 7.2878e-05 - mean_squared_error: 7.2878e-05\n",
      "Epoch 44/100\n",
      "698/698 - 1s - 1ms/step - loss: 7.3927e-05 - mean_squared_error: 7.3927e-05\n",
      "Epoch 45/100\n",
      "698/698 - 1s - 1ms/step - loss: 7.8703e-05 - mean_squared_error: 7.8703e-05\n",
      "Epoch 46/100\n",
      "698/698 - 1s - 1ms/step - loss: 7.3675e-05 - mean_squared_error: 7.3675e-05\n",
      "Epoch 47/100\n",
      "698/698 - 1s - 1ms/step - loss: 7.5818e-05 - mean_squared_error: 7.5818e-05\n",
      "Epoch 48/100\n",
      "698/698 - 1s - 1ms/step - loss: 7.4104e-05 - mean_squared_error: 7.4104e-05\n",
      "Epoch 49/100\n",
      "698/698 - 1s - 1ms/step - loss: 7.4983e-05 - mean_squared_error: 7.4983e-05\n",
      "Epoch 50/100\n",
      "698/698 - 1s - 1ms/step - loss: 7.3501e-05 - mean_squared_error: 7.3501e-05\n",
      "Epoch 51/100\n",
      "698/698 - 1s - 1ms/step - loss: 7.4082e-05 - mean_squared_error: 7.4082e-05\n",
      "Epoch 52/100\n",
      "698/698 - 1s - 1ms/step - loss: 7.5892e-05 - mean_squared_error: 7.5892e-05\n",
      "Epoch 53/100\n",
      "698/698 - 1s - 1ms/step - loss: 7.2096e-05 - mean_squared_error: 7.2096e-05\n",
      "Epoch 54/100\n",
      "698/698 - 1s - 1ms/step - loss: 7.3392e-05 - mean_squared_error: 7.3392e-05\n",
      "Epoch 55/100\n",
      "698/698 - 1s - 1ms/step - loss: 7.4915e-05 - mean_squared_error: 7.4915e-05\n",
      "Epoch 56/100\n",
      "698/698 - 1s - 1ms/step - loss: 7.1130e-05 - mean_squared_error: 7.1130e-05\n",
      "Epoch 57/100\n",
      "698/698 - 1s - 1ms/step - loss: 7.2360e-05 - mean_squared_error: 7.2360e-05\n",
      "Epoch 58/100\n",
      "698/698 - 1s - 1ms/step - loss: 7.5775e-05 - mean_squared_error: 7.5775e-05\n",
      "Epoch 59/100\n",
      "698/698 - 1s - 1ms/step - loss: 7.4172e-05 - mean_squared_error: 7.4172e-05\n",
      "Epoch 60/100\n",
      "698/698 - 1s - 1ms/step - loss: 7.4282e-05 - mean_squared_error: 7.4282e-05\n",
      "Epoch 61/100\n",
      "698/698 - 1s - 1ms/step - loss: 7.3713e-05 - mean_squared_error: 7.3713e-05\n",
      "Epoch 62/100\n",
      "698/698 - 1s - 1ms/step - loss: 7.2067e-05 - mean_squared_error: 7.2067e-05\n",
      "Epoch 63/100\n",
      "698/698 - 1s - 1ms/step - loss: 7.2233e-05 - mean_squared_error: 7.2233e-05\n",
      "Epoch 64/100\n",
      "698/698 - 1s - 1ms/step - loss: 7.3501e-05 - mean_squared_error: 7.3501e-05\n",
      "Epoch 65/100\n",
      "698/698 - 1s - 1ms/step - loss: 7.4134e-05 - mean_squared_error: 7.4134e-05\n",
      "Epoch 66/100\n",
      "698/698 - 1s - 1ms/step - loss: 7.2108e-05 - mean_squared_error: 7.2108e-05\n",
      "Epoch 67/100\n",
      "698/698 - 1s - 1ms/step - loss: 7.2950e-05 - mean_squared_error: 7.2950e-05\n",
      "Epoch 68/100\n",
      "698/698 - 1s - 1ms/step - loss: 7.5518e-05 - mean_squared_error: 7.5518e-05\n",
      "Epoch 69/100\n",
      "698/698 - 1s - 1ms/step - loss: 7.2593e-05 - mean_squared_error: 7.2593e-05\n",
      "Epoch 70/100\n",
      "698/698 - 1s - 1ms/step - loss: 7.6441e-05 - mean_squared_error: 7.6441e-05\n",
      "Epoch 71/100\n",
      "698/698 - 1s - 1ms/step - loss: 7.5847e-05 - mean_squared_error: 7.5847e-05\n",
      "Epoch 72/100\n",
      "698/698 - 1s - 1ms/step - loss: 7.5776e-05 - mean_squared_error: 7.5776e-05\n",
      "Epoch 73/100\n",
      "698/698 - 1s - 1ms/step - loss: 7.3521e-05 - mean_squared_error: 7.3521e-05\n",
      "Epoch 74/100\n",
      "698/698 - 1s - 1ms/step - loss: 7.5200e-05 - mean_squared_error: 7.5200e-05\n",
      "Epoch 75/100\n",
      "698/698 - 1s - 1ms/step - loss: 7.4695e-05 - mean_squared_error: 7.4695e-05\n",
      "Epoch 76/100\n",
      "698/698 - 1s - 1ms/step - loss: 7.2986e-05 - mean_squared_error: 7.2986e-05\n",
      "Epoch 77/100\n",
      "698/698 - 1s - 1ms/step - loss: 7.3732e-05 - mean_squared_error: 7.3732e-05\n",
      "Epoch 78/100\n",
      "698/698 - 1s - 1ms/step - loss: 7.2720e-05 - mean_squared_error: 7.2720e-05\n",
      "Epoch 79/100\n",
      "698/698 - 1s - 1ms/step - loss: 7.4385e-05 - mean_squared_error: 7.4385e-05\n",
      "Epoch 80/100\n",
      "698/698 - 1s - 1ms/step - loss: 7.4010e-05 - mean_squared_error: 7.4010e-05\n",
      "Epoch 81/100\n",
      "698/698 - 1s - 1ms/step - loss: 7.3062e-05 - mean_squared_error: 7.3062e-05\n",
      "Epoch 82/100\n",
      "698/698 - 1s - 1ms/step - loss: 7.0792e-05 - mean_squared_error: 7.0792e-05\n",
      "Epoch 83/100\n",
      "698/698 - 1s - 1ms/step - loss: 7.3075e-05 - mean_squared_error: 7.3075e-05\n",
      "Epoch 84/100\n",
      "698/698 - 1s - 1ms/step - loss: 7.3290e-05 - mean_squared_error: 7.3290e-05\n",
      "Epoch 85/100\n",
      "698/698 - 1s - 1ms/step - loss: 7.3430e-05 - mean_squared_error: 7.3430e-05\n",
      "Epoch 86/100\n",
      "698/698 - 1s - 1ms/step - loss: 7.2937e-05 - mean_squared_error: 7.2937e-05\n",
      "Epoch 87/100\n",
      "698/698 - 1s - 1ms/step - loss: 7.0870e-05 - mean_squared_error: 7.0870e-05\n",
      "Epoch 88/100\n",
      "698/698 - 1s - 1ms/step - loss: 7.1779e-05 - mean_squared_error: 7.1779e-05\n",
      "Epoch 89/100\n",
      "698/698 - 1s - 1ms/step - loss: 7.4371e-05 - mean_squared_error: 7.4371e-05\n",
      "Epoch 90/100\n",
      "698/698 - 1s - 1ms/step - loss: 7.3114e-05 - mean_squared_error: 7.3114e-05\n",
      "Epoch 91/100\n",
      "698/698 - 1s - 1ms/step - loss: 7.1760e-05 - mean_squared_error: 7.1760e-05\n",
      "Epoch 92/100\n",
      "698/698 - 1s - 1ms/step - loss: 7.3115e-05 - mean_squared_error: 7.3115e-05\n",
      "Epoch 93/100\n",
      "698/698 - 1s - 1ms/step - loss: 7.3298e-05 - mean_squared_error: 7.3298e-05\n",
      "Epoch 94/100\n",
      "698/698 - 1s - 1ms/step - loss: 7.5422e-05 - mean_squared_error: 7.5422e-05\n",
      "Epoch 95/100\n",
      "698/698 - 1s - 1ms/step - loss: 7.1025e-05 - mean_squared_error: 7.1025e-05\n",
      "Epoch 96/100\n",
      "698/698 - 1s - 1ms/step - loss: 7.4425e-05 - mean_squared_error: 7.4425e-05\n",
      "Epoch 97/100\n",
      "698/698 - 1s - 1ms/step - loss: 7.3295e-05 - mean_squared_error: 7.3295e-05\n",
      "Epoch 98/100\n",
      "698/698 - 1s - 1ms/step - loss: 7.2309e-05 - mean_squared_error: 7.2309e-05\n",
      "Epoch 99/100\n",
      "698/698 - 1s - 1ms/step - loss: 7.3309e-05 - mean_squared_error: 7.3309e-05\n",
      "Epoch 100/100\n",
      "698/698 - 1s - 1ms/step - loss: 7.3025e-05 - mean_squared_error: 7.3025e-05\n"
     ]
    },
    {
     "data": {
      "text/plain": [
       "<keras.src.callbacks.history.History at 0x1776db890>"
      ]
     },
     "execution_count": 93,
     "metadata": {},
     "output_type": "execute_result"
    }
   ],
   "source": [
    "#| output: False\n",
    "# LSTM Neural Network\n",
    "model = Sequential()\n",
    "model.add(LSTM(4, input_shape = (1, look_back)))\n",
    "model.add(Dense(1))\n",
    "model.compile(loss=\"mean_squared_error\", optimizer=\"adam\", metrics=[\"mean_squared_error\"])\n",
    "model.fit(X_train, y_train, epochs = 100, batch_size = 1, verbose = 2)"
   ]
  },
  {
   "cell_type": "code",
   "execution_count": 94,
   "id": "60404f16-36e7-47ab-b848-0fe2a7633cc2",
   "metadata": {
    "tags": []
   },
   "outputs": [
    {
     "name": "stdout",
     "output_type": "stream",
     "text": [
      "\u001b[1m22/22\u001b[0m \u001b[32m━━━━━━━━━━━━━━━━━━━━\u001b[0m\u001b[37m\u001b[0m \u001b[1m0s\u001b[0m 8ms/step\n",
      "\u001b[1m10/10\u001b[0m \u001b[32m━━━━━━━━━━━━━━━━━━━━\u001b[0m\u001b[37m\u001b[0m \u001b[1m0s\u001b[0m 1ms/step \n",
      "Train RMSE: 303.1588731787425\n",
      "Test RMSE: 3070.206264761673\n"
     ]
    }
   ],
   "source": [
    "# Make predictions\n",
    "y_pred_train = model.predict(X_train)\n",
    "y_pred_test = model.predict(X_test)\n",
    "# Unscale predictions\n",
    "y_pred_train = scaler.inverse_transform(y_pred_train)\n",
    "y_pred_test = scaler.inverse_transform(y_pred_test)\n",
    "y_train = scaler.inverse_transform([y_train])\n",
    "y_test = scaler.inverse_transform([y_test])\n",
    "# Calculate RMSE\n",
    "train_score = np.sqrt(mean_squared_error(y_train[0], y_pred_train[:,0]))\n",
    "test_score = np.sqrt(mean_squared_error(y_test[0], y_pred_test[:, 0]))\n",
    "print(f\"Train RMSE: {train_score}\")\n",
    "print(f\"Test RMSE: {test_score}\")"
   ]
  },
  {
   "cell_type": "code",
   "execution_count": 95,
   "id": "8a2c60d3-da3f-48c3-9fb7-4055295cdb2d",
   "metadata": {
    "tags": []
   },
   "outputs": [
    {
     "data": {
      "image/png": "[encoded data removed]",
      "text/plain": [
       "<Figure size 640x480 with 1 Axes>"
      ]
     },
     "metadata": {},
     "output_type": "display_data"
    }
   ],
   "source": [
    "train_predict_plot = np.empty_like(data)\n",
    "train_predict_plot[:, :] = 0\n",
    "train_predict_plot[look_back:len(y_pred_train)+look_back, :] = y_pred_train\n",
    "test_predict_plot = np.empty_like(data)\n",
    "test_predict_plot[:, :] = 0\n",
    "test_predict_plot[len(y_pred_train)+(look_back*2)+1:len(data)-1, :] = y_pred_test\n",
    "\n",
    "plt.plot(scaler.inverse_transform(scaled_data.copy()), label=\"Original Data\")\n",
    "plt.plot(train_predict_plot, label=\"Train Predictions\")\n",
    "plt.plot(test_predict_plot, label=\"Test Predictions\")\n",
    "plt.legend()\n",
    "plt.title(\"Bitcoin Prices over Time\")\n",
    "plt.show()"
   ]
  },
  {
   "cell_type": "markdown",
   "id": "08ce5d1b-0cea-40dc-aa5e-a9c162418c26",
   "metadata": {},
   "source": [
    "Unsurprisingly, halving the size of the network has significantly reduced its ability to accurately predict the price of bitcoin. It appears that the number of layers has an even larger affect on LSTM than on Simple RNN."
   ]
  },
  {
   "cell_type": "markdown",
   "id": "a1bfa976-eba4-4cd8-abb1-d3fee7fecaa3",
   "metadata": {},
   "source": [
    "### LSTM Model 2\n",
    "For our last model, we will double the number of layers from 8 to 16 to see if we can increase the performance of the LSTM model."
   ]
  },
  {
   "cell_type": "code",
   "execution_count": 96,
   "id": "22d01bb5-2c42-49bb-95c4-92547da86f55",
   "metadata": {
    "tags": []
   },
   "outputs": [
    {
     "name": "stdout",
     "output_type": "stream",
     "text": [
      "700 300\n",
      "(698, 1) (298, 1)\n",
      "(698, 1, 1) (298, 1, 1)\n"
     ]
    }
   ],
   "source": [
    "scaler = MinMaxScaler(feature_range=(0, 1))\n",
    "scaled_data = scaler.fit_transform(data)\n",
    "\n",
    "# Train test split of 70/30\n",
    "train_size = int(len(scaled_data) * .7)\n",
    "test_size = len(scaled_data) - train_size\n",
    "train, test = scaled_data[0:train_size], scaled_data[train_size:]\n",
    "print(len(train), len(test))\n",
    "\n",
    "# Reshape dataset to X = t and y = t+1\n",
    "# Look back 1 day\n",
    "look_back = 1\n",
    "X_train, y_train = create_dataset(train, look_back)\n",
    "X_test, y_test = create_dataset(test, look_back)\n",
    "print(X_train.shape, X_test.shape)\n",
    "\n",
    "X_train = np.reshape(X_train, (X_train.shape[0], 1, X_train.shape[1]))\n",
    "X_test = np.reshape(X_test, (X_test.shape[0], 1, X_test.shape[1]))\n",
    "print(X_train.shape, X_test.shape)"
   ]
  },
  {
   "cell_type": "code",
   "execution_count": 97,
   "id": "b8b295d9-e0dc-45dc-b824-3ee2edef3fd0",
   "metadata": {
    "collapsed": true,
    "jupyter": {
     "outputs_hidden": true
    },
    "tags": []
   },
   "outputs": [
    {
     "name": "stdout",
     "output_type": "stream",
     "text": [
      "Epoch 1/100\n"
     ]
    },
    {
     "name": "stderr",
     "output_type": "stream",
     "text": [
      "/Users/ben/anaconda3/lib/python3.11/site-packages/keras/src/layers/rnn/rnn.py:204: UserWarning: Do not pass an `input_shape`/`input_dim` argument to a layer. When using Sequential models, prefer using an `Input(shape)` object as the first layer in the model instead.\n"
     ]
    },
    {
     "name": "stdout",
     "output_type": "stream",
     "text": [
      "698/698 - 2s - 3ms/step - loss: 0.0030 - mean_squared_error: 0.0030\n",
      "Epoch 2/100\n",
      "698/698 - 1s - 1ms/step - loss: 4.1997e-04 - mean_squared_error: 4.1997e-04\n",
      "Epoch 3/100\n",
      "698/698 - 1s - 1ms/step - loss: 7.6726e-05 - mean_squared_error: 7.6726e-05\n",
      "Epoch 4/100\n",
      "698/698 - 1s - 1ms/step - loss: 7.9583e-05 - mean_squared_error: 7.9583e-05\n",
      "Epoch 5/100\n",
      "698/698 - 1s - 1ms/step - loss: 7.8001e-05 - mean_squared_error: 7.8001e-05\n",
      "Epoch 6/100\n",
      "698/698 - 1s - 1ms/step - loss: 7.8255e-05 - mean_squared_error: 7.8255e-05\n",
      "Epoch 7/100\n",
      "698/698 - 1s - 1ms/step - loss: 8.0661e-05 - mean_squared_error: 8.0661e-05\n",
      "Epoch 8/100\n",
      "698/698 - 1s - 1ms/step - loss: 8.6533e-05 - mean_squared_error: 8.6533e-05\n",
      "Epoch 9/100\n",
      "698/698 - 1s - 1ms/step - loss: 8.1072e-05 - mean_squared_error: 8.1072e-05\n",
      "Epoch 10/100\n",
      "698/698 - 1s - 1ms/step - loss: 8.2625e-05 - mean_squared_error: 8.2625e-05\n",
      "Epoch 11/100\n",
      "698/698 - 1s - 1ms/step - loss: 7.9403e-05 - mean_squared_error: 7.9403e-05\n",
      "Epoch 12/100\n",
      "698/698 - 1s - 1ms/step - loss: 8.0324e-05 - mean_squared_error: 8.0324e-05\n",
      "Epoch 13/100\n",
      "698/698 - 1s - 1ms/step - loss: 8.0386e-05 - mean_squared_error: 8.0386e-05\n",
      "Epoch 14/100\n",
      "698/698 - 1s - 1ms/step - loss: 7.9931e-05 - mean_squared_error: 7.9931e-05\n",
      "Epoch 15/100\n",
      "698/698 - 1s - 1ms/step - loss: 7.9202e-05 - mean_squared_error: 7.9202e-05\n",
      "Epoch 16/100\n",
      "698/698 - 1s - 1ms/step - loss: 8.4275e-05 - mean_squared_error: 8.4275e-05\n",
      "Epoch 17/100\n",
      "698/698 - 1s - 1ms/step - loss: 7.7310e-05 - mean_squared_error: 7.7310e-05\n",
      "Epoch 18/100\n",
      "698/698 - 1s - 1ms/step - loss: 7.5997e-05 - mean_squared_error: 7.5997e-05\n",
      "Epoch 19/100\n",
      "698/698 - 1s - 1ms/step - loss: 8.0132e-05 - mean_squared_error: 8.0132e-05\n",
      "Epoch 20/100\n",
      "698/698 - 1s - 1ms/step - loss: 7.8712e-05 - mean_squared_error: 7.8712e-05\n",
      "Epoch 21/100\n",
      "698/698 - 1s - 1ms/step - loss: 7.9480e-05 - mean_squared_error: 7.9480e-05\n",
      "Epoch 22/100\n",
      "698/698 - 1s - 1ms/step - loss: 8.0647e-05 - mean_squared_error: 8.0647e-05\n",
      "Epoch 23/100\n",
      "698/698 - 1s - 1ms/step - loss: 7.8586e-05 - mean_squared_error: 7.8586e-05\n",
      "Epoch 24/100\n",
      "698/698 - 1s - 1ms/step - loss: 7.9787e-05 - mean_squared_error: 7.9787e-05\n",
      "Epoch 25/100\n",
      "698/698 - 1s - 1ms/step - loss: 8.1869e-05 - mean_squared_error: 8.1869e-05\n",
      "Epoch 26/100\n",
      "698/698 - 1s - 1ms/step - loss: 7.8180e-05 - mean_squared_error: 7.8180e-05\n",
      "Epoch 27/100\n",
      "698/698 - 1s - 1ms/step - loss: 7.6578e-05 - mean_squared_error: 7.6578e-05\n",
      "Epoch 28/100\n",
      "698/698 - 1s - 1ms/step - loss: 8.2893e-05 - mean_squared_error: 8.2893e-05\n",
      "Epoch 29/100\n",
      "698/698 - 1s - 1ms/step - loss: 7.8161e-05 - mean_squared_error: 7.8161e-05\n",
      "Epoch 30/100\n",
      "698/698 - 1s - 1ms/step - loss: 8.2322e-05 - mean_squared_error: 8.2322e-05\n",
      "Epoch 31/100\n",
      "698/698 - 1s - 1ms/step - loss: 8.2342e-05 - mean_squared_error: 8.2342e-05\n",
      "Epoch 32/100\n",
      "698/698 - 1s - 1ms/step - loss: 8.0402e-05 - mean_squared_error: 8.0402e-05\n",
      "Epoch 33/100\n",
      "698/698 - 1s - 1ms/step - loss: 8.2132e-05 - mean_squared_error: 8.2132e-05\n",
      "Epoch 34/100\n",
      "698/698 - 1s - 1ms/step - loss: 7.6570e-05 - mean_squared_error: 7.6570e-05\n",
      "Epoch 35/100\n",
      "698/698 - 1s - 1ms/step - loss: 7.7036e-05 - mean_squared_error: 7.7036e-05\n",
      "Epoch 36/100\n",
      "698/698 - 1s - 1ms/step - loss: 7.3529e-05 - mean_squared_error: 7.3529e-05\n",
      "Epoch 37/100\n",
      "698/698 - 1s - 1ms/step - loss: 7.7291e-05 - mean_squared_error: 7.7291e-05\n",
      "Epoch 38/100\n",
      "698/698 - 1s - 1ms/step - loss: 7.5820e-05 - mean_squared_error: 7.5820e-05\n",
      "Epoch 39/100\n",
      "698/698 - 1s - 1ms/step - loss: 7.7283e-05 - mean_squared_error: 7.7283e-05\n",
      "Epoch 40/100\n",
      "698/698 - 1s - 1ms/step - loss: 8.0330e-05 - mean_squared_error: 8.0330e-05\n",
      "Epoch 41/100\n",
      "698/698 - 1s - 1ms/step - loss: 7.7115e-05 - mean_squared_error: 7.7115e-05\n",
      "Epoch 42/100\n",
      "698/698 - 1s - 1ms/step - loss: 8.0276e-05 - mean_squared_error: 8.0276e-05\n",
      "Epoch 43/100\n",
      "698/698 - 1s - 1ms/step - loss: 7.6929e-05 - mean_squared_error: 7.6929e-05\n",
      "Epoch 44/100\n",
      "698/698 - 1s - 1ms/step - loss: 8.0327e-05 - mean_squared_error: 8.0327e-05\n",
      "Epoch 45/100\n",
      "698/698 - 1s - 1ms/step - loss: 7.6533e-05 - mean_squared_error: 7.6533e-05\n",
      "Epoch 46/100\n",
      "698/698 - 1s - 1ms/step - loss: 8.1037e-05 - mean_squared_error: 8.1037e-05\n",
      "Epoch 47/100\n",
      "698/698 - 1s - 1ms/step - loss: 7.9016e-05 - mean_squared_error: 7.9016e-05\n",
      "Epoch 48/100\n",
      "698/698 - 1s - 1ms/step - loss: 7.7623e-05 - mean_squared_error: 7.7623e-05\n",
      "Epoch 49/100\n",
      "698/698 - 1s - 1ms/step - loss: 7.6999e-05 - mean_squared_error: 7.6999e-05\n",
      "Epoch 50/100\n",
      "698/698 - 1s - 1ms/step - loss: 7.7716e-05 - mean_squared_error: 7.7716e-05\n",
      "Epoch 51/100\n",
      "698/698 - 1s - 1ms/step - loss: 8.0879e-05 - mean_squared_error: 8.0879e-05\n",
      "Epoch 52/100\n",
      "698/698 - 1s - 1ms/step - loss: 7.4279e-05 - mean_squared_error: 7.4279e-05\n",
      "Epoch 53/100\n",
      "698/698 - 1s - 1ms/step - loss: 7.9104e-05 - mean_squared_error: 7.9104e-05\n",
      "Epoch 54/100\n",
      "698/698 - 1s - 1ms/step - loss: 7.7162e-05 - mean_squared_error: 7.7162e-05\n",
      "Epoch 55/100\n",
      "698/698 - 1s - 1ms/step - loss: 7.6222e-05 - mean_squared_error: 7.6222e-05\n",
      "Epoch 56/100\n",
      "698/698 - 1s - 1ms/step - loss: 7.6260e-05 - mean_squared_error: 7.6260e-05\n",
      "Epoch 57/100\n",
      "698/698 - 1s - 1ms/step - loss: 7.6319e-05 - mean_squared_error: 7.6319e-05\n",
      "Epoch 58/100\n",
      "698/698 - 1s - 1ms/step - loss: 7.8146e-05 - mean_squared_error: 7.8146e-05\n",
      "Epoch 59/100\n",
      "698/698 - 1s - 1ms/step - loss: 7.3061e-05 - mean_squared_error: 7.3061e-05\n",
      "Epoch 60/100\n",
      "698/698 - 1s - 1ms/step - loss: 7.6017e-05 - mean_squared_error: 7.6017e-05\n",
      "Epoch 61/100\n",
      "698/698 - 1s - 1ms/step - loss: 7.8105e-05 - mean_squared_error: 7.8105e-05\n",
      "Epoch 62/100\n",
      "698/698 - 1s - 1ms/step - loss: 7.8151e-05 - mean_squared_error: 7.8151e-05\n",
      "Epoch 63/100\n",
      "698/698 - 1s - 1ms/step - loss: 7.7207e-05 - mean_squared_error: 7.7207e-05\n",
      "Epoch 64/100\n",
      "698/698 - 1s - 1ms/step - loss: 7.7811e-05 - mean_squared_error: 7.7811e-05\n",
      "Epoch 65/100\n",
      "698/698 - 1s - 1ms/step - loss: 7.3281e-05 - mean_squared_error: 7.3281e-05\n",
      "Epoch 66/100\n",
      "698/698 - 1s - 1ms/step - loss: 7.5964e-05 - mean_squared_error: 7.5964e-05\n",
      "Epoch 67/100\n",
      "698/698 - 1s - 1ms/step - loss: 7.5198e-05 - mean_squared_error: 7.5198e-05\n",
      "Epoch 68/100\n",
      "698/698 - 1s - 1ms/step - loss: 7.7752e-05 - mean_squared_error: 7.7752e-05\n",
      "Epoch 69/100\n",
      "698/698 - 1s - 1ms/step - loss: 7.8088e-05 - mean_squared_error: 7.8088e-05\n",
      "Epoch 70/100\n",
      "698/698 - 1s - 1ms/step - loss: 7.4729e-05 - mean_squared_error: 7.4729e-05\n",
      "Epoch 71/100\n",
      "698/698 - 1s - 1ms/step - loss: 7.5065e-05 - mean_squared_error: 7.5065e-05\n",
      "Epoch 72/100\n",
      "698/698 - 1s - 1ms/step - loss: 7.4077e-05 - mean_squared_error: 7.4077e-05\n",
      "Epoch 73/100\n",
      "698/698 - 1s - 1ms/step - loss: 7.4847e-05 - mean_squared_error: 7.4847e-05\n",
      "Epoch 74/100\n",
      "698/698 - 1s - 1ms/step - loss: 7.6759e-05 - mean_squared_error: 7.6759e-05\n",
      "Epoch 75/100\n",
      "698/698 - 1s - 1ms/step - loss: 7.5040e-05 - mean_squared_error: 7.5040e-05\n",
      "Epoch 76/100\n",
      "698/698 - 1s - 1ms/step - loss: 7.5416e-05 - mean_squared_error: 7.5416e-05\n",
      "Epoch 77/100\n",
      "698/698 - 1s - 1ms/step - loss: 7.5829e-05 - mean_squared_error: 7.5829e-05\n",
      "Epoch 78/100\n",
      "698/698 - 1s - 1ms/step - loss: 7.9286e-05 - mean_squared_error: 7.9286e-05\n",
      "Epoch 79/100\n",
      "698/698 - 1s - 1ms/step - loss: 7.7280e-05 - mean_squared_error: 7.7280e-05\n",
      "Epoch 80/100\n",
      "698/698 - 1s - 1ms/step - loss: 7.8258e-05 - mean_squared_error: 7.8258e-05\n",
      "Epoch 81/100\n",
      "698/698 - 1s - 1ms/step - loss: 7.3710e-05 - mean_squared_error: 7.3710e-05\n",
      "Epoch 82/100\n",
      "698/698 - 1s - 1ms/step - loss: 7.8203e-05 - mean_squared_error: 7.8203e-05\n",
      "Epoch 83/100\n",
      "698/698 - 1s - 1ms/step - loss: 7.9716e-05 - mean_squared_error: 7.9716e-05\n",
      "Epoch 84/100\n",
      "698/698 - 1s - 1ms/step - loss: 7.4143e-05 - mean_squared_error: 7.4143e-05\n",
      "Epoch 85/100\n",
      "698/698 - 1s - 1ms/step - loss: 7.5641e-05 - mean_squared_error: 7.5641e-05\n",
      "Epoch 86/100\n",
      "698/698 - 1s - 1ms/step - loss: 7.9595e-05 - mean_squared_error: 7.9595e-05\n",
      "Epoch 87/100\n",
      "698/698 - 1s - 1ms/step - loss: 7.6284e-05 - mean_squared_error: 7.6284e-05\n",
      "Epoch 88/100\n",
      "698/698 - 1s - 1ms/step - loss: 7.5793e-05 - mean_squared_error: 7.5793e-05\n",
      "Epoch 89/100\n",
      "698/698 - 1s - 1ms/step - loss: 7.3250e-05 - mean_squared_error: 7.3250e-05\n",
      "Epoch 90/100\n",
      "698/698 - 1s - 1ms/step - loss: 7.6875e-05 - mean_squared_error: 7.6875e-05\n",
      "Epoch 91/100\n",
      "698/698 - 1s - 1ms/step - loss: 7.7033e-05 - mean_squared_error: 7.7033e-05\n",
      "Epoch 92/100\n",
      "698/698 - 1s - 1ms/step - loss: 7.9147e-05 - mean_squared_error: 7.9147e-05\n",
      "Epoch 93/100\n",
      "698/698 - 1s - 1ms/step - loss: 7.5875e-05 - mean_squared_error: 7.5875e-05\n",
      "Epoch 94/100\n",
      "698/698 - 1s - 1ms/step - loss: 7.3684e-05 - mean_squared_error: 7.3684e-05\n",
      "Epoch 95/100\n",
      "698/698 - 1s - 1ms/step - loss: 7.6394e-05 - mean_squared_error: 7.6394e-05\n",
      "Epoch 96/100\n",
      "698/698 - 1s - 1ms/step - loss: 7.6255e-05 - mean_squared_error: 7.6255e-05\n",
      "Epoch 97/100\n",
      "698/698 - 1s - 1ms/step - loss: 7.4535e-05 - mean_squared_error: 7.4535e-05\n",
      "Epoch 98/100\n",
      "698/698 - 1s - 1ms/step - loss: 7.2476e-05 - mean_squared_error: 7.2476e-05\n",
      "Epoch 99/100\n",
      "698/698 - 1s - 1ms/step - loss: 7.7791e-05 - mean_squared_error: 7.7791e-05\n",
      "Epoch 100/100\n",
      "698/698 - 1s - 1ms/step - loss: 7.3673e-05 - mean_squared_error: 7.3673e-05\n"
     ]
    },
    {
     "data": {
      "text/plain": [
       "<keras.src.callbacks.history.History at 0x177abc8d0>"
      ]
     },
     "execution_count": 97,
     "metadata": {},
     "output_type": "execute_result"
    }
   ],
   "source": [
    "#| output: False\n",
    "# LSTM Neural Network\n",
    "model = Sequential()\n",
    "model.add(LSTM(16, input_shape = (1, look_back)))\n",
    "model.add(Dense(1))\n",
    "model.compile(loss=\"mean_squared_error\", optimizer=\"adam\", metrics=[\"mean_squared_error\"])\n",
    "model.fit(X_train, y_train, epochs = 100, batch_size = 1, verbose = 2)"
   ]
  },
  {
   "cell_type": "code",
   "execution_count": 98,
   "id": "22100c9a-8efd-4ccd-a5a6-48b96f7c943b",
   "metadata": {
    "tags": []
   },
   "outputs": [
    {
     "name": "stdout",
     "output_type": "stream",
     "text": [
      "\u001b[1m22/22\u001b[0m \u001b[32m━━━━━━━━━━━━━━━━━━━━\u001b[0m\u001b[37m\u001b[0m \u001b[1m0s\u001b[0m 8ms/step\n",
      "\u001b[1m10/10\u001b[0m \u001b[32m━━━━━━━━━━━━━━━━━━━━\u001b[0m\u001b[37m\u001b[0m \u001b[1m0s\u001b[0m 1ms/step \n",
      "Train RMSE: 307.7479428176186\n",
      "Test RMSE: 1808.9961923759352\n"
     ]
    }
   ],
   "source": [
    "# Make predictions\n",
    "y_pred_train = model.predict(X_train)\n",
    "y_pred_test = model.predict(X_test)\n",
    "# Unscale predictions\n",
    "y_pred_train = scaler.inverse_transform(y_pred_train)\n",
    "y_pred_test = scaler.inverse_transform(y_pred_test)\n",
    "y_train = scaler.inverse_transform([y_train])\n",
    "y_test = scaler.inverse_transform([y_test])\n",
    "# Calculate RMSE\n",
    "train_score = np.sqrt(mean_squared_error(y_train[0], y_pred_train[:,0]))\n",
    "test_score = np.sqrt(mean_squared_error(y_test[0], y_pred_test[:, 0]))\n",
    "print(f\"Train RMSE: {train_score}\")\n",
    "print(f\"Test RMSE: {test_score}\")"
   ]
  },
  {
   "cell_type": "code",
   "execution_count": 99,
   "id": "772cd842-4214-44ca-9468-744aab277cc0",
   "metadata": {
    "tags": []
   },
   "outputs": [
    {
     "data": {
      "image/png": "[encoded data removed]",
      "text/plain": [
       "<Figure size 640x480 with 1 Axes>"
      ]
     },
     "metadata": {},
     "output_type": "display_data"
    }
   ],
   "source": [
    "train_predict_plot = np.empty_like(data)\n",
    "train_predict_plot[:, :] = 0\n",
    "train_predict_plot[look_back:len(y_pred_train)+look_back, :] = y_pred_train\n",
    "test_predict_plot = np.empty_like(data)\n",
    "test_predict_plot[:, :] = 0\n",
    "test_predict_plot[len(y_pred_train)+(look_back*2)+1:len(data)-1, :] = y_pred_test\n",
    "\n",
    "plt.plot(scaler.inverse_transform(scaled_data.copy()), label=\"Original Data\")\n",
    "plt.plot(train_predict_plot, label=\"Train Predictions\")\n",
    "plt.plot(test_predict_plot, label=\"Test Predictions\")\n",
    "plt.legend()\n",
    "plt.title(\"Bitcoin Prices over Time\")\n",
    "plt.show()"
   ]
  },
  {
   "cell_type": "markdown",
   "id": "ba3141fb-952e-4442-98d9-69d12e7d1e20",
   "metadata": {},
   "source": [
    "While we have increased the performance of the model, the Simple RNN model still performed better at predicting the price of Bitcoin."
   ]
  },
  {
   "cell_type": "markdown",
   "id": "783a1ab1-9f5b-4279-ae0e-a1cc108eaeea",
   "metadata": {
    "tags": []
   },
   "source": [
    "## Final Thoughts"
   ]
  },
  {
   "cell_type": "markdown",
   "id": "6ede5640-73e9-47e5-950b-01a2b0ced5b4",
   "metadata": {},
   "source": [
    "In the end, the model that performed the best was the Simple RNN model with 16 layers. This is somewhat surprising due to the usually impressive performance of LSTM models. I believe that the LSTM model may have benefitted from even more layers, however I did not test this. Something that was interesting that I noticed is that the models almost always underpredict the next value and almost always catch onto the downward trends of the price."
   ]
  }
 ],
 "metadata": {
  "kernelspec": {
   "display_name": "Python 3 (ipykernel)",
   "language": "python",
   "name": "python3"
  },
  "language_info": {
   "codemirror_mode": {
    "name": "ipython",
    "version": 3
   },
   "file_extension": ".py",
   "mimetype": "text/x-python",
   "name": "python",
   "nbconvert_exporter": "python",
   "pygments_lexer": "ipython3",
   "version": "3.11.4"
  }
 },
 "nbformat": 4,
 "nbformat_minor": 5
}
