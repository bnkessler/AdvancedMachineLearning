{
 "cells": [
  {
   "cell_type": "raw",
   "id": "e21a33cf-85de-44cd-9c0c-0ca86a661d42",
   "metadata": {},
   "source": [
    "---\n",
    "title: \"Lab 0: Personal Finance\"\n",
    "author: \"Ben Kessler\"\n",
    "date: \"4/7/24\"\n",
    "output: html\n",
    "self-contained: true\n",
    "toc: true\n",
    "theme: cosmo\n",
    "echo: true\n",
    "---"
   ]
  },
  {
   "cell_type": "markdown",
   "id": "027920c9-79ae-4971-afb9-20d393ee8be6",
   "metadata": {},
   "source": [
    "#### 1 - What were your reasons for pursuing this MSBA program here at Cal Poly? Did you come straight from another academic program (Bachelors, Masters, etc.) or were you working before this? What program(s) or job did you come from?"
   ]
  },
  {
   "cell_type": "markdown",
   "id": "cb858fb8-80a8-47c9-885a-42af36bec7bf",
   "metadata": {},
   "source": [
    "I chose to pursue the Cal Poly MSBA program after discovering that I really enjoyed working with data during my undergraduate program. I came straight from getting my bachelor of science in Physics at Cal poly."
   ]
  },
  {
   "cell_type": "markdown",
   "id": "3710a2e1-53d7-4b49-93b9-1f79d5e9176d",
   "metadata": {},
   "source": [
    "#### 2 - What job or career do you hope to pursue after graduating from this MSBA program? Do you have particular industries or companies in mind? If so, what are they? Do you have particular places in mind that you'd like to live or work? Why are you interested in these companies, etc.?"
   ]
  },
  {
   "cell_type": "markdown",
   "id": "af7348ec-9c2c-4369-af0c-2d757668a609",
   "metadata": {},
   "source": [
    "I hope to work as a data analyst/scientist after graduating from the MSBA program. I find sports and financial analytics as two exciting industries to work in but I am open to working in most industries. I hope to live in either California or New York City. I do not have any particular companies that I am interested in aside from companies like Apple, Netflix, etc."
   ]
  },
  {
   "cell_type": "markdown",
   "id": "c1365d41-c160-4577-8f90-d104dc07a664",
   "metadata": {},
   "source": [
    "#### 3 - What is your estimate of the cost-of-living in your desired place to live, per month? You should justify this estimate by citing online sources or other relevant information. You should also break this down into component costs (e.g. housing, utilities, car, gas, internet, food, entertainment, etc.) as much as you can. "
   ]
  },
  {
   "cell_type": "markdown",
   "id": "563ffec7-fe39-4fc8-bb12-54bf18a525f7",
   "metadata": {},
   "source": [
    "To make this analysis consistent, I am going to pick San Francisco as my desired place to live. There are six main categories that I am going to consider for calculating cost of living: housing, utilities, food, transportation, insurance, and entertainment. Each of these categories will also be subdivided into smaller categories.\n",
    "Housing:\n",
    "\n",
    "    - After researching studio and one bedroom apartments in a desirarable part of San Francsico, \n",
    "    rent tends to range between 2500 and 3500 dollars a month,\n",
    "    therefore I will pick $3000 as a resonable amount per month.\n",
    "\n",
    "Utilities:\n",
    "\n",
    "    Electricity:\n",
    "    - According to the U.S. Bureau of Labor Statistics, electricity on average in SF in 2024 is 41.2 cents per kWh,\n",
    "    the average American uses 29 kWh a day according to Solar.com\n",
    "\n",
    "    - https://www.bls.gov/regions/west/news-release/averageenergyprices_sanfrancisco.htm\n",
    "    - https://www.solar.com/learn/how-many-kwh-per-day-is-normal/\n",
    "\n",
    "    Water: \n",
    "    - The average water bill for a person in San Francisco is $115 a month according to gitnux.org\n",
    "\n",
    "    - https://gitnux.org/average-water-bill-per-month/\n",
    "    \n",
    "    Gas:\n",
    "    - The average gas bill for a person in San Francsico is $150 a month according to californiamoversusa.com\n",
    "    \n",
    "    - https://californiamoversusa.com/resources/cost-of-living-in-san-francisco-ca/\n",
    "\n",
    "    Phone: \n",
    "    - I currently use Verizon, if I wanted to continue with my current benefits but move to my own plan\n",
    "    (i.e. not on parents plan anymore) I would have to pay \\\\$80 a month for the service and \\\\$23 a month for my phone\n",
    "\n",
    "    - https://www.verizon.com/plans/unlimited/\n",
    "\n",
    "Food:\n",
    "\n",
    "- I currently spend about \\\\$100 a week on groceries, so I would budget about \\\\$500 a month on groceries\n",
    "- I usually eat out 1-2 meals a week and the average meal price in SF is about $50 for one person, so another \\\\$250-\\\\$500 a month on eating out\n",
    "\n",
    "Transportation:\n",
    "\n",
    "- As San Francisco has very good public transportation and is very walkable, I do not forsee myself spending much on transportation. I already own a bike and if I needed to get somewhere further away I would take the bus which is \\\\$2.50 per ride.\n",
    "\n",
    "Insurance:\n",
    "\n",
    "    Renters Insurance:\n",
    "    - My current renters insurance through USAA is //$280 a year currently and I don't predict that the price will increase\n",
    "    \n",
    "    Health Insurance:\n",
    "    - As my parents are old enough to qualify for Medicare, I will be getting my own insurance next year,\n",
    "    according to Forbes, the average monthly cost of insurance for someone my age is \\\\$400\n",
    "    \n",
    "Entertainment:\n",
    "\n",
    "- I do not spend much on entertainment every month as my preferred types of entertainment tend to be video games and hanging out with friends. Assuming that I buy one new video game a month at \\\\$70 and go out with friends 8 times a month at an average cost of \\\\$50 per night"
   ]
  },
  {
   "cell_type": "code",
   "execution_count": 14,
   "id": "f7088ceb-07f8-45ef-9c9b-cb54a0df1e1f",
   "metadata": {
    "tags": []
   },
   "outputs": [
    {
     "name": "stdout",
     "output_type": "stream",
     "text": [
      "Total Cost per Year: 65247.02\n"
     ]
    }
   ],
   "source": [
    "r_cost = 3000 # per month\n",
    "e_cost = .412 # per kWh\n",
    "e_usage = 29 # kWh per day\n",
    "w_cost = 115 # per month\n",
    "g_cost = 150 # per month\n",
    "p_cost = 103 # per month\n",
    "f_cost = 500 # per month\n",
    "eo_cost = 50 # per meal\n",
    "t_cost = 2.5 # per ride\n",
    "ri_cost = 280 # per year\n",
    "hi_cost = 400 # per month\n",
    "vg_cost = 70 # per game\n",
    "fr_cost = 50 # per night\n",
    "\n",
    "def calculate_yearly_expenses(r_cost, e_cost, e_usage, w_cost, g_cost, p_cost, f_cost, eo_cost, t_cost, ri_cost, hi_cost, vg_cost, fr_cost):\n",
    "    return (e_cost * e_usage * 365) + 12 * (r_cost + w_cost + g_cost + p_cost + f_cost + hi_cost + 6 * eo_cost + 5 * t_cost + vg_cost + 8 * fr_cost) + ri_cost\n",
    "\n",
    "total_cost = calculate_yearly_expenses(r_cost, e_cost, e_usage, w_cost, g_cost, p_cost, f_cost, eo_cost, t_cost, ri_cost, hi_cost, vg_cost, fr_cost)\n",
    "print(f\"Total Cost per Year: {total_cost}\")"
   ]
  },
  {
   "cell_type": "markdown",
   "id": "5424b009-93ad-4c33-9736-455effbd9f5a",
   "metadata": {
    "tags": []
   },
   "source": [
    "#### 4 - What is the annual salary you need to afford the costs you outlined above? This should, in essence, be the minimum salary you need to afford the life you could live happily (you could probably survive on less, but let's not get too detailed here). Be careful to consider whether you're taking taxes into account! We don't need to get too detailed here either, but you should try to estimate what your actual take-home pay is versus the gross salary that you might be presented with in the offer from your employer."
   ]
  },
  {
   "cell_type": "markdown",
   "id": "6f7831fa-282c-4d9c-862e-beb6e79b41f1",
   "metadata": {},
   "source": [
    "Assuming a yearly cost of \\\\$65,247, I would need a post-tax salary of \\\\$70,000 to afford the costs outlined above. Assuming a California tax rate of about 10% and a federal tax rate of about %20, I would need a pre-tax salary of \\\\$91,000 a year."
   ]
  },
  {
   "cell_type": "markdown",
   "id": "7f155654-0702-4a28-a479-e9853899def9",
   "metadata": {
    "tags": []
   },
   "source": [
    "#### 5 - What is the annual salary you WANT? I imagine this will be higher than what was previously mentioned. What do you want the additional income for?"
   ]
  },
  {
   "cell_type": "markdown",
   "id": "d06780c1-b970-457d-9710-e2d85d6447f0",
   "metadata": {},
   "source": [
    "I would like an annual salary of at least \\\\$110,000 a year so that I can save a large amount every year and have some extra money for any vacations/events I would like to go on. "
   ]
  },
  {
   "cell_type": "markdown",
   "id": "b0d8dcb1-da75-4c6f-9fe2-9d2592ac7941",
   "metadata": {
    "tags": []
   },
   "source": [
    "#### 6 - Finally, when do you want to retire and with how much money? This is where the bulk of your computations for this assignment will be, and you may need to do some research into how these things are computed. Your job may have retirement funding built into it; it may not. Additionally, there are some calculators online that do some of these types of calculations for you. I'd like you to (re-)do these calculations as much as possible on your own in Python.\n",
    "\n",
    "- What salary do you need to retire when you want with the amount that you specified?\n",
    "- Please include citations or justification for the formulas you're using to compute all of this."
   ]
  },
  {
   "cell_type": "markdown",
   "id": "6ac41632-b661-49a9-a1a4-537fdfcc2676",
   "metadata": {},
   "source": [
    "I would like to be able to retire by 65 with 3 million dollars saved."
   ]
  },
  {
   "cell_type": "code",
   "execution_count": 12,
   "id": "05bb9928-3fbe-4028-bd95-ddfda69c7411",
   "metadata": {
    "tags": []
   },
   "outputs": [],
   "source": [
    "# Formula created with the help of https://www.synchronybank.com/blog/ultimate-guide-to-retirement-calculations/\n",
    "\n",
    "def calculate_savings(current_age = 22, retirement_age = 65, cost_of_living = total_cost, savings_target = 3e6, return_rate = .06):\n",
    "    years_remaining = retirement_age - current_age\n",
    "    annual_savings = (savings_target * return_rate) / ((1 + return_rate)**years_remaining - 1)\n",
    "    return f\"To save ${savings_target} by {retirement_age}, you would need to save ${annual_savings} per year\""
   ]
  },
  {
   "cell_type": "code",
   "execution_count": 13,
   "id": "66a39abd-7b3c-41d5-8d60-ff4e917007e8",
   "metadata": {
    "tags": []
   },
   "outputs": [
    {
     "data": {
      "text/plain": [
       "'To save $3000000.0 by 65, you would need to save $15999.353434692208 per year'"
      ]
     },
     "execution_count": 13,
     "metadata": {},
     "output_type": "execute_result"
    }
   ],
   "source": [
    "calculate_savings()"
   ]
  },
  {
   "cell_type": "markdown",
   "id": "19156798-f506-49d2-bdef-a95a48a8d1c7",
   "metadata": {},
   "source": [
    "To retire when I want, I would need to have a salary of at least \\\\$126,000 post-tax or assuming a 30% tax rate again, I would need a salary of \\\\$165,000 pre-tax. However, this calculation does not consider an employer 401k match or inflation, as these values are unknown and will change over time."
   ]
  },
  {
   "cell_type": "markdown",
   "id": "1bd4646d-da47-4757-8d82-add3b48c4759",
   "metadata": {
    "tags": []
   },
   "source": [
    "#### 7 - What methods/models/topics are you most interested in learning about as part of this class?"
   ]
  },
  {
   "cell_type": "markdown",
   "id": "dc2b7160-7af3-4798-94fb-af596fed3895",
   "metadata": {},
   "source": [
    "I am most interested in learning about neural networks and deep learning as part of this class."
   ]
  }
 ],
 "metadata": {
  "kernelspec": {
   "display_name": "Python 3 (ipykernel)",
   "language": "python",
   "name": "python3"
  },
  "language_info": {
   "codemirror_mode": {
    "name": "ipython",
    "version": 3
   },
   "file_extension": ".py",
   "mimetype": "text/x-python",
   "name": "python",
   "nbconvert_exporter": "python",
   "pygments_lexer": "ipython3",
   "version": "3.11.4"
  }
 },
 "nbformat": 4,
 "nbformat_minor": 5
}
